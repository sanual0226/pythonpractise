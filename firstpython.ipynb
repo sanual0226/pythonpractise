{
  "cells": [
    {
      "metadata": {
        "trusted": true
      },
      "cell_type": "code",
      "source": "print (\"this is my first python programme\")",
      "execution_count": 89,
      "outputs": [
        {
          "output_type": "stream",
          "text": "this is my first python programme\n",
          "name": "stdout"
        }
      ]
    },
    {
      "metadata": {
        "trusted": true
      },
      "cell_type": "code",
      "source": "print(\"learning a new language in programming\")\nprint(\"it is a new tsk\")\nprint(\"hope it will be fine\")",
      "execution_count": 2,
      "outputs": [
        {
          "output_type": "stream",
          "text": "learning a new language in programming\nit is a new tsk\nhope it will be fine\n",
          "name": "stdout"
        }
      ]
    },
    {
      "metadata": {
        "trusted": true
      },
      "cell_type": "code",
      "source": "print(\"Hello World nyc!\")\nprint(\"Hello Again\")\nprint(\"I like typing this.\")\nprint(\"This is fun.\")\nprint('Yay! Printing.')\nprint(\"I'd much rather you 'not'.\")\nprint('I \"said\" do not touch this.')",
      "execution_count": 3,
      "outputs": [
        {
          "output_type": "stream",
          "text": "Hello World nyc!\nHello Again\nI like typing this.\nThis is fun.\nYay! Printing.\nI'd much rather you 'not'.\nI \"said\" do not touch this.\n",
          "name": "stdout"
        }
      ]
    },
    {
      "metadata": {
        "trusted": true
      },
      "cell_type": "code",
      "source": "print('i'm a python developer ')",
      "execution_count": 5,
      "outputs": [
        {
          "output_type": "error",
          "ename": "SyntaxError",
          "evalue": "invalid syntax (<ipython-input-5-b312e3028581>, line 1)",
          "traceback": [
            "\u001b[0;36m  File \u001b[0;32m\"<ipython-input-5-b312e3028581>\"\u001b[0;36m, line \u001b[0;32m1\u001b[0m\n\u001b[0;31m    print('i'm a python developer ')\u001b[0m\n\u001b[0m             ^\u001b[0m\n\u001b[0;31mSyntaxError\u001b[0m\u001b[0;31m:\u001b[0m invalid syntax\n"
          ]
        }
      ]
    },
    {
      "metadata": {
        "trusted": true
      },
      "cell_type": "code",
      "source": "# A comment, this is so you can read your program later.\n# Anything after the # is ignored by pyhton.\n\nprint(\"I could have code like this.\")  # and the comment after is ignored\n\n# You can also use a comment to \"disable\" or comment out a piece of code:\nprint (\"This won't run.\")\n\nprint(\"This will run.\")",
      "execution_count": 7,
      "outputs": [
        {
          "output_type": "stream",
          "text": "I could have code like this.\nThis won't run.\nThis will run.\n",
          "name": "stdout"
        }
      ]
    },
    {
      "metadata": {
        "trusted": true
      },
      "cell_type": "code",
      "source": "print(\"I will now count my chickens:\")\n\nprint(\"Hens\", 25 + 30 / 6)\n\nprint(\"Rosters\", 100 - 25 * 3 % 4)\n\nprint(\"Now I will count the eggs:\")\n\nprint(round(3 + 2 + 1 - 5 + 4 % 2 - 1 / 4 + 6))\n\nprint(\"Is it true that 3 + 2 < 5 - 7?\")\n\nprint(3 + 2 < 5 - 7)\n\nprint(\"What is 3 + 2?\", 3 + 2)\nprint(\"What is 5 - 7?\", 5 - 7)\n\nprint(\"Oh, that's why it's False.\")\n\nprint(\"How about some more.\")\n\nprint(\"It is greater?\", 5 > -2)\nprint(\"It is greater or equal?\", 5 >= -2)\nprint(\"It is less or equal?\", 5 <= -2)",
      "execution_count": 8,
      "outputs": [
        {
          "output_type": "stream",
          "text": "I will now count my chickens:\nHens 30.0\nRosters 97\nNow I will count the eggs:\n7\nIs it true that 3 + 2 < 5 - 7?\nFalse\nWhat is 3 + 2? 5\nWhat is 5 - 7? -2\nOh, that's why it's False.\nHow about some more.\nIt is greater? True\nIt is greater or equal? True\nIt is less or equal? False\n",
          "name": "stdout"
        }
      ]
    },
    {
      "metadata": {
        "trusted": true
      },
      "cell_type": "code",
      "source": "3 + 2 > 5 - 7",
      "execution_count": 10,
      "outputs": [
        {
          "output_type": "execute_result",
          "execution_count": 10,
          "data": {
            "text/plain": "True"
          },
          "metadata": {}
        }
      ]
    },
    {
      "metadata": {
        "trusted": true
      },
      "cell_type": "code",
      "source": "cars = 100\nspace_in_a_car = 4.0\ndrivers = 30\npassengers = 90\ncars_not_driven = cars - drivers\ncars_driven = drivers\ncarpool_capacity = cars_driven * space_in_a_car\naverage_passengers_per_car = passengers / cars_driven\n\nprint(\"There are\", cars, \"cars available.\")\nprint(\"There are only\", drivers, \"drivers available.\")\nprint(\"There will be\", cars_not_driven, \"empty cars today\")\nprint(\"We can transport\", carpool_capacity, \"people today.\")\nprint(\"We have\", passengers, \"to carpool today.\")\nprint(\"We need to put about\", average_passengers_per_car, \"in each car.\")",
      "execution_count": 11,
      "outputs": [
        {
          "output_type": "stream",
          "text": "There are 100 cars available.\nThere are only 30 drivers available.\nThere will be 70 empty cars today\nWe can transport 120.0 people today.\nWe have 90 to carpool today.\nWe need to put about 3.0 in each car.\n",
          "name": "stdout"
        }
      ]
    },
    {
      "metadata": {
        "trusted": true
      },
      "cell_type": "code",
      "source": "type(cars)",
      "execution_count": 12,
      "outputs": [
        {
          "output_type": "execute_result",
          "execution_count": 12,
          "data": {
            "text/plain": "int"
          },
          "metadata": {}
        }
      ]
    },
    {
      "metadata": {
        "trusted": true
      },
      "cell_type": "code",
      "source": "type (space_in_a_car) ",
      "execution_count": 14,
      "outputs": [
        {
          "output_type": "execute_result",
          "execution_count": 14,
          "data": {
            "text/plain": "float"
          },
          "metadata": {}
        }
      ]
    },
    {
      "metadata": {
        "trusted": true
      },
      "cell_type": "code",
      "source": "type (6/3)",
      "execution_count": 15,
      "outputs": [
        {
          "output_type": "execute_result",
          "execution_count": 15,
          "data": {
            "text/plain": "float"
          },
          "metadata": {}
        }
      ]
    },
    {
      "metadata": {
        "trusted": true
      },
      "cell_type": "code",
      "source": "i=100\ntype (i/3)",
      "execution_count": 16,
      "outputs": [
        {
          "output_type": "execute_result",
          "execution_count": 16,
          "data": {
            "text/plain": "float"
          },
          "metadata": {}
        }
      ]
    },
    {
      "metadata": {
        "trusted": true
      },
      "cell_type": "code",
      "source": "my_name = 'sam'\nmy_age = 35  # not a lie\nmy_height = 74  # inches\nmy_weight = 180  # lbs\nmy_eyes = 'Blue'\nmy_teeth = 'White'\nmy_hair = 'Brown'\n\nprint(f\"Let's talk about {my_name}.\")\nprint(f\"He's {my_height} inches tall.\")\nprint(f\"He's {my_weight} pounds heavy.\")\nprint(\"Actually that's not too heavy.\")\nprint(f\"He's got {my_eyes} eyes and {my_hair} hair.\")\nprint(f\"His teeth are usually {my_teeth} depending on the coffee.\")\n\n# this line is tricky, try to get it exactly right\ntotal = my_age + my_height + my_weight\nprint(\"If I add {my_age}, {my_height}, and {my_weight} I get {total}.\")",
      "execution_count": 20,
      "outputs": [
        {
          "output_type": "stream",
          "text": "Let's talk about sam.\nHe's 74 inches tall.\nHe's 180 pounds heavy.\nActually that's not too heavy.\nHe's got Blue eyes and Brown hair.\nHis teeth are usually White depending on the coffee.\nIf I add {my_age}, {my_height}, and {my_weight} I get {total}.\n",
          "name": "stdout"
        }
      ]
    },
    {
      "metadata": {
        "trusted": true
      },
      "cell_type": "code",
      "source": "types_of_people = f\"there are {binary}\"\nx = f\"There are {types_of_people} types of people.\"\n\nbinary = \"binary\"\nxxx = 1\ndo_not = \"don't\"\ny = f\"Those who know {xxx} and those who {do_not}.\"\n\nprint(x)\nprint(y)\n\nprint(f\"I said: {x}\")\nprint(f\"I also said : '{y}'.\")\n",
      "execution_count": 22,
      "outputs": [
        {
          "output_type": "stream",
          "text": "There are there are binary types of people.\nThose who know 1 and those who don't.\nI said: There are there are binary types of people.\nI also said : 'Those who know 1 and those who don't.'.\n",
          "name": "stdout"
        }
      ]
    },
    {
      "metadata": {
        "trusted": true
      },
      "cell_type": "code",
      "source": "hilarious = 786\n\njoke_evaluation = f\"Isn't that joke so funny?! {hilarious}\"\n\nprint(joke_evaluation)\n",
      "execution_count": 25,
      "outputs": [
        {
          "output_type": "stream",
          "text": "Isn't that joke so funny?! 786\n",
          "name": "stdout"
        }
      ]
    },
    {
      "metadata": {
        "trusted": true
      },
      "cell_type": "code",
      "source": "w = \"This is the left side of...\"\ne = \"a string with a right side.\"\n\nprint(w + e)",
      "execution_count": 26,
      "outputs": [
        {
          "output_type": "stream",
          "text": "This is the left side of...a string with a right side.\n",
          "name": "stdout"
        }
      ]
    },
    {
      "metadata": {
        "trusted": true
      },
      "cell_type": "code",
      "source": "w = 10\ne = 20\nprint(w + e)",
      "execution_count": 27,
      "outputs": [
        {
          "output_type": "stream",
          "text": "30\n",
          "name": "stdout"
        }
      ]
    },
    {
      "metadata": {
        "trusted": true
      },
      "cell_type": "code",
      "source": "type(w)",
      "execution_count": 28,
      "outputs": [
        {
          "output_type": "execute_result",
          "execution_count": 28,
          "data": {
            "text/plain": "int"
          },
          "metadata": {}
        }
      ]
    },
    {
      "metadata": {
        "trusted": true
      },
      "cell_type": "code",
      "source": "w",
      "execution_count": 29,
      "outputs": [
        {
          "output_type": "execute_result",
          "execution_count": 29,
          "data": {
            "text/plain": "10"
          },
          "metadata": {}
        }
      ]
    },
    {
      "metadata": {
        "trusted": true
      },
      "cell_type": "code",
      "source": "print(\"Mary had a little lamb.\")\nprint(\"Its fleece was white as {}. hgh hg hgh gh gf\".format('snow'))\nprint(\"And everywhere that Mary went.\")\nprint(\".\" * 10)  # what'd that do?\n\ns1 = \"x\"\ns2 = \"h\"\ns3 = \"e\"\ns4 = \"e\"\ns5 = \"s\"\nend6 = \"e\"\nend7 = \"B\"\nend8 = \"u\"\nend9 = \"r\"\nend10 = \"g\"\nend11 = \"e\"\nend12 = \"r\"\n\nprint(s1 + s2 + s3 + s4 + s5 + end6, end='   ')\nprint(end7 + end8 + end9 + end10 + end11 + end12)",
      "execution_count": 7,
      "outputs": [
        {
          "output_type": "stream",
          "text": "Mary had a little lamb.\nIts fleece was white as snow. hgh hg hgh gh gf\nAnd everywhere that Mary went.\n..........\nxheeseBurger\n",
          "name": "stdout"
        }
      ]
    },
    {
      "metadata": {
        "trusted": true
      },
      "cell_type": "code",
      "source": "ggg = 'jiiii'\nprint(\"Its fleece was white as {}. hgh hg hgh gh gf\".format(ggg))\n",
      "execution_count": 5,
      "outputs": [
        {
          "output_type": "stream",
          "text": "Its fleece was white as jiiii. hgh hg hgh gh gf\n",
          "name": "stdout"
        }
      ]
    },
    {
      "metadata": {
        "trusted": true
      },
      "cell_type": "code",
      "source": "formatter = \" very easy  {} {} {} {}\"\n\nprint(formatter.format(1, 2, 3, 4))\nprint(formatter.format(\"fan\", \"two\", \"three\", \"four\"))\nprint(formatter.format(\"True\", False, False, True))\nprint(formatter.format(formatter, formatter, formatter, formatter))\nprint(formatter.format(\"Try your\",\n                       \"Own text here\",\n                       \"Maybe a poem\",\n                       \"Or a song about fear\"\n                       ))",
      "execution_count": 18,
      "outputs": [
        {
          "output_type": "stream",
          "text": " very easy  1 2 3 4\n very easy  fan two three four\n very easy  True False False True\n very easy   very easy  {} {} {} {}  very easy  {} {} {} {}  very easy  {} {} {} {}  very easy  {} {} {} {}\n very easy  Try your Own text here Maybe a poem Or a song about fear\n",
          "name": "stdout"
        }
      ]
    },
    {
      "metadata": {
        "trusted": true
      },
      "cell_type": "code",
      "source": "formatter",
      "execution_count": 9,
      "outputs": [
        {
          "output_type": "execute_result",
          "execution_count": 9,
          "data": {
            "text/plain": "' very easy {} {} {} {}'"
          },
          "metadata": {}
        }
      ]
    },
    {
      "metadata": {
        "trusted": true
      },
      "cell_type": "code",
      "source": "type(True)",
      "execution_count": 19,
      "outputs": [
        {
          "output_type": "execute_result",
          "execution_count": 19,
          "data": {
            "text/plain": "bool"
          },
          "metadata": {}
        }
      ]
    },
    {
      "metadata": {
        "trusted": true
      },
      "cell_type": "code",
      "source": "type(\"True\")",
      "execution_count": 20,
      "outputs": [
        {
          "output_type": "execute_result",
          "execution_count": 20,
          "data": {
            "text/plain": "str"
          },
          "metadata": {}
        }
      ]
    },
    {
      "metadata": {
        "trusted": true
      },
      "cell_type": "code",
      "source": "True+10",
      "execution_count": 21,
      "outputs": [
        {
          "output_type": "execute_result",
          "execution_count": 21,
          "data": {
            "text/plain": "11"
          },
          "metadata": {}
        }
      ]
    },
    {
      "metadata": {
        "trusted": true
      },
      "cell_type": "code",
      "source": "type(\"True\"+10)",
      "execution_count": 22,
      "outputs": [
        {
          "output_type": "error",
          "ename": "TypeError",
          "evalue": "must be str, not int",
          "traceback": [
            "\u001b[0;31m---------------------------------------------------------------------------\u001b[0m",
            "\u001b[0;31mTypeError\u001b[0m                                 Traceback (most recent call last)",
            "\u001b[0;32m<ipython-input-22-731fc2296f0e>\u001b[0m in \u001b[0;36m<module>\u001b[0;34m\u001b[0m\n\u001b[0;32m----> 1\u001b[0;31m \u001b[0mtype\u001b[0m\u001b[0;34m(\u001b[0m\u001b[0;34m\"True\"\u001b[0m\u001b[0;34m+\u001b[0m\u001b[0;36m10\u001b[0m\u001b[0;34m)\u001b[0m\u001b[0;34m\u001b[0m\u001b[0m\n\u001b[0m",
            "\u001b[0;31mTypeError\u001b[0m: must be str, not int"
          ]
        }
      ]
    },
    {
      "metadata": {
        "trusted": true
      },
      "cell_type": "code",
      "source": "# Here's some new strange stuff, remember type it exactly.\n\ndays = \"Mon Tue Wed Thu Fri Sat Sun\"\nmonths = \"Jan\\n\\n\\nFeb\\nMar\\nApr\\nMay\\nJun\\nJul\\nAug\"\n\nprint(\"Here are the days:\", days)\nprint(\"Here are the months: \", months)\n\nprint(\"\"\"\nThere's something going on here.\n\n\n\n\nWith the three double-quotes.\nWe'll be able to type as much as we like.\nEven 4 lines if we want, or 5, or 6.\n\"\"\")",
      "execution_count": 26,
      "outputs": [
        {
          "output_type": "stream",
          "text": "Here are the days: Mon Tue Wed Thu Fri Sat Sun\nHere are the months:  Jan\n\n\nFeb\nMar\nApr\nMay\nJun\nJul\nAug\n\nThere's something going on here.\n\n\n\n\nWith the three double-quotes.\nWe'll be able to type as much as we like.\nEven 4 lines if we want, or 5, or 6.\n\n",
          "name": "stdout"
        }
      ]
    },
    {
      "metadata": {
        "trusted": true
      },
      "cell_type": "code",
      "source": "tabby_cat = \"\\tI'm tabbed in.\"\npersian_cat = \"I'm split\\non a line.\"\nbackslash_cat = \"I'm \\\\ a \\\\ cat.\"\n\nfat_cat = \"\"\"\nI'll do a list:\n\\t* Cat food\n\\t* Fishes\n\\t* Catnip\\n\\t* Grass\n\"\"\"\n\nprint(tabby_cat)\nprint(persian_cat)\nprint(backslash_cat)\nprint(fat_cat)\n",
      "execution_count": 27,
      "outputs": [
        {
          "output_type": "stream",
          "text": "\tI'm tabbed in.\nI'm split\non a line.\nI'm \\ a \\ cat.\n\nI'll do a list:\n\t* Cat food\n\t* Fishes\n\t* Catnip\n\t* Grass\n\n",
          "name": "stdout"
        }
      ]
    },
    {
      "metadata": {
        "trusted": true
      },
      "cell_type": "code",
      "source": "print(\"How old are you?\", end=' ')\nage = input()\nprint(\"How tall are you?\", end=' ')\nheight = input()\nprint(\"How much do you weight?\", end=' ')\nweight = input()\n\n\nprint(\"what you are eating?\", end=' ')\nfood = input()\nprint(\"what is your fav color?\", end=' ')\ncolors = input()\n\nprint(f\"So, you're {age} old, {height} tall and {weight} heavy. you like {food},your fav color is {colors}\")\n",
      "execution_count": 31,
      "outputs": [
        {
          "output_type": "stream",
          "text": "How old are you? jh\nHow tall are you? jkj\nHow much do you weight? j\nwhat you are eating? j\nwhat is your fav color? j\n",
          "name": "stdout"
        },
        {
          "output_type": "error",
          "ename": "NameError",
          "evalue": "name 'foods' is not defined",
          "traceback": [
            "\u001b[0;31m---------------------------------------------------------------------------\u001b[0m",
            "\u001b[0;31mNameError\u001b[0m                                 Traceback (most recent call last)",
            "\u001b[0;32m<ipython-input-31-3a796ef52f1c>\u001b[0m in \u001b[0;36m<module>\u001b[0;34m\u001b[0m\n\u001b[1;32m     12\u001b[0m \u001b[0mcolors\u001b[0m \u001b[0;34m=\u001b[0m \u001b[0minput\u001b[0m\u001b[0;34m(\u001b[0m\u001b[0;34m)\u001b[0m\u001b[0;34m\u001b[0m\u001b[0m\n\u001b[1;32m     13\u001b[0m \u001b[0;34m\u001b[0m\u001b[0m\n\u001b[0;32m---> 14\u001b[0;31m \u001b[0mprint\u001b[0m\u001b[0;34m(\u001b[0m\u001b[0;34mf\"So, you're {age} old, {height} tall and {weight} heavy. you like {foods},your fav color is {colors}\"\u001b[0m\u001b[0;34m)\u001b[0m\u001b[0;34m\u001b[0m\u001b[0m\n\u001b[0m",
            "\u001b[0;31mNameError\u001b[0m: name 'foods' is not defined"
          ]
        }
      ]
    },
    {
      "metadata": {
        "trusted": true
      },
      "cell_type": "code",
      "source": "from sys import argv\n\n# read the WYSS section for how to run this\nfirst, second, third = argv\n\nprint(\"Your first variable is:\", first)\nprint(\"Your second variable is:\", second)\nprint(\"Your third variable is:\", third)\n",
      "execution_count": 32,
      "outputs": [
        {
          "output_type": "stream",
          "text": "Your first variable is: /home/nbuser/anaconda3_501/lib/python3.6/site-packages/ipykernel/__main__.py\nYour second variable is: -f\nYour third variable is: /home/nbuser/.local/share/jupyter/runtime/kernel-998bef47-d1a6-4eac-b650-a0be9bce115a.json\n",
          "name": "stdout"
        }
      ]
    },
    {
      "metadata": {
        "trusted": true
      },
      "cell_type": "code",
      "source": "argv",
      "execution_count": 33,
      "outputs": [
        {
          "output_type": "execute_result",
          "execution_count": 33,
          "data": {
            "text/plain": "['/home/nbuser/anaconda3_501/lib/python3.6/site-packages/ipykernel/__main__.py',\n '-f',\n '/home/nbuser/.local/share/jupyter/runtime/kernel-998bef47-d1a6-4eac-b650-a0be9bce115a.json']"
          },
          "metadata": {}
        }
      ]
    },
    {
      "metadata": {
        "trusted": true
      },
      "cell_type": "code",
      "source": "type(argv)",
      "execution_count": 34,
      "outputs": [
        {
          "output_type": "execute_result",
          "execution_count": 34,
          "data": {
            "text/plain": "list"
          },
          "metadata": {}
        }
      ]
    },
    {
      "metadata": {
        "trusted": true
      },
      "cell_type": "code",
      "source": "list1 = ['physics', 'chemistry', 1997, 2000];\nlist2 = [1, 2, 3, 4, 5 ];\nlist3 = [\"a\", \"b\", \"c\", \"d\"]",
      "execution_count": 35,
      "outputs": []
    },
    {
      "metadata": {
        "trusted": true
      },
      "cell_type": "code",
      "source": "list1[0]",
      "execution_count": 37,
      "outputs": [
        {
          "output_type": "execute_result",
          "execution_count": 37,
          "data": {
            "text/plain": "'physics'"
          },
          "metadata": {}
        }
      ]
    },
    {
      "metadata": {
        "trusted": true
      },
      "cell_type": "code",
      "source": "list2[4]",
      "execution_count": 38,
      "outputs": [
        {
          "output_type": "execute_result",
          "execution_count": 38,
          "data": {
            "text/plain": "5"
          },
          "metadata": {}
        }
      ]
    },
    {
      "metadata": {
        "trusted": true
      },
      "cell_type": "code",
      "source": "argv[0]",
      "execution_count": 39,
      "outputs": [
        {
          "output_type": "execute_result",
          "execution_count": 39,
          "data": {
            "text/plain": "'/home/nbuser/anaconda3_501/lib/python3.6/site-packages/ipykernel/__main__.py'"
          },
          "metadata": {}
        }
      ]
    },
    {
      "metadata": {
        "trusted": true
      },
      "cell_type": "code",
      "source": "list2",
      "execution_count": 40,
      "outputs": [
        {
          "output_type": "execute_result",
          "execution_count": 40,
          "data": {
            "text/plain": "[1, 2, 3, 4, 5]"
          },
          "metadata": {}
        }
      ]
    },
    {
      "metadata": {
        "trusted": true
      },
      "cell_type": "code",
      "source": "from sys import argv\n\nscript, user_name,xxx = argv\nprompt = '> '\n\nprint(f\"Hi {user_name}, I'm the {script} script.\")\nprint(\"I'd like to ask you a few questions.\")\nprint(f\"Do you like me {user_name}?\")\nlikes = input(prompt)\n\nprint(f\"Where do you live {user_name}?\")\nlives = input(prompt)\n\nprint(\"What kind of computer do you have?\")\ncomputer = input(prompt)\n\nprint(f\"\"\"\nAlright, so you said {likes} about liking me.\nYou live in {lives}. Not sure where that is.\nAnd you have a {computer} computer. Nice.\n\"\"\")",
      "execution_count": 42,
      "outputs": [
        {
          "output_type": "stream",
          "text": "Hi -f, I'm the /home/nbuser/anaconda3_501/lib/python3.6/site-packages/ipykernel/__main__.py script.\nI'd like to ask you a few questions.\nDo you like me -f?\n> yes\nWhere do you live -f?\n> ny\nWhat kind of computer do you have?\n> amd\n\nAlright, so you said yes about liking me.\nYou live in ny. Not sure where that is.\nAnd you have a amd computer. Nice.\n\n",
          "name": "stdout"
        }
      ]
    },
    {
      "metadata": {
        "trusted": true
      },
      "cell_type": "code",
      "source": "likes",
      "execution_count": 43,
      "outputs": [
        {
          "output_type": "execute_result",
          "execution_count": 43,
          "data": {
            "text/plain": "'yes'"
          },
          "metadata": {}
        }
      ]
    },
    {
      "metadata": {
        "trusted": true,
        "scrolled": true
      },
      "cell_type": "code",
      "source": "from sys import argv\n\nscript,u, filename = argv\n\n\ntxt = open(filename)\n\nprint(f\"Here's your file {filename}:\")\nprint(txt.read())\n\nprint(\"Type the filename again:\")\nfile_again = input(\"> \")\n\ntxt_again = open(file_again)\n\nprint(txt_again.read())",
      "execution_count": 50,
      "outputs": [
        {
          "output_type": "stream",
          "text": "Here's your file /home/nbuser/.local/share/jupyter/runtime/kernel-998bef47-d1a6-4eac-b650-a0be9bce115a.json:\n{\n  \"shell_port\": 51449,\n  \"iopub_port\": 40607,\n  \"stdin_port\": 50817,\n  \"control_port\": 47043,\n  \"hb_port\": 53955,\n  \"ip\": \"127.0.0.1\",\n  \"key\": \"65f52099-cc6bfef0c8361154d6c9c5f4\",\n  \"transport\": \"tcp\",\n  \"signature_scheme\": \"hmac-sha256\",\n  \"kernel_name\": \"\"\n}\nType the filename again:\n> README.md\nsam\n",
          "name": "stdout"
        }
      ]
    },
    {
      "metadata": {
        "trusted": true
      },
      "cell_type": "code",
      "source": "filename",
      "execution_count": 46,
      "outputs": [
        {
          "output_type": "execute_result",
          "execution_count": 46,
          "data": {
            "text/plain": "'-f'"
          },
          "metadata": {}
        }
      ]
    },
    {
      "metadata": {
        "trusted": true
      },
      "cell_type": "code",
      "source": "argv",
      "execution_count": 47,
      "outputs": [
        {
          "output_type": "execute_result",
          "execution_count": 47,
          "data": {
            "text/plain": "['/home/nbuser/anaconda3_501/lib/python3.6/site-packages/ipykernel/__main__.py',\n '-f',\n '/home/nbuser/.local/share/jupyter/runtime/kernel-998bef47-d1a6-4eac-b650-a0be9bce115a.json']"
          },
          "metadata": {}
        }
      ]
    },
    {
      "metadata": {
        "trusted": true
      },
      "cell_type": "code",
      "source": "from sys import argv\nfilename = 'Readme.md'\n\nprint(f\"We're going to erase {filename}.\")\nprint(\"If you don't want that, hit CTRL-C (^C).\")\nprint(\"If you do want that, hit RETURN.\")\n\ninput(\"?\")\n\nprint(\"Opening the file...\")\ntarget = open(filename, 'w')\n\nprint(\"Truncating the file. Goodbye!\")\ntarget.truncate()\n\nprint(\"Now I'm going to ask you for three lines.\")\n\nline1 = input(\"line1: \")\nline2 = input(\"line2: \")\nline3 = input(\"line3: \")\n\nprint(\"I'm going to write these to the file.\")\n\ntarget.write(line1)\ntarget.write(\"\\n\")\ntarget.write(line2)\ntarget.write(\"\\n\")\ntarget.write(line3)\ntarget.write(\"\\n\")\n\nprint(\"And finally, we close it.\")\ntarget.close()\n",
      "execution_count": 52,
      "outputs": [
        {
          "output_type": "stream",
          "text": "We're going to erase Readme.md.\nIf you don't want that, hit CTRL-C (^C).\nIf you do want that, hit RETURN.\n?\nOpening the file...\nTruncating the file. Goodbye!\nNow I'm going to ask you for three lines.\nline1: my  name is sam\nline2: live i9n ny\nline3: gsfgsdfg\nI'm going to write these to the file.\nAnd finally, we close it.\n",
          "name": "stdout"
        }
      ]
    },
    {
      "metadata": {
        "trusted": true
      },
      "cell_type": "code",
      "source": "filename = 'Readme.md'\n\nprint(\"Opening the file...\")\noutfile = open(filename, 'w')\n\nprint(\"Now I'm going to ask you for three lines.\")\n\nline1 = input(\"line1: \")\nline2 = input(\"line2: \")\nline3 = input(\"line3: \")\n\nprint(\"I'm going to write these to the file.\")\n\noutfile.write(line1)\noutfile.write(\"\\n\")\noutfile.write(line2)\noutfile.write(\"\\n\")\noutfile.write(line3)\noutfile.write(\"\\n\")\n\nprint(\"And finally, we close it.\")\ntarget.close()",
      "execution_count": 56,
      "outputs": [
        {
          "output_type": "stream",
          "text": "Opening the file...\nNow I'm going to ask you for three lines.\nline1: usa\nline2: ny\nline3: india\nI'm going to write these to the file.\nAnd finally, we close it.\n",
          "name": "stdout"
        }
      ]
    },
    {
      "metadata": {
        "trusted": true
      },
      "cell_type": "code",
      "source": "from sys import argv\n\nscript, filename = argv\n\nprint(f\"We're going to erase {filename}.\")\nprint(\"If you don't want that, hit CTRL-C (^C).\")\nprint(\"If you do want that, hit RETURN.\")\n\ninput(\"?\")\n\nprint(\"Opening the file...\")\ntarget = open(filename, 'w')\n\nprint(\"Truncating the file. Goodbye!\")\ntarget.truncate()\n\nprint(\"Now I'm going to ask you for three lines.\")\n\nline1 = input(\"line1: \")\nline2 = input(\"line2: \")\nline3 = input(\"line3: \")\n\nprint(\"I'm going to write these to the file.\")\n\ntarget.write(line1)\ntarget.write(\"\\n\")\ntarget.write(line2)\ntarget.write(\"\\n\")\ntarget.write(line3)\ntarget.write(\"\\n\")\n\nprint(\"And finally, we close it.\")\ntarget.close()",
      "execution_count": 54,
      "outputs": [
        {
          "output_type": "error",
          "ename": "ValueError",
          "evalue": "too many values to unpack (expected 2)",
          "traceback": [
            "\u001b[0;31m---------------------------------------------------------------------------\u001b[0m",
            "\u001b[0;31mValueError\u001b[0m                                Traceback (most recent call last)",
            "\u001b[0;32m<ipython-input-54-d9762104797d>\u001b[0m in \u001b[0;36m<module>\u001b[0;34m\u001b[0m\n\u001b[1;32m      1\u001b[0m \u001b[0;32mfrom\u001b[0m \u001b[0msys\u001b[0m \u001b[0;32mimport\u001b[0m \u001b[0margv\u001b[0m\u001b[0;34m\u001b[0m\u001b[0m\n\u001b[1;32m      2\u001b[0m \u001b[0;34m\u001b[0m\u001b[0m\n\u001b[0;32m----> 3\u001b[0;31m \u001b[0mscript\u001b[0m\u001b[0;34m,\u001b[0m \u001b[0mfilename\u001b[0m \u001b[0;34m=\u001b[0m \u001b[0margv\u001b[0m\u001b[0;34m\u001b[0m\u001b[0m\n\u001b[0m\u001b[1;32m      4\u001b[0m \u001b[0;34m\u001b[0m\u001b[0m\n\u001b[1;32m      5\u001b[0m \u001b[0mprint\u001b[0m\u001b[0;34m(\u001b[0m\u001b[0;34mf\"We're going to erase {filename}.\"\u001b[0m\u001b[0;34m)\u001b[0m\u001b[0;34m\u001b[0m\u001b[0m\n",
            "\u001b[0;31mValueError\u001b[0m: too many values to unpack (expected 2)"
          ]
        }
      ]
    },
    {
      "metadata": {
        "trusted": true
      },
      "cell_type": "code",
      "source": "from os.path import exists\nfrom sys import argv\n\n#script, from_file, to_file = argv\nfrom_file='README.md'\nto_file = 'Readme2.md'\n\nprint(f\"Copying from {from_file} to {to_file}\")\n\n# we could do these two on one line too, how?\nin_file = open(from_file)\nindata = in_file.read()\n\nprint(f\"The input file is {len(indata)} bytes long\")\n\nprint(f\"Does the output file exists? {exists(to_file)}\")\nprint(\"Ready, hit RETURN to continue, CTRL-C to abort.\")\ninput()\n\nout_file = open(to_file, 'w')\nout_file.write(indata)\n\nprint(\"Alright, all done.\")\n\nout_file.close()\nin_file.close()",
      "execution_count": 60,
      "outputs": [
        {
          "output_type": "stream",
          "text": "Copying from README.md to Readme2.md\nThe input file is 6 bytes long\nDoes the output file exists? True\nReady, hit RETURN to continue, CTRL-C to abort.\n\nAlright, all done.\n",
          "name": "stdout"
        }
      ]
    },
    {
      "metadata": {
        "trusted": true
      },
      "cell_type": "code",
      "source": "Skip to content\nWhy GitHub? \nBusiness\nExplore \nMarketplace\nPricing \n\nSearch\n\nSign in\nSign up\n2 10 7 ubarredo/LearnPythonTheHardWay\n Code  Issues 0  Pull requests 0  Projects 0  Insights\nJoin GitHub today\nGitHub is home to over 28 million developers working together to host and review code, manage projects, and build software together.\n\nLearnPythonTheHardWay/ex18.py\n571118a  on Jun 28, 2017\n@ubarredo ubarredo Initial commit\n     \nExecutable File  26 lines (17 sloc)  513 Bytes\n# this one is like your scripts with argv\ndef print_two(*args):\n    arg1, arg2 = args\n    print(f\"arg1: {arg1}, arg2: {arg2}\")\n\n\n# ok, that *args is actually pointless, we can just do this\ndef print_two_again(arg1, arg2):\n    print(f\"arg1: {arg1}, arg2: {arg2}\")\n\n\n# this just takes one argument\ndef print_one(arg1):\n    print(f\"arg1: {arg1}\")\n\n\n# this one takes no arguments\ndef print_none():\n    print(\"I got nothin'.\")\n\n\nprint_two(\"Zed\", \"Shaw\")\nprint_two_again(\"Zed\", \"Shaw\")\nprint_one(\"First!\")\nprint_none()\n© 2018 GitHub, Inc.\nTerms\nPrivacy\nSecurity\nStatus\nHelp\nContact GitHub\nPricing\nAPI\nTraining\nBlog\nAbout\nPress h to open a hovercard with more details.",
      "execution_count": 61,
      "outputs": [
        {
          "output_type": "error",
          "ename": "SyntaxError",
          "evalue": "invalid syntax (<ipython-input-61-060c028974e3>, line 1)",
          "traceback": [
            "\u001b[0;36m  File \u001b[0;32m\"<ipython-input-61-060c028974e3>\"\u001b[0;36m, line \u001b[0;32m1\u001b[0m\n\u001b[0;31m    Skip to content\u001b[0m\n\u001b[0m          ^\u001b[0m\n\u001b[0;31mSyntaxError\u001b[0m\u001b[0;31m:\u001b[0m invalid syntax\n"
          ]
        }
      ]
    },
    {
      "metadata": {
        "trusted": true
      },
      "cell_type": "code",
      "source": "# this one is like your scripts with argv\ndef print_two(*args):\n    in1, in2,in3 = args\n    print(f\"in1: {in1}, in2: {in2},{in3}\")\n\n\n# ok, that *args is actually pointless, we can just do this\ndef print_two_again(in1, in2,in3):\n    print(f\"in1: {in1}, in2: {in2}, {in3}\")\n\n\n# this just takes one argument\ndef print_one(in1):\n    print(f\"in1: {in1}\")\n\n\n# this one takes no arguments\ndef print_none():\n    print(\"I got nothin'.\")\n\n\nprint_two(\"Zed\", \"Shaw\", \"ccc\")\nprint_two_again(\"Zed\", \"Shaw\", \"ccc\")\nprint_one(\"First!\")\nprint_none()",
      "execution_count": 75,
      "outputs": [
        {
          "output_type": "stream",
          "text": "in1: Zed, in2: Shaw,ccc\nin1: Zed, in2: Shaw, ccc\nin1: First!\nI got nothin'.\n",
          "name": "stdout"
        }
      ]
    },
    {
      "metadata": {
        "trusted": true
      },
      "cell_type": "code",
      "source": "print_none()",
      "execution_count": 68,
      "outputs": [
        {
          "output_type": "stream",
          "text": "I got nothin'.\n",
          "name": "stdout"
        }
      ]
    },
    {
      "metadata": {
        "trusted": true
      },
      "cell_type": "code",
      "source": "def cheese_and_crackers(cheese_count, boxes_of_crackers):\n    print(f\"You have {cheese_count} cheeses!\")\n    print(f\"You have {boxes_of_crackers} boxes of crackers!\")\n    print(\"Man that's enought for a party!\")\n    print(\"Get a blanket.\\n\")\n\n\nprint(\"We can just give the function numbers directly:\")\ncheese_and_crackers(20, 30)\n\nprint(\"OR, we can use variables from our script:\")\namount_of_cheese = 10\namount_of_crackers = 50\n\ncheese_and_crackers(amount_of_cheese, amount_of_crackers)\n\nprint(\"We can even do math inside too:\")\ncheese_and_crackers(10 + 20, 5 + 6)\n\nprint(\"And we can combine the two, variables and math:\")\ncheese_and_crackers(amount_of_cheese + 100, amount_of_crackers + 1000)",
      "execution_count": 76,
      "outputs": [
        {
          "output_type": "stream",
          "text": "We can just give the function numbers directly:\nYou have 20 cheeses!\nYou have 30 boxes of crackers!\nMan that's enought for a party!\nGet a blanket.\n\nOR, we can use variables from our script:\nYou have 10 cheeses!\nYou have 50 boxes of crackers!\nMan that's enought for a party!\nGet a blanket.\n\nWe can even do math inside too:\nYou have 30 cheeses!\nYou have 11 boxes of crackers!\nMan that's enought for a party!\nGet a blanket.\n\nAnd we can combine the two, variables and math:\nYou have 110 cheeses!\nYou have 1050 boxes of crackers!\nMan that's enought for a party!\nGet a blanket.\n\n",
          "name": "stdout"
        }
      ]
    },
    {
      "metadata": {
        "trusted": true
      },
      "cell_type": "code",
      "source": "\n\ninput_file = 'README.md'\n\n\ndef print_all(f):\n    print(f.read())\n\n\ndef rewind(f):\n    f.seek(0)\n\n\ndef print_a_line(line_count, f):\n    print(line_count, f.readline())\n\n\ncurrent_file = open(input_file)\n\nprint(\"First let's print the whole file:\\n\")\n\n",
      "execution_count": 79,
      "outputs": [
        {
          "output_type": "stream",
          "text": "First let's print the whole file:\n\nny\nusa\nNow let's rewind, kind of like a tape.\nLet's print three lines:\n1 ny\n\n2 usa\n3 \n",
          "name": "stdout"
        }
      ]
    },
    {
      "metadata": {
        "trusted": true
      },
      "cell_type": "code",
      "source": "print_all(current_file)\n\nprint(\"Now let's rewind, kind of like a tape.\")\n\n",
      "execution_count": 80,
      "outputs": [
        {
          "output_type": "stream",
          "text": "\nNow let's rewind, kind of like a tape.\n",
          "name": "stdout"
        }
      ]
    },
    {
      "metadata": {
        "trusted": true
      },
      "cell_type": "code",
      "source": "rewind(current_file)\n\nprint(\"Let's print three lines:\")\n\n",
      "execution_count": 81,
      "outputs": [
        {
          "output_type": "stream",
          "text": "Let's print three lines:\n",
          "name": "stdout"
        }
      ]
    },
    {
      "metadata": {
        "trusted": true
      },
      "cell_type": "code",
      "source": "current_line = 1\nprint_a_line(current_line, current_file)\n\ncurrent_line = current_line + 1\nprint_a_line(current_line, current_file)\n\ncurrent_line = current_line + 1\nprint_a_line(current_line, current_file)",
      "execution_count": 82,
      "outputs": [
        {
          "output_type": "stream",
          "text": "1 ny\n\n2 usa\n3 \n",
          "name": "stdout"
        }
      ]
    },
    {
      "metadata": {
        "trusted": true
      },
      "cell_type": "code",
      "source": "current_file.readline()",
      "execution_count": 94,
      "outputs": [
        {
          "output_type": "execute_result",
          "execution_count": 94,
          "data": {
            "text/plain": "'usa'"
          },
          "metadata": {}
        }
      ]
    },
    {
      "metadata": {
        "trusted": true
      },
      "cell_type": "code",
      "source": "current_file.seek(0)",
      "execution_count": 92,
      "outputs": [
        {
          "output_type": "execute_result",
          "execution_count": 92,
          "data": {
            "text/plain": "0"
          },
          "metadata": {}
        }
      ]
    },
    {
      "metadata": {
        "trusted": true
      },
      "cell_type": "code",
      "source": "\n\ninput_file = 'README.md'\n\n\ndef print_all(f):\n    print(f.read())\n\n\ndef rewind(f):\n    f.seek(0)\n\n\ndef print_a_line(line_count, f):\n    print(line_count, f.readline())\n\n\ncurrent_file = open(input_file)\n\nprint(\"First let's print the whole file:\\n\")\n\nprint_all(current_file)\n\nprint(\"Now let's rewind, kind of like a tape.\")\n\nrewind(current_file)\n\nprint(\"Let's print three lines:\")\n\ncurrent_line = 1\nprint_a_line(current_line, current_file)\n\ncurrent_line = current_line + 1\nprint_a_line(current_line, current_file)\n\ncurrent_line = current_line + 1\nprint_a_line(current_line, current_file)",
      "execution_count": 2,
      "outputs": [
        {
          "output_type": "stream",
          "text": "First let's print the whole file:\n\nny\nusa\nNow let's rewind, kind of like a tape.\nLet's print three lines:\n1 ny\n\n2 usa\n3 \n",
          "name": "stdout"
        }
      ]
    },
    {
      "metadata": {
        "trusted": true
      },
      "cell_type": "code",
      "source": "input_file = 'README.md'\n\n\ndef print_all(f):\n    print(f.read())\n\n\ndef rewind(f):\n    f.seek(0)\n\n\ndef print_a_line(line_count, f):\n    print(line_count, f.readline())",
      "execution_count": 3,
      "outputs": []
    },
    {
      "metadata": {
        "trusted": true
      },
      "cell_type": "code",
      "source": "current_file = open(\"README.md\")\n\nprint_all(current_file)",
      "execution_count": 5,
      "outputs": [
        {
          "output_type": "stream",
          "text": "This is line 1 - Hello how are you today\nLine 2 - have a good day\nLine 3 - Hope to see you soon\n",
          "name": "stdout"
        }
      ]
    },
    {
      "metadata": {
        "trusted": true
      },
      "cell_type": "code",
      "source": "rewind(current_file)",
      "execution_count": 6,
      "outputs": []
    },
    {
      "metadata": {
        "trusted": true
      },
      "cell_type": "code",
      "source": "print_a_line(1, current_file)",
      "execution_count": 7,
      "outputs": [
        {
          "output_type": "stream",
          "text": "1 This is line 1 - Hello how are you today\n\n",
          "name": "stdout"
        }
      ]
    },
    {
      "metadata": {
        "trusted": true
      },
      "cell_type": "code",
      "source": "current_file.readline()",
      "execution_count": 8,
      "outputs": [
        {
          "output_type": "execute_result",
          "execution_count": 8,
          "data": {
            "text/plain": "'Line 2 - have a good day\\n'"
          },
          "metadata": {}
        }
      ]
    },
    {
      "metadata": {
        "trusted": true
      },
      "cell_type": "code",
      "source": "current_file.readline()",
      "execution_count": 9,
      "outputs": [
        {
          "output_type": "execute_result",
          "execution_count": 9,
          "data": {
            "text/plain": "'Line 3 - Hope to see you soon'"
          },
          "metadata": {}
        }
      ]
    },
    {
      "metadata": {
        "trusted": true
      },
      "cell_type": "code",
      "source": "def add(a, b):\n    print(f\"ADDING {a} + {b}\")\n    return a + b\n\n\ndef subtract(a, b):\n    print(f\"SUBTRACTING {a} - {b}\")\n    return a - b\n\n\ndef multiply(a, b):\n    print(f\"MULTIPLYING {a} * {b}\")\n    return a * b\n\n\ndef divide(a, b):\n    print(f\"DIVIDING {a} / {b}\")\n    return a / b\n\n\nprint(\"Let's do some math with just functions!\")\n\nage = add(30, 5)\nheight = subtract(78, 4)\nweight = multiply(90, 2)\niq = divide(100, 2)\n\nprint(f\"Age: {age}, Height: {height}, Weight: {weight}, IQ: {iq}\")\n\n# A puzzle for the extra credit, type it in anyway.\nprint(\"Here is a puzzle.\")\n\nwhat = add(age, subtract(height, multiply(weight, divide(iq, 2))))\nprint(\"That becomes: \", what, \"Can you do it by hand?\")",
      "execution_count": 10,
      "outputs": [
        {
          "output_type": "stream",
          "text": "Let's do some math with just functions!\nADDING 30 + 5\nSUBTRACTING 78 - 4\nMULTIPLYING 90 * 2\nDIVIDING 100 / 2\nAge: 35, Height: 74, Weight: 180, IQ: 50.0\nHere is a puzzle.\nDIVIDING 50.0 / 2\nMULTIPLYING 180 * 25.0\nSUBTRACTING 74 - 4500.0\nADDING 35 + -4426.0\nThat becomes:  -4391.0 Can you do it by hand?\n",
          "name": "stdout"
        }
      ]
    },
    {
      "metadata": {
        "trusted": true
      },
      "cell_type": "code",
      "source": "x=divide(7,3)\nx",
      "execution_count": 19,
      "outputs": [
        {
          "output_type": "stream",
          "text": "DIVIDING 7 / 3\n",
          "name": "stdout"
        },
        {
          "output_type": "execute_result",
          "execution_count": 19,
          "data": {
            "text/plain": "2.3333333333333335"
          },
          "metadata": {}
        }
      ]
    },
    {
      "metadata": {
        "trusted": true
      },
      "cell_type": "code",
      "source": "def add2(a, b):\n    print(f\"ADDING {a} + {b}\")\n    print('not retutrning aanything')\n\n",
      "execution_count": 16,
      "outputs": []
    },
    {
      "metadata": {
        "trusted": true
      },
      "cell_type": "code",
      "source": "x=add2(2,6)\nx",
      "execution_count": 17,
      "outputs": [
        {
          "output_type": "stream",
          "text": "ADDING 2 + 6\nnot retutrning aanything\n",
          "name": "stdout"
        }
      ]
    },
    {
      "metadata": {
        "trusted": true
      },
      "cell_type": "code",
      "source": "x",
      "execution_count": 18,
      "outputs": []
    },
    {
      "metadata": {
        "trusted": true
      },
      "cell_type": "code",
      "source": "import sys\n\nscript, input_encoding, error = sys.argv\n\n\ndef main(language_file, encoding, errors):\n    line = language_file.readline()\n\n    if line:\n        print_line(line, encoding, errors)\n        return main(language_file, encoding, errors)\n\n\ndef print_line(line, encoding, errors):\n    next_lang = line.strip()\n    raw_bytes = next_lang.encode(encoding, errors=errors)\n    cooked_string = raw_bytes.decode(encoding, errors=errors)\n\n    print(raw_bytes, \"<==>\", cooked_string)\n\n\nlanguages = open(\"languages.txt\", encoding=\"utf-8\")\n\nmain(languages, input_encoding, error)",
      "execution_count": 20,
      "outputs": [
        {
          "output_type": "error",
          "ename": "FileNotFoundError",
          "evalue": "[Errno 2] No such file or directory: 'languages.txt'",
          "traceback": [
            "\u001b[0;31m---------------------------------------------------------------------------\u001b[0m",
            "\u001b[0;31mFileNotFoundError\u001b[0m                         Traceback (most recent call last)",
            "\u001b[0;32m<ipython-input-20-f4ca19ef2ed3>\u001b[0m in \u001b[0;36m<module>\u001b[0;34m\u001b[0m\n\u001b[1;32m     20\u001b[0m \u001b[0;34m\u001b[0m\u001b[0m\n\u001b[1;32m     21\u001b[0m \u001b[0;34m\u001b[0m\u001b[0m\n\u001b[0;32m---> 22\u001b[0;31m \u001b[0mlanguages\u001b[0m \u001b[0;34m=\u001b[0m \u001b[0mopen\u001b[0m\u001b[0;34m(\u001b[0m\u001b[0;34m\"languages.txt\"\u001b[0m\u001b[0;34m,\u001b[0m \u001b[0mencoding\u001b[0m\u001b[0;34m=\u001b[0m\u001b[0;34m\"utf-8\"\u001b[0m\u001b[0;34m)\u001b[0m\u001b[0;34m\u001b[0m\u001b[0m\n\u001b[0m\u001b[1;32m     23\u001b[0m \u001b[0;34m\u001b[0m\u001b[0m\n\u001b[1;32m     24\u001b[0m \u001b[0mmain\u001b[0m\u001b[0;34m(\u001b[0m\u001b[0mlanguages\u001b[0m\u001b[0;34m,\u001b[0m \u001b[0minput_encoding\u001b[0m\u001b[0;34m,\u001b[0m \u001b[0merror\u001b[0m\u001b[0;34m)\u001b[0m\u001b[0;34m\u001b[0m\u001b[0m\n",
            "\u001b[0;31mFileNotFoundError\u001b[0m: [Errno 2] No such file or directory: 'languages.txt'"
          ]
        }
      ]
    },
    {
      "metadata": {
        "trusted": true
      },
      "cell_type": "code",
      "source": "print(\"Let's practice everything.\")\nprint('You\\'d need to know \\'bout escapes with \\\\ that do:')\nprint('\\n newlines and \\t tabs.')\n\npoem = \"\"\"\n\\tThe lovely world\nwith logic so firmly planted\ncannot discern \\n the needs of love\nnor comprehend passion from intuition\nand requires an explanation\n\\n\\t\\twhere there is none.\n\"\"\"\n\nprint(\"--------------\")\nprint(poem)\nprint(\"--------------\")\n\nfive = 10 - 2 + 3 - 6\nprint(f\"This should be five: {five}\")\n\n\ndef secret_formula(started):\n    jelly_beans = started * 500\n    jars = jelly_beans / 1000\n    crates = jars / 100\n    return jelly_beans, jars, crates\n\n\nstart_point = 10000\nbeans, jars, crates = secret_formula(start_point)\n\n# remember that this is another way to format string\nprint(\"With a starting point of: {}\".format(start_point))\n# it's just like with an f\"\" string\nprint(f\"We'd have {beans} beans, {jars} jars, and {crates} crates.\")\n\nstart_point = start_point / 10\n\nprint(\"We can also do that this way:\")\nformula = secret_formula(start_point)\n# this is an easy way to apply a list to a format string\nprint(\"We'd have {} beans, {} jars, and {} crates.\".format(*formula))",
      "execution_count": 21,
      "outputs": [
        {
          "output_type": "stream",
          "text": "Let's practice everything.\nYou'd need to know 'bout escapes with \\ that do:\n\n newlines and \t tabs.\n--------------\n\n\tThe lovely world\nwith logic so firmly planted\ncannot discern \n the needs of love\nnor comprehend passion from intuition\nand requires an explanation\n\n\t\twhere there is none.\n\n--------------\nThis should be five: 5\nWith a starting point of: 10000\nWe'd have 5000000 beans, 5000.0 jars, and 50.0 crates.\nWe can also do that this way:\nWe'd have 500000.0 beans, 500.0 jars, and 5.0 crates.\n",
          "name": "stdout"
        }
      ]
    },
    {
      "metadata": {
        "trusted": true
      },
      "cell_type": "code",
      "source": "print(\"\"\"hi\n\n\nji\n\n\"\"\")",
      "execution_count": 22,
      "outputs": [
        {
          "output_type": "stream",
          "text": "hi\n\n\nji\n\n\n",
          "name": "stdout"
        }
      ]
    },
    {
      "metadata": {
        "trusted": true
      },
      "cell_type": "code",
      "source": "five = 10 - 2 + 3 - 6+8\nprint(f\"This should be five: {five}\")\n\n\ndef secret_formula(started):\n    jelly_beans = started * 500\n    jars = jelly_beans / 1000\n    crates = jars / 100\n    return jelly_beans, jars, crates\n\n\nstart_point = 10000\nbeans, jars, crates = secret_formula(start_point)",
      "execution_count": 24,
      "outputs": [
        {
          "output_type": "stream",
          "text": "This should be five: 13\n",
          "name": "stdout"
        }
      ]
    },
    {
      "metadata": {
        "trusted": true
      },
      "cell_type": "code",
      "source": "def secret_formula(ghee):\n    halwa = ghee * 2\n    ladoo = ghee *5\n    gulabjamon = ghee/ 2\n    return halwa, ladoo, gulabjamon\n\n\nstart_point = 10000\nbeans, jars, crates = secret_formula(start_point)",
      "execution_count": 25,
      "outputs": []
    },
    {
      "metadata": {
        "trusted": true
      },
      "cell_type": "code",
      "source": "beans",
      "execution_count": 26,
      "outputs": [
        {
          "output_type": "execute_result",
          "execution_count": 26,
          "data": {
            "text/plain": "20000"
          },
          "metadata": {}
        }
      ]
    },
    {
      "metadata": {
        "trusted": true
      },
      "cell_type": "code",
      "source": "jars",
      "execution_count": 27,
      "outputs": [
        {
          "output_type": "execute_result",
          "execution_count": 27,
          "data": {
            "text/plain": "50000"
          },
          "metadata": {}
        }
      ]
    },
    {
      "metadata": {
        "trusted": true
      },
      "cell_type": "code",
      "source": "crates",
      "execution_count": 28,
      "outputs": [
        {
          "output_type": "execute_result",
          "execution_count": 28,
          "data": {
            "text/plain": "5000.0"
          },
          "metadata": {}
        }
      ]
    },
    {
      "metadata": {
        "trusted": true
      },
      "cell_type": "code",
      "source": "print(\"With a starting point of: {}\".format(start_point))\n# it's just like with an f\"\" string\nprint(f\"We'd have {beans} halwa, {jars} ladoo, and {crates} gulabjamon.\")",
      "execution_count": 30,
      "outputs": [
        {
          "output_type": "stream",
          "text": "With a starting point of: 10000\nWe'd have 20000 halwa, 50000 ladoo, and 5000.0 gulabjamon.\n",
          "name": "stdout"
        }
      ]
    },
    {
      "metadata": {
        "trusted": true
      },
      "cell_type": "code",
      "source": "start_point = start_point / 10\n\nprint(\"We can also do that this way:\")\nformula = secret_formula(start_point)\n# this is an easy way to apply a list to a format string\nprint(\"We'd have {} beans, {} jars, and {} crates.\".format(*formula))",
      "execution_count": 31,
      "outputs": [
        {
          "output_type": "stream",
          "text": "We can also do that this way:\nWe'd have 2000.0 beans, 5000.0 jars, and 500.0 crates.\n",
          "name": "stdout"
        }
      ]
    },
    {
      "metadata": {
        "trusted": true
      },
      "cell_type": "code",
      "source": "formula[3]",
      "execution_count": 36,
      "outputs": [
        {
          "output_type": "error",
          "ename": "IndexError",
          "evalue": "tuple index out of range",
          "traceback": [
            "\u001b[0;31m---------------------------------------------------------------------------\u001b[0m",
            "\u001b[0;31mIndexError\u001b[0m                                Traceback (most recent call last)",
            "\u001b[0;32m<ipython-input-36-f226dbc4184f>\u001b[0m in \u001b[0;36m<module>\u001b[0;34m\u001b[0m\n\u001b[0;32m----> 1\u001b[0;31m \u001b[0mformula\u001b[0m\u001b[0;34m[\u001b[0m\u001b[0;36m3\u001b[0m\u001b[0;34m]\u001b[0m\u001b[0;34m\u001b[0m\u001b[0m\n\u001b[0m",
            "\u001b[0;31mIndexError\u001b[0m: tuple index out of range"
          ]
        }
      ]
    },
    {
      "metadata": {
        "trusted": true
      },
      "cell_type": "code",
      "source": "def break_words(stuff):\n    \"\"\"This function will break up words for us.\"\"\"\n    words = stuff.split(' ')\n    return words\n\n\ndef sort_words(words):\n    \"\"\"Sorts the words.\"\"\"\n    return sorted(words)\n\n\ndef print_first_word(words):\n    \"\"\"Prints the first word after popping it off.\"\"\"\n    word = words.pop(0)\n    print(word)\n\n\ndef print_last_word(words):\n    \"\"\"Prints the last word after popping it of.\"\"\"\n    word = words.pop(-1)\n    print(word)\n\n\ndef sort_sentence(sentence):\n    \"\"\"Takes in a full sentence and returns the sorted words.\"\"\"\n    words = break_words(sentence)\n    return (sort_words(words))\n\n\ndef print_first_and_last(sentence):\n    \"\"\"Prints the first and last words of a sentence.\"\"\"\n    words = break_words(sentence)\n    print_first_word(words)\n    print_last_word(words)\n\n\ndef print_first_and_last_sorted(sentence):\n    \"\"\"Sorts the words then prints the first and last one.\"\"\"\n    words = sort_sentence(sentence)\n    print_first_word(words)\n    print_last_word(words)",
      "execution_count": 37,
      "outputs": []
    },
    {
      "metadata": {
        "trusted": true
      },
      "cell_type": "code",
      "source": "\"hello how are you\".split(' ')",
      "execution_count": 38,
      "outputs": [
        {
          "output_type": "execute_result",
          "execution_count": 38,
          "data": {
            "text/plain": "['hello', 'how', 'are', 'you']"
          },
          "metadata": {}
        }
      ]
    },
    {
      "metadata": {
        "trusted": true
      },
      "cell_type": "code",
      "source": "x = \"hello,how,are,you\".split(',')",
      "execution_count": 40,
      "outputs": []
    },
    {
      "metadata": {
        "trusted": true
      },
      "cell_type": "code",
      "source": "x",
      "execution_count": 41,
      "outputs": [
        {
          "output_type": "execute_result",
          "execution_count": 41,
          "data": {
            "text/plain": "['hello', 'how', 'are', 'you']"
          },
          "metadata": {}
        }
      ]
    },
    {
      "metadata": {
        "trusted": true
      },
      "cell_type": "code",
      "source": "y = sorted(x)",
      "execution_count": 43,
      "outputs": []
    },
    {
      "metadata": {
        "trusted": true
      },
      "cell_type": "code",
      "source": "y",
      "execution_count": 44,
      "outputs": [
        {
          "output_type": "execute_result",
          "execution_count": 44,
          "data": {
            "text/plain": "['are', 'hello', 'how', 'you']"
          },
          "metadata": {}
        }
      ]
    },
    {
      "metadata": {
        "trusted": true
      },
      "cell_type": "code",
      "source": "y.pop()",
      "execution_count": 45,
      "outputs": [
        {
          "output_type": "execute_result",
          "execution_count": 45,
          "data": {
            "text/plain": "'you'"
          },
          "metadata": {}
        }
      ]
    },
    {
      "metadata": {
        "trusted": true
      },
      "cell_type": "code",
      "source": "y",
      "execution_count": 46,
      "outputs": [
        {
          "output_type": "execute_result",
          "execution_count": 46,
          "data": {
            "text/plain": "['are', 'hello', 'how']"
          },
          "metadata": {}
        }
      ]
    },
    {
      "metadata": {
        "trusted": true
      },
      "cell_type": "code",
      "source": "y.pop()",
      "execution_count": 48,
      "outputs": [
        {
          "output_type": "execute_result",
          "execution_count": 48,
          "data": {
            "text/plain": "'how'"
          },
          "metadata": {}
        }
      ]
    },
    {
      "metadata": {
        "trusted": true
      },
      "cell_type": "code",
      "source": "y",
      "execution_count": 49,
      "outputs": [
        {
          "output_type": "execute_result",
          "execution_count": 49,
          "data": {
            "text/plain": "['are', 'hello']"
          },
          "metadata": {}
        }
      ]
    },
    {
      "metadata": {
        "trusted": true
      },
      "cell_type": "code",
      "source": " print_first_and_last('the morning is easy')",
      "execution_count": 50,
      "outputs": [
        {
          "output_type": "stream",
          "text": "the\neasy\n",
          "name": "stdout"
        }
      ]
    },
    {
      "metadata": {
        "trusted": true
      },
      "cell_type": "code",
      "source": "print_first_and_last_sorted('the morning is easy')",
      "execution_count": 52,
      "outputs": [
        {
          "output_type": "stream",
          "text": "easy\nthe\n",
          "name": "stdout"
        }
      ]
    },
    {
      "metadata": {
        "trusted": true
      },
      "cell_type": "code",
      "source": "sort_sentence('the morning is busy')",
      "execution_count": 54,
      "outputs": [
        {
          "output_type": "execute_result",
          "execution_count": 54,
          "data": {
            "text/plain": "['busy', 'is', 'morning', 'the']"
          },
          "metadata": {}
        }
      ]
    },
    {
      "metadata": {
        "trusted": true
      },
      "cell_type": "code",
      "source": "mylist=[4,4,5,6,7,8,9]",
      "execution_count": 55,
      "outputs": []
    },
    {
      "metadata": {
        "trusted": true
      },
      "cell_type": "code",
      "source": "type(mylist)",
      "execution_count": 56,
      "outputs": [
        {
          "output_type": "execute_result",
          "execution_count": 56,
          "data": {
            "text/plain": "list"
          },
          "metadata": {}
        }
      ]
    },
    {
      "metadata": {
        "trusted": true
      },
      "cell_type": "code",
      "source": "mylist[0]",
      "execution_count": 57,
      "outputs": [
        {
          "output_type": "execute_result",
          "execution_count": 57,
          "data": {
            "text/plain": "4"
          },
          "metadata": {}
        }
      ]
    },
    {
      "metadata": {
        "trusted": true
      },
      "cell_type": "code",
      "source": "mylist[-1]",
      "execution_count": 58,
      "outputs": [
        {
          "output_type": "execute_result",
          "execution_count": 58,
          "data": {
            "text/plain": "9"
          },
          "metadata": {}
        }
      ]
    },
    {
      "metadata": {
        "trusted": true
      },
      "cell_type": "code",
      "source": "mylist.pop(0)",
      "execution_count": 60,
      "outputs": [
        {
          "output_type": "execute_result",
          "execution_count": 60,
          "data": {
            "text/plain": "4"
          },
          "metadata": {}
        }
      ]
    },
    {
      "metadata": {
        "trusted": true
      },
      "cell_type": "code",
      "source": "mylist",
      "execution_count": 61,
      "outputs": [
        {
          "output_type": "execute_result",
          "execution_count": 61,
          "data": {
            "text/plain": "[4, 5, 6, 7, 8, 9]"
          },
          "metadata": {}
        }
      ]
    },
    {
      "metadata": {
        "trusted": true
      },
      "cell_type": "code",
      "source": "from sys import argv\n\nprint(\"How old are you?\", end=' ')\nage = input()\nprint(\"How tall are you?\", end=' ')\nheight = input()\nprint(\"How much do you weigh?\", end=' ')\nweight = input()\n\nprint(f\"So, you're {age} old, {height} tall and {weight} heavy.\")\n\nscript, filename = argv\n\ntxt = open(filename)\n\nprint(f\"Here's your file {filename}:\")\nprint(txt.read())\n\nprint(\"Type the filename again:\")\nfile_again = input(\"> \")\n\ntxt_again = open(file_again)\n\nprint(txt_again.read())\n\nprint(\"Let's practice everything.\")\nprint('You\\'d need to know \\'bout escapes with \\\\ that do:')\nprint('\\n newlines and \\t tabs.')\n\npoem = \"\"\"\n\\tThe lovely world\nwith logic so firmly planted\ncannot discern \\n the needs of love\nnor comprehend passion from intuition\nand requires an explanation\n\\n\\t\\twhere there is none.\n\"\"\"\n\nprint(\"--------------\")\nprint(poem)\nprint(\"--------------\")\n\nfive = 10 - 2 + 3 - 6\nprint(f\"This should be five: {five}\")\n\n\ndef secret_formula(started):\n    jelly_beans = started * 500\n    jars = jelly_beans / 1000\n    crates = jars / 100\n    return jelly_beans, jars, crates\n\n\nstart_point = 10000\nbeans, jars, crates = secret_formula(start_point)\n\n# remember that this is another way to format a string\nprint(\"With a starting point of: {}\".format(start_point))\n# it's just like with an f\"\" string\nprint(f\"We'd have {beans} beans, {jars} jars, and {crates} crates.\")\n\nstart_point = start_point / 10\n\nprint(\"We can also do that this way:\")\nformula = secret_formula(start_point)\n# this is an easy way to apply a list to a format string\nprint(\"We'd have {} beans, {} jars, and {} crates.\".format(*formula))\n\n",
      "execution_count": 63,
      "outputs": [
        {
          "output_type": "stream",
          "text": "How old are you? ",
          "name": "stdout"
        },
        {
          "output_type": "error",
          "ename": "KeyboardInterrupt",
          "evalue": "",
          "traceback": [
            "\u001b[0;31m---------------------------------------------------------------------------\u001b[0m",
            "\u001b[0;31mKeyboardInterrupt\u001b[0m                         Traceback (most recent call last)",
            "\u001b[0;32m~/anaconda3_501/lib/python3.6/site-packages/ipykernel/kernelbase.py\u001b[0m in \u001b[0;36m_input_request\u001b[0;34m(self, prompt, ident, parent, password)\u001b[0m\n\u001b[1;32m    877\u001b[0m             \u001b[0;32mtry\u001b[0m\u001b[0;34m:\u001b[0m\u001b[0;34m\u001b[0m\u001b[0m\n\u001b[0;32m--> 878\u001b[0;31m                 \u001b[0mident\u001b[0m\u001b[0;34m,\u001b[0m \u001b[0mreply\u001b[0m \u001b[0;34m=\u001b[0m \u001b[0mself\u001b[0m\u001b[0;34m.\u001b[0m\u001b[0msession\u001b[0m\u001b[0;34m.\u001b[0m\u001b[0mrecv\u001b[0m\u001b[0;34m(\u001b[0m\u001b[0mself\u001b[0m\u001b[0;34m.\u001b[0m\u001b[0mstdin_socket\u001b[0m\u001b[0;34m,\u001b[0m \u001b[0;36m0\u001b[0m\u001b[0;34m)\u001b[0m\u001b[0;34m\u001b[0m\u001b[0m\n\u001b[0m\u001b[1;32m    879\u001b[0m             \u001b[0;32mexcept\u001b[0m \u001b[0mException\u001b[0m\u001b[0;34m:\u001b[0m\u001b[0;34m\u001b[0m\u001b[0m\n",
            "\u001b[0;32m~/anaconda3_501/lib/python3.6/site-packages/jupyter_client/session.py\u001b[0m in \u001b[0;36mrecv\u001b[0;34m(self, socket, mode, content, copy)\u001b[0m\n\u001b[1;32m    802\u001b[0m         \u001b[0;32mtry\u001b[0m\u001b[0;34m:\u001b[0m\u001b[0;34m\u001b[0m\u001b[0m\n\u001b[0;32m--> 803\u001b[0;31m             \u001b[0mmsg_list\u001b[0m \u001b[0;34m=\u001b[0m \u001b[0msocket\u001b[0m\u001b[0;34m.\u001b[0m\u001b[0mrecv_multipart\u001b[0m\u001b[0;34m(\u001b[0m\u001b[0mmode\u001b[0m\u001b[0;34m,\u001b[0m \u001b[0mcopy\u001b[0m\u001b[0;34m=\u001b[0m\u001b[0mcopy\u001b[0m\u001b[0;34m)\u001b[0m\u001b[0;34m\u001b[0m\u001b[0m\n\u001b[0m\u001b[1;32m    804\u001b[0m         \u001b[0;32mexcept\u001b[0m \u001b[0mzmq\u001b[0m\u001b[0;34m.\u001b[0m\u001b[0mZMQError\u001b[0m \u001b[0;32mas\u001b[0m \u001b[0me\u001b[0m\u001b[0;34m:\u001b[0m\u001b[0;34m\u001b[0m\u001b[0m\n",
            "\u001b[0;32m~/anaconda3_501/lib/python3.6/site-packages/zmq/sugar/socket.py\u001b[0m in \u001b[0;36mrecv_multipart\u001b[0;34m(self, flags, copy, track)\u001b[0m\n\u001b[1;32m    466\u001b[0m         \"\"\"\n\u001b[0;32m--> 467\u001b[0;31m         \u001b[0mparts\u001b[0m \u001b[0;34m=\u001b[0m \u001b[0;34m[\u001b[0m\u001b[0mself\u001b[0m\u001b[0;34m.\u001b[0m\u001b[0mrecv\u001b[0m\u001b[0;34m(\u001b[0m\u001b[0mflags\u001b[0m\u001b[0;34m,\u001b[0m \u001b[0mcopy\u001b[0m\u001b[0;34m=\u001b[0m\u001b[0mcopy\u001b[0m\u001b[0;34m,\u001b[0m \u001b[0mtrack\u001b[0m\u001b[0;34m=\u001b[0m\u001b[0mtrack\u001b[0m\u001b[0;34m)\u001b[0m\u001b[0;34m]\u001b[0m\u001b[0;34m\u001b[0m\u001b[0m\n\u001b[0m\u001b[1;32m    468\u001b[0m         \u001b[0;31m# have first part already, only loop while more to receive\u001b[0m\u001b[0;34m\u001b[0m\u001b[0;34m\u001b[0m\u001b[0m\n",
            "\u001b[0;32mzmq/backend/cython/socket.pyx\u001b[0m in \u001b[0;36mzmq.backend.cython.socket.Socket.recv\u001b[0;34m()\u001b[0m\n",
            "\u001b[0;32mzmq/backend/cython/socket.pyx\u001b[0m in \u001b[0;36mzmq.backend.cython.socket.Socket.recv\u001b[0;34m()\u001b[0m\n",
            "\u001b[0;32mzmq/backend/cython/socket.pyx\u001b[0m in \u001b[0;36mzmq.backend.cython.socket._recv_copy\u001b[0;34m()\u001b[0m\n",
            "\u001b[0;32m~/anaconda3_501/lib/python3.6/site-packages/zmq/backend/cython/checkrc.pxd\u001b[0m in \u001b[0;36mzmq.backend.cython.checkrc._check_rc\u001b[0;34m()\u001b[0m\n",
            "\u001b[0;31mKeyboardInterrupt\u001b[0m: ",
            "\nDuring handling of the above exception, another exception occurred:\n",
            "\u001b[0;31mKeyboardInterrupt\u001b[0m                         Traceback (most recent call last)",
            "\u001b[0;32m<ipython-input-63-786f0a903477>\u001b[0m in \u001b[0;36m<module>\u001b[0;34m\u001b[0m\n\u001b[1;32m      2\u001b[0m \u001b[0;34m\u001b[0m\u001b[0m\n\u001b[1;32m      3\u001b[0m \u001b[0mprint\u001b[0m\u001b[0;34m(\u001b[0m\u001b[0;34m\"How old are you?\"\u001b[0m\u001b[0;34m,\u001b[0m \u001b[0mend\u001b[0m\u001b[0;34m=\u001b[0m\u001b[0;34m' '\u001b[0m\u001b[0;34m)\u001b[0m\u001b[0;34m\u001b[0m\u001b[0m\n\u001b[0;32m----> 4\u001b[0;31m \u001b[0mage\u001b[0m \u001b[0;34m=\u001b[0m \u001b[0minput\u001b[0m\u001b[0;34m(\u001b[0m\u001b[0;34m)\u001b[0m\u001b[0;34m\u001b[0m\u001b[0m\n\u001b[0m\u001b[1;32m      5\u001b[0m \u001b[0mprint\u001b[0m\u001b[0;34m(\u001b[0m\u001b[0;34m\"How tall are you?\"\u001b[0m\u001b[0;34m,\u001b[0m \u001b[0mend\u001b[0m\u001b[0;34m=\u001b[0m\u001b[0;34m' '\u001b[0m\u001b[0;34m)\u001b[0m\u001b[0;34m\u001b[0m\u001b[0m\n\u001b[1;32m      6\u001b[0m \u001b[0mheight\u001b[0m \u001b[0;34m=\u001b[0m \u001b[0minput\u001b[0m\u001b[0;34m(\u001b[0m\u001b[0;34m)\u001b[0m\u001b[0;34m\u001b[0m\u001b[0m\n",
            "\u001b[0;32m~/anaconda3_501/lib/python3.6/site-packages/ipykernel/kernelbase.py\u001b[0m in \u001b[0;36mraw_input\u001b[0;34m(self, prompt)\u001b[0m\n\u001b[1;32m    851\u001b[0m             \u001b[0mself\u001b[0m\u001b[0;34m.\u001b[0m\u001b[0m_parent_ident\u001b[0m\u001b[0;34m,\u001b[0m\u001b[0;34m\u001b[0m\u001b[0m\n\u001b[1;32m    852\u001b[0m             \u001b[0mself\u001b[0m\u001b[0;34m.\u001b[0m\u001b[0m_parent_header\u001b[0m\u001b[0;34m,\u001b[0m\u001b[0;34m\u001b[0m\u001b[0m\n\u001b[0;32m--> 853\u001b[0;31m             \u001b[0mpassword\u001b[0m\u001b[0;34m=\u001b[0m\u001b[0;32mFalse\u001b[0m\u001b[0;34m,\u001b[0m\u001b[0;34m\u001b[0m\u001b[0m\n\u001b[0m\u001b[1;32m    854\u001b[0m         )\n\u001b[1;32m    855\u001b[0m \u001b[0;34m\u001b[0m\u001b[0m\n",
            "\u001b[0;32m~/anaconda3_501/lib/python3.6/site-packages/ipykernel/kernelbase.py\u001b[0m in \u001b[0;36m_input_request\u001b[0;34m(self, prompt, ident, parent, password)\u001b[0m\n\u001b[1;32m    881\u001b[0m             \u001b[0;32mexcept\u001b[0m \u001b[0mKeyboardInterrupt\u001b[0m\u001b[0;34m:\u001b[0m\u001b[0;34m\u001b[0m\u001b[0m\n\u001b[1;32m    882\u001b[0m                 \u001b[0;31m# re-raise KeyboardInterrupt, to truncate traceback\u001b[0m\u001b[0;34m\u001b[0m\u001b[0;34m\u001b[0m\u001b[0m\n\u001b[0;32m--> 883\u001b[0;31m                 \u001b[0;32mraise\u001b[0m \u001b[0mKeyboardInterrupt\u001b[0m\u001b[0;34m\u001b[0m\u001b[0m\n\u001b[0m\u001b[1;32m    884\u001b[0m             \u001b[0;32melse\u001b[0m\u001b[0;34m:\u001b[0m\u001b[0;34m\u001b[0m\u001b[0m\n\u001b[1;32m    885\u001b[0m                 \u001b[0;32mbreak\u001b[0m\u001b[0;34m\u001b[0m\u001b[0m\n",
            "\u001b[0;31mKeyboardInterrupt\u001b[0m: "
          ]
        }
      ]
    },
    {
      "metadata": {
        "trusted": true
      },
      "cell_type": "code",
      "source": "people = 20\ncats = 30\ndogs = 15\n\nif people < cats:\n    print(\"Too many cats! The world is doomed!\")\n\nif people > cats:\n    print(\"Not many cats! The world is saved!\")\n\nif people < dogs:\n    print(\"The world is drooled on!\")\n\nif people > dogs:\n    print(\"The world is dry!\")\n\ndogs += 5\npeople+=9\n\nif people >= dogs:\n    print(\"People are greater than or equal to dogs.\")\n\nif people <= dogs:\n    print(\"People are less than or equal to dogs.\")\n\nif people == dogs:\n    print(\"People are dogs.\")",
      "execution_count": 65,
      "outputs": [
        {
          "output_type": "stream",
          "text": "Too many cats! The world is doomed!\nThe world is dry!\nPeople are greater than or equal to dogs.\n",
          "name": "stdout"
        }
      ]
    },
    {
      "metadata": {
        "trusted": true
      },
      "cell_type": "code",
      "source": "people = 20\ncats = 30\ndogs = 15\n\nif people < cats:\n    print(\"Too many cats! The world is doomed!\")\n\nif people > cats:\n    print(\"Not many cats! The world is saved!\")\n\nif people < dogs:\n    print(\"The world is drooled on!\")\n\nif people > dogs:\n    print(\"The world is dry!\")\n\ndogs += 5\n\nif people >= dogs:\n    print(\"People are greater than or equal to dogs.\")\n\nif people <= dogs:\n    print(\"People are less than or equal to dogs.\")\n\nif people == dogs:\n    print(\"People are dogs.\")",
      "execution_count": 66,
      "outputs": [
        {
          "output_type": "stream",
          "text": "Too many cats! The world is doomed!\nThe world is dry!\nPeople are greater than or equal to dogs.\nPeople are less than or equal to dogs.\nPeople are dogs.\n",
          "name": "stdout"
        }
      ]
    },
    {
      "metadata": {
        "trusted": true
      },
      "cell_type": "code",
      "source": "people = 30\ncars = 30\ntrucks = 30\n\nif cars > people:\n    print(\"We should take the cars.\")\nelif cars < people:\n    print(\"We should not take the cars.\")\nelse:\n    print(\"We can't decide.\")\n\nif trucks > cars:\n    print(\"That's too many trucks.\")\nelif trucks < cars:\n    print(\"Maybe we could take the trucks.\")\nelse:\n    print(\"We still can't decide.\")\n\nif people > trucks:\n    print(\"Alright, let's just take the trucks.\")\nelse:\n    print(\"Fine, let's stay home then.\")",
      "execution_count": 69,
      "outputs": [
        {
          "output_type": "stream",
          "text": "We can't decide.\nWe still can't decide.\nFine, let's stay home then.\n",
          "name": "stdout"
        }
      ]
    },
    {
      "metadata": {
        "trusted": true
      },
      "cell_type": "code",
      "source": "print(\"You enter my house what you want to do.\")\nprint(\"Do you go to #1 (kitchen) # 2(bedroom)?\")\n\nroom = input(\"> \")\n\nif room == \"1\":\n    print(\"There's a cheese cake for you.\")\n    print(\"What do you do?\")\n    print(\"write 1 for cake.\")\n    print(\"write 2 for bread.\")\n\n    food = input(\"> \")\n\n    if food == \"1\":\n        print(\"you will enjoy it. Good job!\")\n    elif food == \"2\":\n        print(\"you need halwa for the bread. sorry!\")\n    else:\n        print(f\"Well, doing {0} is probably better.\")\n        print(\"never get the food.\")\n\nelif room == \"2\":\n    print(\"You stare into the tv.\")\n    print(\"1. drama.\")\n    print(\"2. comedy.\")\n    print(\"3. movies.\")\n\n    insanity = input(\"> \")\n\n    if insanity == \"1\" or insanity == \"2\":\n        print(\"should not watch so much tv.\")\n        print(\"Good job!\")\n    else:\n        print(\"The tv rots your eyes into a pool of muck.\")\n        print(\"Good job!\")\n\nelse:\n    print(\"You stumble around and fall on knife and die. Good job!\")",
      "execution_count": 81,
      "outputs": [
        {
          "output_type": "stream",
          "text": "You enter my house what you want to do.\nDo you go to #1 (kitchen) # 2(bedroom)?\n> 2\nYou stare into the tv.\n1. drama.\n2. comedy.\n3. movies.\n> 3\nThe tv rots your eyes into a pool of muck.\nGood job!\n",
          "name": "stdout"
        }
      ]
    },
    {
      "metadata": {
        "trusted": true
      },
      "cell_type": "code",
      "source": "the_count = [1, 2, 3, 4, 5]\nfruits = ['apples', 'oranges', 'pears', 'apricots']\nchange = [1, 'pennies', 2, 'dimes', 3, 'quarters']\n\n# this first kind of for-loop goes through a list\nfor number in the_count:\n    print(f\"This is count {number}\")\n\n# same as above\nfor fruit in fruits:\n    print(f\"A fruit of type: {fruit}\")\n\n# also we can go through mixed lists too\n# notice we have to use %r since we don't know what's in items\nfor i in change:\n    print(f\"I got {i}\")\n\n# we can also build lists, first start with an empty one\nelements = []\n\n# then use the range function to do 0 to 5 counts\nfor i in range(0, 6):\n    print(f\"Adding {i} to the list.\")\n    # append is a function that lists understand\n    elements.append(i)\n\n# now we can print them out too\nfor i in elements:\n    print(f\"Element was: {i}\")\n",
      "execution_count": 82,
      "outputs": [
        {
          "output_type": "stream",
          "text": "This is count 1\nThis is count 2\nThis is count 3\nThis is count 4\nThis is count 5\nA fruit of type: apples\nA fruit of type: oranges\nA fruit of type: pears\nA fruit of type: apricots\nI got 1\nI got pennies\nI got 2\nI got dimes\nI got 3\nI got quarters\nAdding 0 to the list.\nAdding 1 to the list.\nAdding 2 to the list.\nAdding 3 to the list.\nAdding 4 to the list.\nAdding 5 to the list.\nElement was: 0\nElement was: 1\nElement was: 2\nElement was: 3\nElement was: 4\nElement was: 5\n",
          "name": "stdout"
        }
      ]
    },
    {
      "metadata": {
        "trusted": true
      },
      "cell_type": "code",
      "source": "for xxx in the_count:\n    print(f\"This is count {xxx}\", xxx+2)",
      "execution_count": 86,
      "outputs": [
        {
          "output_type": "stream",
          "text": "This is count 1 3\nThis is count 2 4\nThis is count 3 5\nThis is count 4 6\nThis is count 5 7\n",
          "name": "stdout"
        }
      ]
    },
    {
      "metadata": {
        "trusted": true
      },
      "cell_type": "code",
      "source": "the_count",
      "execution_count": 85,
      "outputs": [
        {
          "output_type": "execute_result",
          "execution_count": 85,
          "data": {
            "text/plain": "[1, 2, 3, 4, 5]"
          },
          "metadata": {}
        }
      ]
    },
    {
      "metadata": {
        "trusted": true
      },
      "cell_type": "code",
      "source": "for fruit in fruits:\n    print(f\"i like {fruit}\")\n",
      "execution_count": 89,
      "outputs": [
        {
          "output_type": "stream",
          "text": "i like apples\ni like oranges\ni like pears\ni like apricots\n",
          "name": "stdout"
        }
      ]
    },
    {
      "metadata": {
        "trusted": true
      },
      "cell_type": "code",
      "source": "fruits\n",
      "execution_count": 88,
      "outputs": [
        {
          "output_type": "execute_result",
          "execution_count": 88,
          "data": {
            "text/plain": "['apples', 'oranges', 'pears', 'apricots']"
          },
          "metadata": {}
        }
      ]
    },
    {
      "metadata": {
        "trusted": true
      },
      "cell_type": "code",
      "source": "for i in change:\n    print(f\"I got {i}\", \"now i got\", i*2)",
      "execution_count": 96,
      "outputs": [
        {
          "output_type": "stream",
          "text": "I got 1 now i got 2\nI got pennies now i got penniespennies\nI got 2 now i got 4\nI got dimes now i got dimesdimes\nI got 3 now i got 6\nI got quarters now i got quartersquarters\n",
          "name": "stdout"
        }
      ]
    },
    {
      "metadata": {
        "trusted": true
      },
      "cell_type": "code",
      "source": "elements = []",
      "execution_count": 105,
      "outputs": []
    },
    {
      "metadata": {
        "trusted": true
      },
      "cell_type": "code",
      "source": "for ccc in range(0, 6):\n    print(f\"Adding {ccc} to the list.\")\n    # append is a function tht lists understand\n    elements.append(ccc)",
      "execution_count": 102,
      "outputs": [
        {
          "output_type": "stream",
          "text": "Adding 0 to the list.\nAdding 1 to the list.\nAdding 2 to the list.\nAdding 3 to the list.\nAdding 4 to the list.\nAdding 5 to the list.\n",
          "name": "stdout"
        }
      ]
    },
    {
      "metadata": {
        "trusted": true
      },
      "cell_type": "code",
      "source": "",
      "execution_count": null,
      "outputs": []
    },
    {
      "metadata": {
        "trusted": true
      },
      "cell_type": "code",
      "source": "elements",
      "execution_count": 106,
      "outputs": [
        {
          "output_type": "execute_result",
          "execution_count": 106,
          "data": {
            "text/plain": "[]"
          },
          "metadata": {}
        }
      ]
    },
    {
      "metadata": {
        "trusted": true
      },
      "cell_type": "code",
      "source": "i = 0\nnumbers = []\n\nwhile i < 6:\n    i = i + 1\n\n    print(f\"At the top i is {i}\")\n    numbers.append(i)\n\n    print(\"Numbers now: \", numbers)\n    print(f\"At the bottom i is {i}\")\n\nprint(\"The numbers: \")\n\nfor num in numbers:\n    print(num)",
      "execution_count": 112,
      "outputs": [
        {
          "output_type": "stream",
          "text": "At the top i is 1\nNumbers now:  [1]\nAt the bottom i is 1\nAt the top i is 2\nNumbers now:  [1, 2]\nAt the bottom i is 2\nAt the top i is 3\nNumbers now:  [1, 2, 3]\nAt the bottom i is 3\nAt the top i is 4\nNumbers now:  [1, 2, 3, 4]\nAt the bottom i is 4\nAt the top i is 5\nNumbers now:  [1, 2, 3, 4, 5]\nAt the bottom i is 5\nAt the top i is 6\nNumbers now:  [1, 2, 3, 4, 5, 6]\nAt the bottom i is 6\nThe numbers: \n1\n2\n3\n4\n5\n6\n",
          "name": "stdout"
        }
      ]
    },
    {
      "metadata": {
        "trusted": true
      },
      "cell_type": "code",
      "source": "i = 0\nnumbers = []\nwhile i < 8:\n    print(f\"At the top i is {i}\")\n    numbers.append(i)\n    i=i+1",
      "execution_count": 111,
      "outputs": [
        {
          "output_type": "stream",
          "text": "At the top i is 0\nAt the top i is 1\nAt the top i is 2\nAt the top i is 3\nAt the top i is 4\nAt the top i is 5\nAt the top i is 6\nAt the top i is 7\n",
          "name": "stdout"
        }
      ]
    },
    {
      "metadata": {
        "trusted": true
      },
      "cell_type": "code",
      "source": "from sys import exit\n\n\ndef living_room():\n    print(\"This room is full of trash. How much do you take?\")\n\n    choice = input(\"> \")\n    if \"0\" in choice or \"1\" in choice:\n        how_much = int(choice)\n    else:\n        dead(\"Man, learn to type a number.\")\n\n    if how_much < 50:\n        print(\"Nice, you're not greedy, you win!\")\n        exit(0)\n    else:\n        dead(\"You greedy bastard!\")\n\n\ndef living_room():\n    print(\"There is table here.\")\n    print(\"The bear has a bunch of pennies.\")\n    print(\"The tv is in front of another door.\")\n    print(\"How are you going to move the tv?\")\n    tv_moved = False\n\n    while True:\n        choice = input(\"> \")\n\n        if choice == \"take pennies\":\n            dead(\"The police is here.\")\n        elif choice == \"try to take the tv\" and not tv_moved:\n            print(\"The tv has moved from the door.\")\n            print(\"You can go through it now.\")\n            tv_moved = True\n        elif choice == \"take pennies\" and tv_moved:\n            dead(\"The police gets pissed off and chews your leg off.\")\n        elif choice == \"open door\" and tv_moved:\n            gold_room()\n        else:\n            print(\"I got no idea what that means.\")\n\n\ndef cthulhu_room():\n    print(\"Here you see the great evil Cthulhu.\")\n    print(\"He, it, whatever stares at you and you go insane.\")\n    print(\"Do you flee for your life or eat your head?\")\n\n    choice = input(\"> \")\n\n    if \"flee\" in choice:\n        start()\n    elif \"head\" in choice:\n        dead(\"Well that was tasty!\")\n    else:\n        cthulhu_room()\n\n\ndef dead(why):\n    print(why, \"Good job!\")\n    exit(0)\n\n\ndef start():\n    print(\"You are in my house.\")\n    print(\"There is a door to your right and left.\")\n    print(\"Which one do you take?\")\n\n    choice = input(\"> \")\n\n    if choice == \"left\":\n        living_room()\n    elif choice == \"right\":\n        cthulhu_room()\n    else:\n        dead(\"You stumble around the room until you starve.\")\n\n\nstart()",
      "execution_count": 120,
      "outputs": [
        {
          "output_type": "stream",
          "text": "You are in my house.\nThere is a door to your right and left.\nWhich one do you take?\n> left\nThere is table here.\nThe bear has a bunch of pennies.\nThe tv is in front of another door.\nHow are you going to move the tv?\n> take pennies\nThe police is here. Good job!\n",
          "name": "stdout"
        },
        {
          "output_type": "error",
          "ename": "SystemExit",
          "evalue": "0",
          "traceback": [
            "An exception has occurred, use %tb to see the full traceback.\n",
            "\u001b[0;31mSystemExit\u001b[0m\u001b[0;31m:\u001b[0m 0\n"
          ]
        }
      ]
    },
    {
      "metadata": {
        "trusted": true
      },
      "cell_type": "code",
      "source": "ten_things = \"Apples Oranges Crows Telephone Light Sugar\"\n\nprint(\"Wait there's not 10 things in that list, let's fix that.\")\n\nstuff = ten_things.split(' ')\nmore_stuff = [\"Day\", \"Night\", \"Song\", \"Frisbee\",\n              \"Corn\", \"Banana\", \"Girl\", \"Boy\"]\n\nwhile len(stuff) != 10:\n    next_one = more_stuff.pop()\n    print(\"Adding: \", next_one)\n    stuff.append(next_one)\n    print(f\"There's {len(stuff)} items now.\")\n\nprint(\"There we go: \", stuff)\n\nprint(\"Let's do some things with stuff.\")\n\nprint(stuff[1])\nprint(stuff[-1])  # whoa! fancy\nprint(stuff.pop())\nprint(' '.join(stuff))  # what= cool!\nprint('#'.join(stuff[3:5]))  # super stellar!",
      "execution_count": 121,
      "outputs": [
        {
          "output_type": "stream",
          "text": "Wait there's not 10 things in that list, let's fix that.\nAdding:  Boy\nThere's 7 items now.\nAdding:  Girl\nThere's 8 items now.\nAdding:  Banana\nThere's 9 items now.\nAdding:  Corn\nThere's 10 items now.\nThere we go:  ['Apples', 'Oranges', 'Crows', 'Telephone', 'Light', 'Sugar', 'Boy', 'Girl', 'Banana', 'Corn']\nLet's do some things with stuff.\nOranges\nCorn\nCorn\nApples Oranges Crows Telephone Light Sugar Boy Girl Banana\nTelephone#Light\n",
          "name": "stdout"
        }
      ]
    },
    {
      "metadata": {
        "trusted": true
      },
      "cell_type": "code",
      "source": "ten_things = \"shoe cloths water battery  pen pencil\"\n\nprint(\"Wait there's not 10 things in that list, let's fix that.\")\n\nstuff = ten_things.split(' ')\nmore_stuff = [\"Day\", \"Night\", \"Song\", \"Frisbee\",\n              \"Corn\", \"Banana\", \"Girl\", \"Boy\"]\nwhile len(stuff) != 10:\n    next_one = more_stuff.pop()\n    print(\"Adding: \", next_one)\n    stuff.append(next_one)\n    print(f\"There's {len(stuff)} items now.\")\n\n",
      "execution_count": 130,
      "outputs": [
        {
          "output_type": "stream",
          "text": "Wait there's not 10 things in that list, let's fix that.\nAdding:  Boy\nThere's 8 items now.\nAdding:  Girl\nThere's 9 items now.\nAdding:  Banana\nThere's 10 items now.\n",
          "name": "stdout"
        }
      ]
    },
    {
      "metadata": {
        "trusted": true
      },
      "cell_type": "code",
      "source": "stuff = ten_things.split(' ')\nmore_stuff = [\"Day\", \"Night\", \"Song\", \"Frisbee\",\n              \"Corn\", \"Banana\", \"Girl\", \"Boy\"]",
      "execution_count": 128,
      "outputs": []
    },
    {
      "metadata": {
        "trusted": true
      },
      "cell_type": "code",
      "source": "stuff\n\n",
      "execution_count": 124,
      "outputs": [
        {
          "output_type": "execute_result",
          "execution_count": 124,
          "data": {
            "text/plain": "['Apples', 'Oranges', 'Crows', 'Telephone', 'Light', 'Sugar']"
          },
          "metadata": {}
        }
      ]
    },
    {
      "metadata": {
        "trusted": true
      },
      "cell_type": "code",
      "source": "while len(stuff) != 10:\n    next_one = more_stuff.pop()\n    print(\"Adding: \", next_one)\n    stuff.append(next_one)\n    print(f\"There's {len(stuff)} items now.\")",
      "execution_count": 125,
      "outputs": [
        {
          "output_type": "stream",
          "text": "Adding:  Boy\nThere's 7 items now.\nAdding:  Girl\nThere's 8 items now.\nAdding:  Banana\nThere's 9 items now.\nAdding:  Corn\nThere's 10 items now.\n",
          "name": "stdout"
        }
      ]
    },
    {
      "metadata": {
        "trusted": true
      },
      "cell_type": "code",
      "source": "len(stuff)\n",
      "execution_count": 131,
      "outputs": [
        {
          "output_type": "execute_result",
          "execution_count": 131,
          "data": {
            "text/plain": "10"
          },
          "metadata": {}
        }
      ]
    },
    {
      "metadata": {
        "trusted": true
      },
      "cell_type": "code",
      "source": "# create a mapping of state to abbreviation\nstates = {\n    'Oregon': 'OR',\n    'Florida': 'FL',\n    'California': 'CA',\n    'New York': 'NY',\n    'Michigan': 'MI',\n    'state Dhaka':'SDH',\n}\n\n# create a basic set of states and some cities in them\ncities = {'CA': 'San Francisco',\n          'MI': 'Detroit',\n          'FL': 'Jacksonville',\n          'SDH': 'Dhaka'\n         }\n\n# add some more cities\ncities['NY'] = 'New York'\ncities['OR'] = 'Portland'\n\n# print out some cities\nprint('-' * 10)\nprint(\"NY State has: \", cities['NY'])\nprint(\"OR State has: \", cities['OR'])\n\n# print some states\nprint('-' * 10)\nprint(\"Michigan's abbreviation is: \", states[\"Michigan\"])\nprint(\"Florida's abbreviation is: \", states['Florida'])\n\n# do it by using the state then cities dict\nprint('-' * 10)\nprint(\"Michigan has: \", cities[states['Michigan']])\nprint(\"Florida has: \", cities[states['Florida']])\n\n# print every state abbreviation\nprint('-' * 10)\nfor state, abbrev in states.items():\n    print(f\"{state} is abbreviated {abbrev}\")\n\n# print every city in state\nprint('-' * 10)\nfor abbrev, city in cities.items():\n    print(f\"{abbrev} has the city {city}\")\n\n# now do both at the same time\nprint('-' * 10)\nfor state, abbrev in states.items():\n    print(f\"{state} state is abbreviated {abbrev}\")\n    print(f\"and has city {cities[abbrev]}\")\n\nprint('-' * 10)\n# safely get an abbreviation by state that might not be there\nstate = states.get('Texas')\n\nif not state:\n    print(\"Sorry, no Texas.\")\n\n# get a city with a default values\ncity = cities.get('TX', 'Does not Exist')\nprint(f\"The city for the state 'TX' is: {city}\")",
      "execution_count": 148,
      "outputs": [
        {
          "output_type": "stream",
          "text": "----------\nNY State has:  New York\nOR State has:  Portland\n----------\nMichigan's abbreviation is:  MI\nFlorida's abbreviation is:  FL\n----------\nMichigan has:  Detroit\nFlorida has:  Jacksonville\n----------\nOregon is abbreviated OR\nFlorida is abbreviated FL\nCalifornia is abbreviated CA\nNew York is abbreviated NY\nMichigan is abbreviated MI\nstate Dhaka is abbreviated SDH\n----------\nCA has the city San Francisco\nMI has the city Detroit\nFL has the city Jacksonville\nSDH has the city Dhaka\nNY has the city New York\nOR has the city Portland\n----------\nOregon state is abbreviated OR\nand has city Portland\nFlorida state is abbreviated FL\nand has city Jacksonville\nCalifornia state is abbreviated CA\nand has city San Francisco\nNew York state is abbreviated NY\nand has city New York\nMichigan state is abbreviated MI\nand has city Detroit\nstate Dhaka state is abbreviated SDH\nand has city Dhaka\n----------\nSorry, no Texas.\nThe city for the state 'TX' is: Does not Exist\n",
          "name": "stdout"
        }
      ]
    },
    {
      "metadata": {
        "trusted": true
      },
      "cell_type": "code",
      "source": "states",
      "execution_count": 133,
      "outputs": [
        {
          "output_type": "execute_result",
          "execution_count": 133,
          "data": {
            "text/plain": "{'Oregon': 'OR',\n 'Florida': 'FL',\n 'California': 'CA',\n 'New York': 'NY',\n 'Michigan': 'MI'}"
          },
          "metadata": {}
        }
      ]
    },
    {
      "metadata": {
        "trusted": true
      },
      "cell_type": "code",
      "source": "type(states)",
      "execution_count": 134,
      "outputs": [
        {
          "output_type": "execute_result",
          "execution_count": 134,
          "data": {
            "text/plain": "dict"
          },
          "metadata": {}
        }
      ]
    },
    {
      "metadata": {
        "trusted": true
      },
      "cell_type": "code",
      "source": "states['Michigan']",
      "execution_count": 135,
      "outputs": [
        {
          "output_type": "execute_result",
          "execution_count": 135,
          "data": {
            "text/plain": "'MI'"
          },
          "metadata": {}
        }
      ]
    },
    {
      "metadata": {
        "trusted": true
      },
      "cell_type": "code",
      "source": "print(\"Michigan has: \", cities[states['Michigan']])\nprint(\"Florida has: \", cities[states['Florida']])",
      "execution_count": 136,
      "outputs": [
        {
          "output_type": "stream",
          "text": "Michigan has:  Detroit\nFlorida has:  Jacksonville\n",
          "name": "stdout"
        }
      ]
    },
    {
      "metadata": {
        "trusted": true
      },
      "cell_type": "code",
      "source": "states['Michigan']",
      "execution_count": 137,
      "outputs": [
        {
          "output_type": "execute_result",
          "execution_count": 137,
          "data": {
            "text/plain": "'MI'"
          },
          "metadata": {}
        }
      ]
    },
    {
      "metadata": {
        "trusted": true
      },
      "cell_type": "code",
      "source": "cities['MI']",
      "execution_count": 138,
      "outputs": [
        {
          "output_type": "execute_result",
          "execution_count": 138,
          "data": {
            "text/plain": "'Detroit'"
          },
          "metadata": {}
        }
      ]
    },
    {
      "metadata": {
        "trusted": true
      },
      "cell_type": "code",
      "source": "print(\"state Dhaka has: \", cities[states['state Dhaka']])\nprint(\"Florida has: \", cities[states['Florida']])",
      "execution_count": 149,
      "outputs": [
        {
          "output_type": "stream",
          "text": "state Dhaka has:  Dhaka\nFlorida has:  Jacksonville\n",
          "name": "stdout"
        }
      ]
    },
    {
      "metadata": {
        "trusted": true
      },
      "cell_type": "code",
      "source": "print('-'*10)\ni=1\nfor name, abb in states.items():\n    print(f\"{name} is abbreviated {abb}\")\n",
      "execution_count": 152,
      "outputs": [
        {
          "output_type": "stream",
          "text": "----------\nOregon is abbreviated OR\nFlorida is abbreviated FL\nCalifornia is abbreviated CA\nNew York is abbreviated NY\nMichigan is abbreviated MI\nstate Dhaka is abbreviated SDH\n",
          "name": "stdout"
        }
      ]
    },
    {
      "metadata": {
        "trusted": true
      },
      "cell_type": "code",
      "source": "print('-' * 10)\ni=1\nfor key, value in cities.items():\n   print(i,f\"{key} has the city {value}\")\n   i=i+1",
      "execution_count": 153,
      "outputs": [
        {
          "output_type": "stream",
          "text": "----------\n1 CA has the city San Francisco\n2 MI has the city Detroit\n3 FL has the city Jacksonville\n4 SDH has the city Dhaka\n5 NY has the city New York\n6 OR has the city Portland\n",
          "name": "stdout"
        }
      ]
    },
    {
      "metadata": {
        "trusted": true
      },
      "cell_type": "code",
      "source": "class Song(object):\n    def __init__(self, lyrics):\n        self.lyrics = lyrics\n\n    def sing_me_a_song(self):\n        for line in self.lyrics:\n            print(line)\n\n\nhappy_bday = Song([\"Happy birthday to you\",\n                   \"I don't want to get sued\",\n                   \"So I'll stop right there\"])\n\nbulls_on_parade = Song([\"They rally around the family\",\n                        \"With pockets full of shells\"])\n\nhappy_bday.sing_me_a_song()\n\nbulls_on_parade.sing_me_a_song()",
      "execution_count": 159,
      "outputs": [
        {
          "output_type": "stream",
          "text": "Happy birthday to you\nI don't want to get sued\nSo I'll stop right there\nThey rally around the family\nWith pockets full of shells\n",
          "name": "stdout"
        }
      ]
    },
    {
      "metadata": {
        "trusted": true
      },
      "cell_type": "code",
      "source": "print('-' * 10)\n# safely get an abbreviation by state that might not be there\nstate = states.get('Texas')\n\nif not state:\n    print(\"Sorry, no Texas.\")\n\n# get a city with a default values\ncity = cities.get('TX', 'Does not Exist')\nprint(f\"The city for the state 'TX' is: {city}\")",
      "execution_count": 155,
      "outputs": [
        {
          "output_type": "stream",
          "text": "----------\nSorry, no Texas.\nThe city for the state 'TX' is: Does not Exist\n",
          "name": "stdout"
        }
      ]
    },
    {
      "metadata": {
        "trusted": true
      },
      "cell_type": "code",
      "source": "state",
      "execution_count": 156,
      "outputs": []
    },
    {
      "metadata": {
        "trusted": true
      },
      "cell_type": "code",
      "source": "type(state)",
      "execution_count": 158,
      "outputs": [
        {
          "output_type": "execute_result",
          "execution_count": 158,
          "data": {
            "text/plain": "NoneType"
          },
          "metadata": {}
        }
      ]
    },
    {
      "metadata": {
        "trusted": true
      },
      "cell_type": "code",
      "source": "desert = Song([\"in the desert there is no name\",\n                        \"With the horse running full\"])\n\ndesert.sing_me_a_song()",
      "execution_count": 162,
      "outputs": [
        {
          "output_type": "stream",
          "text": "in the desert there is no name\nWith the horse running full\n",
          "name": "stdout"
        }
      ]
    },
    {
      "metadata": {
        "trusted": true
      },
      "cell_type": "code",
      "source": "type(desert)\n",
      "execution_count": 164,
      "outputs": [
        {
          "output_type": "execute_result",
          "execution_count": 164,
          "data": {
            "text/plain": "__main__.Song"
          },
          "metadata": {}
        }
      ]
    },
    {
      "metadata": {
        "trusted": true
      },
      "cell_type": "code",
      "source": "import random\nimport sys\nfrom urllib.request import urlopen\n\nWORD_URL = \"http://learncodethehardway.org/words.txt\"\nWORDS = []\n\nPHRASES = {\n    \"class %%%(%%%):\":\n        \"Make a class named %%% that is-a %%%.\",\n    \"class %%%(object):\\n\\tdef __init__(self, ***)\":\n        \"class %%% has-a __init__ that takes self and *** params.\",\n    \"class %%%(object):\\n\\tdef ***(self, @@@)\":\n        \"class %%% has-a function *** that takes self and @@@ params.\",\n    \"*** = %%%()\":\n        \"Set *** to an instance of class %%%.\",\n    \"***.***(@@@)\":\n        \"From *** get the *** function, and call it with params self, @@@.\",\n    \"***.*** = '***'\":\n        \"From *** get the *** attribute and set it to '***'.\"\n}\n\n# do they want to drill phrases first\nif len(sys.argv) == 2 and sys.argv[1] == \"english\":\n    PHRASE_FIRST = True\nelse:\n    PHRASE_FIRST = False\n\n# load up the words from the website\nfor word in urlopen(WORD_URL).readlines():\n    WORDS.append(str(word.strip(), encoding=\"utf-8\"))\n\n\ndef convert(snippet, phrase):\n    class_names = [w.capitalize() for w in\n                   random.sample(WORDS, snippet.count(\"%%%\"))]\n    other_names = random.sample(WORDS, snippet.count(\"***\"))\n    results = []\n    param_names = []\n\n    for i in range(0, snippet.count(\"@@@\")):\n        param_count = random.randint(1, 3)\n        param_names.append(', '.join(\n            random.sample(WORDS, param_count)))\n\n    for sentence in snippet, phrase:\n        result = sentence[:]\n\n        # fake class names\n        for word in class_names:\n            result = result.replace(\"%%%\", word, 1)\n\n        # fake other names\n        for word in other_names:\n            result = result.replace(\"***\", word, 1)\n\n        # fake parameter lists\n        for word in param_names:\n            result = result.replace(\"@@@\", word, 1)\n\n        results.append(result)\n\n    return results\n\n\n# keep going until they hit CTRL-D\ntry:\n    while True:\n        snippets = list(PHRASES.keys())\n        random.shuffle(snippets)\n\n        for snippet in snippets:\n            phrase = PHRASES[snippet]\n            question, answer = convert(snippet, phrase)\n            if PHRASE_FIRST:\n                question, answer = answer, question\n\n            print(question)\n\n            input(\"> \")\n            print(f\"ANSWER: {answer}\\n\\n\")\nexcept EOFError:\n    print(\"\\nBye\")",
      "execution_count": null,
      "outputs": [
        {
          "output_type": "stream",
          "text": "bit.curve(cat, bead)\n> cat\nANSWER: From bit get the curve function, and call it with params self, cat, bead.\n\n\ndrink.bite = 'desk'\n",
          "name": "stdout"
        }
      ]
    },
    {
      "metadata": {
        "trusted": true
      },
      "cell_type": "code",
      "source": "",
      "execution_count": null,
      "outputs": []
    }
  ],
  "metadata": {
    "kernelspec": {
      "name": "python36",
      "display_name": "Python 3.6",
      "language": "python"
    },
    "language_info": {
      "mimetype": "text/x-python",
      "nbconvert_exporter": "python",
      "name": "python",
      "pygments_lexer": "ipython3",
      "version": "3.6.6",
      "file_extension": ".py",
      "codemirror_mode": {
        "version": 3,
        "name": "ipython"
      }
    }
  },
  "nbformat": 4,
  "nbformat_minor": 1
}