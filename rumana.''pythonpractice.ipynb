{
  "cells": [
    {
      "metadata": {},
      "cell_type": "markdown",
      "source": "Hi this is my first python practice file"
    },
    {
      "metadata": {
        "trusted": true
      },
      "cell_type": "code",
      "source": "# https://www.souravsengupta.com/cds2015/python/LPTHW.pdf\nprint(\"my name is ru\")",
      "execution_count": 1,
      "outputs": [
        {
          "output_type": "stream",
          "text": "my name is ru\n",
          "name": "stdout"
        }
      ]
    },
    {
      "metadata": {
        "trusted": true
      },
      "cell_type": "code",
      "source": "print ('Hello world')",
      "execution_count": 9,
      "outputs": [
        {
          "output_type": "stream",
          "text": "Hello world\n",
          "name": "stdout"
        }
      ]
    },
    {
      "metadata": {
        "trusted": true
      },
      "cell_type": "code",
      "source": "print(\"Hello World nyc!\")\nprint(\"Hello Again\")\nprint(\"I like typing this.\")\nprint(\"This is fun.\")\nprint('Yay! Printing.')\nprint(\"I'd much rather you 'not'.\")\nprint('I \"said\" do not touch this.')",
      "execution_count": 10,
      "outputs": [
        {
          "output_type": "stream",
          "text": "Hello World nyc!\nHello Again\nI like typing this.\nThis is fun.\nYay! Printing.\nI'd much rather you 'not'.\nI \"said\" do not touch this.\n",
          "name": "stdout"
        }
      ]
    },
    {
      "metadata": {
        "trusted": true
      },
      "cell_type": "code",
      "source": "print(\"this is my frist print statement\")",
      "execution_count": null,
      "outputs": []
    },
    {
      "metadata": {
        "trusted": true
      },
      "cell_type": "code",
      "source": "print(\"hello new york\")",
      "execution_count": null,
      "outputs": []
    },
    {
      "metadata": {
        "trusted": true
      },
      "cell_type": "code",
      "source": "print(\"i like python\")",
      "execution_count": null,
      "outputs": []
    },
    {
      "metadata": {
        "trusted": true
      },
      "cell_type": "code",
      "source": "print('i have my own computer')",
      "execution_count": 2,
      "outputs": [
        {
          "output_type": "stream",
          "text": "i have my own computer\n",
          "name": "stdout"
        }
      ]
    },
    {
      "metadata": {
        "trusted": true
      },
      "cell_type": "code",
      "source": "print(\"i'm good\")",
      "execution_count": 8,
      "outputs": [
        {
          "output_type": "stream",
          "text": "i'm good\n",
          "name": "stdout"
        }
      ]
    },
    {
      "metadata": {
        "trusted": true
      },
      "cell_type": "code",
      "source": "print('today is my \"frist class\"')",
      "execution_count": null,
      "outputs": []
    },
    {
      "metadata": {
        "trusted": true
      },
      "cell_type": "code",
      "source": "# A comment, this is so you can read your program later.\n# Anything after the # is ignored by pyhton.\n\nprint(\"I could have code like this.\")  # and the comment after is ignored\n\n# You can also use a comment to \"disable\" or comment out a piece of code:\n# print (\"This won't run.\")\n\nprint(\"This will run.\")",
      "execution_count": null,
      "outputs": []
    },
    {
      "metadata": {
        "trusted": true
      },
      "cell_type": "code",
      "source": "#hi python",
      "execution_count": null,
      "outputs": []
    },
    {
      "metadata": {
        "trusted": true
      },
      "cell_type": "code",
      "source": "(\"hello\")",
      "execution_count": null,
      "outputs": []
    },
    {
      "metadata": {
        "trusted": true
      },
      "cell_type": "code",
      "source": "print(\"I will now count my chickens:\")\n\nprint(\"Hens\", 25 + 30 / 6)\n\nprint(\"Rosters\", 100 - 25 * 3 % 4)\n\nprint(\"Now I will count the eggs:\")\n\nprint(round(3 + 2 + 1 - 5 + 4 % 2 - 1 / 4 + 6))\n\nprint(\"Is it true that 3 + 2 < 5 - 7?\")\n\nprint(3 + 2 < 5 - 7)\n\nprint(\"What is 3 + 2?\", 3 + 2)\nprint(\"What is 5 - 7?\", 5 - 7)\n\nprint(\"Oh, that's why it's False.\")\n\nprint(\"How about some more.\")\n\nprint(\"It is greater?\", 5 > -2)\nprint(\"It is greater or equal?\", 5 >= -2)\nprint(\"It is less or equal?\", 5 <= -2)",
      "execution_count": null,
      "outputs": []
    },
    {
      "metadata": {},
      "cell_type": "markdown",
      "source": "![image.png](attachment:image.png)\n\nRemainder comes after multiply but before add\n",
      "attachments": {
        "image.png": {
          "image/png": "[encoded data removed]"
        }
      }
    },
    {
      "metadata": {
        "trusted": true
      },
      "cell_type": "code",
      "source": "cars = 100\nspace_in_a_car = 4.0\ndrivers = 30\npassengers = 90\ncars_not_driven = cars - drivers\ncars_driven = drivers\ncarpool_capacity = cars_driven * space_in_a_car\naverage_passengers_per_car = passengers / cars_driven\n\nprint(\"There are\", cars, \"cars available.\")\nprint(\"There are only\", drivers, \"drivers available.\")\nprint(\"There will be\", cars_not_driven, \"empty cars today\")\nprint(\"We can transport\", carpool_capacity, \"people today.\")\nprint(\"We have\", passengers, \"to carpool today.\")\nprint(\"We need to put about\", average_passengers_per_car, \"in each car.\")",
      "execution_count": null,
      "outputs": []
    },
    {
      "metadata": {
        "trusted": true
      },
      "cell_type": "code",
      "source": "cars",
      "execution_count": null,
      "outputs": []
    },
    {
      "metadata": {
        "trusted": true
      },
      "cell_type": "code",
      "source": "drivers",
      "execution_count": null,
      "outputs": []
    },
    {
      "metadata": {
        "trusted": true
      },
      "cell_type": "code",
      "source": "cars/drivers",
      "execution_count": null,
      "outputs": []
    },
    {
      "metadata": {
        "trusted": true
      },
      "cell_type": "code",
      "source": "carpool_capacity",
      "execution_count": null,
      "outputs": []
    },
    {
      "metadata": {
        "trusted": true
      },
      "cell_type": "code",
      "source": "my_name = 'rumana'\nmy_age = 35  # not a lie\nmy_height = 74  # inches\nmy_weight = 180  # lbs\nmy_eyes = 'Blue'\nmy_teeth = 'White'\nmy_hair = 'Brown'\n\nprint(f\"Let's talk about {my_name}.\")\nprint(f\"He's {my_height} inches tall.\")\nprint(f\"He's {my_weight} pounds heavy.\")\nprint(\"Actually that's not too heavy.\")\nprint(f\"He's got {my_eyes} eyes and {my_hair} hair.\")\nprint(f\"His teeth are usually {my_teeth} depending on the coffee.\")\n\n# this line is tricky, try to get it exactly right\ntotal = my_age + my_height + my_weight\nprint(f\"If I add {my_age}, {my_height}, and {my_weight} I get {total}.\")",
      "execution_count": null,
      "outputs": []
    },
    {
      "metadata": {
        "trusted": true
      },
      "cell_type": "code",
      "source": "my_name",
      "execution_count": null,
      "outputs": []
    },
    {
      "metadata": {
        "trusted": true
      },
      "cell_type": "code",
      "source": "my_age",
      "execution_count": null,
      "outputs": []
    },
    {
      "metadata": {
        "trusted": true
      },
      "cell_type": "code",
      "source": "my_height",
      "execution_count": null,
      "outputs": []
    },
    {
      "metadata": {
        "trusted": true
      },
      "cell_type": "code",
      "source": "my_weight",
      "execution_count": null,
      "outputs": []
    },
    {
      "metadata": {
        "trusted": true
      },
      "cell_type": "code",
      "source": "print(f\"If I add {my_age}, {my_height}, and {my_weight} I get {total}.\")",
      "execution_count": null,
      "outputs": []
    },
    {
      "metadata": {
        "trusted": true
      },
      "cell_type": "code",
      "source": "my_height",
      "execution_count": null,
      "outputs": []
    },
    {
      "metadata": {
        "trusted": true
      },
      "cell_type": "code",
      "source": "types_of_people = 10000000\nx = f\"There are {types_of_people} types of people.\"\n\nbinary = \"binary\"\nxxx = 1\ndo_not = \"don't\"\ny = f\"Those who know {xxx} and those who {do_not}.\"\n\nprint(x)\nprint(y)\n\nprint(f\"I said: {x}\")\nprint(f\"I also said : '{y}'.\")\n",
      "execution_count": null,
      "outputs": []
    },
    {
      "metadata": {
        "trusted": true
      },
      "cell_type": "code",
      "source": "xxx",
      "execution_count": null,
      "outputs": []
    },
    {
      "metadata": {
        "trusted": true
      },
      "cell_type": "code",
      "source": "\nhilarious = 786\n\njoke_evaluation = \"Isn't that joke so funny?! {}\"\n\nprint(joke_evaluation)\n\n",
      "execution_count": null,
      "outputs": []
    },
    {
      "metadata": {
        "trusted": true
      },
      "cell_type": "code",
      "source": "w = \"This is the left side of...\"\ne = \"a string with a right side.\"\n\nprint(w + e)",
      "execution_count": null,
      "outputs": []
    },
    {
      "metadata": {
        "trusted": true
      },
      "cell_type": "code",
      "source": "x=\"this is my book \"\ny=\"this is my pen\"\nprint(x+y)",
      "execution_count": null,
      "outputs": []
    },
    {
      "metadata": {
        "trusted": true
      },
      "cell_type": "code",
      "source": "print(\"Mary had a little lamb.\")\nprint(\"Its fleece was white as {}.\".format('snow'))\nprint(\"And everywhere that Mary went.\")\nprint(\".\" * 10)  # what'd that do?\n\nend1 = \"C\"\nend2 = \"h\"\nend3 = \"e\"\nend4 = \"e\"\nend5 = \"s\"\nend6 = \"e\"\nend7 = \"B\"\nend8 = \"u\"\nend9 = \"r\"\nend10 = \"g\"\nend11 = \"e\"\nend12 = \"r\"\n\nprint(end1 + end2 + end3 + end4 + end5 + end6, =)\nprint(end7 + end8 + end9 + end10 + end11 + end12)",
      "execution_count": null,
      "outputs": []
    },
    {
      "metadata": {
        "trusted": true
      },
      "cell_type": "code",
      "source": "end1+end2+end3+end4+end5+end6+end7+end8+end9+end10+end12",
      "execution_count": null,
      "outputs": []
    },
    {
      "metadata": {
        "trusted": true
      },
      "cell_type": "code",
      "source": "print(\".\" * 20)  # what'd that do?",
      "execution_count": null,
      "outputs": []
    },
    {
      "metadata": {
        "trusted": true
      },
      "cell_type": "code",
      "source": "formatter = \" very easy {} {} {} {}\"\n\nprint(formatter.format(1, 2, 3, 4))\nprint(formatter.format(\"one\", \"two\", \"three\", \"four\"))\nprint(formatter.format(True, False, False, True))\nprint(formatter.format(formatter, formatter, formatter, formatter))\nprint(formatter.format(\"Try your\",\n                       \"Own text here\",\n                       \"Maybe a poem\",\n                       \"Or a song about fear\"\n                       ))",
      "execution_count": null,
      "outputs": []
    },
    {
      "metadata": {
        "trusted": true
      },
      "cell_type": "code",
      "source": "formatter.format(\"jjj\",\"kkk\",\"lll\",\"mmm\",\"nnn\")",
      "execution_count": null,
      "outputs": []
    },
    {
      "metadata": {
        "trusted": true
      },
      "cell_type": "code",
      "source": "",
      "execution_count": null,
      "outputs": []
    },
    {
      "metadata": {
        "trusted": true
      },
      "cell_type": "code",
      "source": "# Here's some new strange stuff, remember type it exactly.\n\ndays = \"Mon Tue Wed Thu Fri Sat Sun\"\nmonths = \"Jan\\nFeb\\nMar\\nApr\\nMay\\nJun\\nJul\\nAug\"\n\nprint(\"Here are the days:\", days)\nprint(\"Here are the months: \", months)\n\nprint(\"\"\"\nThere's something going on here.\nWith the three double-quotes.\nWe'll be able to type as much as we like.\nEven 4 lines if we want, or 5, or 6.\n\"\"\")",
      "execution_count": null,
      "outputs": []
    },
    {
      "metadata": {
        "trusted": true
      },
      "cell_type": "code",
      "source": "print(\"thu\\n\\nxxxx\\nvvvv\")",
      "execution_count": null,
      "outputs": []
    },
    {
      "metadata": {
        "trusted": true
      },
      "cell_type": "code",
      "source": "print(\"nFeb\\nddd\\gffff\\nhgt\")",
      "execution_count": null,
      "outputs": []
    },
    {
      "metadata": {
        "trusted": true
      },
      "cell_type": "code",
      "source": "print(\"\"\"hhhhhh\n      jjjjj\n      jjjjj\"\"\")",
      "execution_count": null,
      "outputs": []
    },
    {
      "metadata": {
        "trusted": true
      },
      "cell_type": "code",
      "source": "print(\"\"\"\"hgf\ndsa\"\"\")",
      "execution_count": null,
      "outputs": []
    },
    {
      "metadata": {
        "trusted": true
      },
      "cell_type": "code",
      "source": "tabby_cat = \"\\tI'm tabbed in.\"\npersian_cat = \"I'm split\\non a line.\"\nbackslash_cat = \"I'm \\\\ a \\\\ cat.\"\n\nfat_cat = \"\"\"\nI'll do a list:\n\\t* Cat food\n\\t* Fishes\n\\t* Catnip\\n\\t* Grass\n\"\"\"\n\nprint(tabby_cat)\nprint(persian_cat)\nprint(backslash_cat)\nprint(fat_cat)",
      "execution_count": null,
      "outputs": []
    },
    {
      "metadata": {
        "trusted": true
      },
      "cell_type": "code",
      "source": "print(tabby_cat)",
      "execution_count": null,
      "outputs": []
    },
    {
      "metadata": {
        "trusted": true
      },
      "cell_type": "code",
      "source": "print(tabby_cat)",
      "execution_count": null,
      "outputs": []
    },
    {
      "metadata": {
        "trusted": true
      },
      "cell_type": "code",
      "source": "print(\"\\t*vvvvv\")",
      "execution_count": null,
      "outputs": []
    },
    {
      "metadata": {
        "trusted": true
      },
      "cell_type": "code",
      "source": "print(\"\\t*\")",
      "execution_count": null,
      "outputs": []
    },
    {
      "metadata": {
        "trusted": true
      },
      "cell_type": "code",
      "source": "print(\"How old are you?\", end=' ')\nage = input()\nprint(\"How tall are you?\", end=' ')\nheight = input()\nprint(\"How much do you weight?\", end=' ')\nweight = input()\n\n\nprint(\"where do you live?\", end=' ')\ncity = input()\n\n\nprint(\"where do you go to party?\", end=' ')\nparty = input()\n\nprint(\"which school are you going?\", end=' ')\nschool = input()\n\nprint(\"Where do you work?\", end=' ')\nwork = input()\n\n\nprint(f\"So, you're {age} old, {height} tall and {weight} heavy. you live in {city},you party in {party},you go to {school},you go to{city}\")",
      "execution_count": null,
      "outputs": []
    },
    {
      "metadata": {
        "trusted": true
      },
      "cell_type": "code",
      "source": "from sys import argv\n\n# read the WYSS section for how to run this\nfirst, second, third = argv\n\nprint(\"Your first variable is:\", first)\nprint(\"Your second variable is:\", second)\nprint(\"Your third variable is:\", third)",
      "execution_count": null,
      "outputs": []
    },
    {
      "metadata": {
        "trusted": true
      },
      "cell_type": "code",
      "source": "type(argv)",
      "execution_count": null,
      "outputs": []
    },
    {
      "metadata": {
        "trusted": true
      },
      "cell_type": "code",
      "source": "argv",
      "execution_count": null,
      "outputs": []
    },
    {
      "metadata": {
        "trusted": true
      },
      "cell_type": "code",
      "source": "foodlist =['milk', 'egg', 'bread']",
      "execution_count": null,
      "outputs": []
    },
    {
      "metadata": {
        "trusted": true
      },
      "cell_type": "code",
      "source": "foodlist",
      "execution_count": null,
      "outputs": []
    },
    {
      "metadata": {
        "trusted": true
      },
      "cell_type": "code",
      "source": "type(foodlist)",
      "execution_count": null,
      "outputs": []
    },
    {
      "metadata": {
        "trusted": true
      },
      "cell_type": "code",
      "source": "aboutme=['rumana','woman','29',]",
      "execution_count": null,
      "outputs": []
    },
    {
      "metadata": {
        "trusted": true
      },
      "cell_type": "code",
      "source": "type(aboutme)",
      "execution_count": null,
      "outputs": []
    },
    {
      "metadata": {
        "trusted": true
      },
      "cell_type": "code",
      "source": "aboutme",
      "execution_count": null,
      "outputs": []
    },
    {
      "metadata": {
        "trusted": true
      },
      "cell_type": "code",
      "source": "name,gender,age=aboutme",
      "execution_count": null,
      "outputs": []
    },
    {
      "metadata": {
        "trusted": true
      },
      "cell_type": "code",
      "source": "name",
      "execution_count": null,
      "outputs": []
    },
    {
      "metadata": {
        "trusted": true
      },
      "cell_type": "code",
      "source": "gender",
      "execution_count": null,
      "outputs": []
    },
    {
      "metadata": {
        "trusted": true
      },
      "cell_type": "code",
      "source": "age",
      "execution_count": null,
      "outputs": []
    },
    {
      "metadata": {
        "trusted": true
      },
      "cell_type": "code",
      "source": "# ()\n# []\n# {}",
      "execution_count": null,
      "outputs": []
    },
    {
      "metadata": {
        "trusted": true
      },
      "cell_type": "code",
      "source": "script='joshi python'\nuser_name='joshi'\n\n\nprompt = '> '\n\nprint(f\"Hi {user_name}, I'm the {script} script.\")\nprint(\"I'd like to ask you a few questions.\")\nprint(f\"Do you like me {user_name}?\")\nlikes = input(prompt)\n\nprint(f\"Where do you live {user_name}?\")\nplace = input(prompt)\n\nprint(\"What kind of computer do you have?\")\ncomputer = input(prompt)\n\nprint(f\"\"\"\nAlright, so you said {likes} about liking me.\nYou live in {place}. Not sure where that is.\nAnd you have a {computer} computer. Nice.\n\"\"\")",
      "execution_count": null,
      "outputs": []
    },
    {
      "metadata": {
        "trusted": true
      },
      "cell_type": "code",
      "source": "fromuser=input()",
      "execution_count": null,
      "outputs": []
    },
    {
      "metadata": {
        "trusted": true
      },
      "cell_type": "code",
      "source": "fromuser",
      "execution_count": null,
      "outputs": []
    },
    {
      "metadata": {
        "trusted": true
      },
      "cell_type": "code",
      "source": "#wap to get name pla ce from user nd dispalt it",
      "execution_count": null,
      "outputs": []
    },
    {
      "metadata": {
        "trusted": true
      },
      "cell_type": "code",
      "source": "print(\" what name?\")\nprompt = '> '\nname = input(prompt)\nprint('your name ix',name)",
      "execution_count": null,
      "outputs": []
    },
    {
      "metadata": {
        "trusted": true
      },
      "cell_type": "code",
      "source": "print(\" what addrees?\")\nprompt = '> '\nname = input(prompt)\nprint('your addrees ix',name)",
      "execution_count": null,
      "outputs": []
    },
    {
      "metadata": {
        "trusted": true
      },
      "cell_type": "code",
      "source": "name",
      "execution_count": null,
      "outputs": []
    },
    {
      "metadata": {
        "trusted": true
      },
      "cell_type": "code",
      "source": "# this one is like your scripts with argv\ndef print_two(*args):\n    arg1, arg2 = args\n    print(f\"arg1: {arg1}, arg2: {arg2}\")\n\n\n# ok, that *args is actually pointless, we can just do this\ndef print_two_again(arg1, arg2):\n    print(f\"arg1: {arg1}, arg2: {arg2}\")\n\n\n# this just takes one argument\ndef print_one(arg1):\n    print(f\"arg1: {arg1}\")\n\n\n# this one takes no arguments\ndef print_none():\n    print(\"I got nothin'.\")\n\n\nprint_two(\"Zed\", \"Shaw\")\nprint_two_again(\"Zed\", \"Shaw\")\nprint_one(\"First!\")\nprint_none()",
      "execution_count": null,
      "outputs": []
    },
    {
      "metadata": {
        "trusted": true
      },
      "cell_type": "code",
      "source": "def simplefunction():\n    print('say heloo to functin')\n    print(\"go shoppinh\")\n    print(\"buy flowvs\")\n    print(\"buy me a dress\")",
      "execution_count": null,
      "outputs": []
    },
    {
      "metadata": {
        "trusted": true
      },
      "cell_type": "code",
      "source": "simplefunction()",
      "execution_count": null,
      "outputs": []
    },
    {
      "metadata": {
        "trusted": true
      },
      "cell_type": "code",
      "source": "def simplefunction():\n    print(\"get me food\")\n    print(\"lets go to park\")",
      "execution_count": null,
      "outputs": []
    },
    {
      "metadata": {
        "trusted": true
      },
      "cell_type": "code",
      "source": "simplefunction()",
      "execution_count": null,
      "outputs": []
    },
    {
      "metadata": {
        "trusted": true
      },
      "cell_type": "code",
      "source": "simplefunction()",
      "execution_count": null,
      "outputs": []
    },
    {
      "metadata": {
        "trusted": true
      },
      "cell_type": "code",
      "source": "def break_words(stuff):\n    \"\"\"This function will break up words for us.\"\"\"\n    words = stuff.split(' ')\n    return words\n\n\ndef sort_words(words):\n    \"\"\"Sorts the words.\"\"\"\n    return sorted(words)\n\n\ndef print_first_word(words):\n    \"\"\"Prints the first word after popping it off.\"\"\"\n    word = words.pop(0)\n    print(word)\n\n\ndef print_last_word(words):\n    \"\"\"Prints the last word after popping it of.\"\"\"\n    word = words.pop(-1)\n    print(word)\n\n\ndef sort_sentence(sentence):\n    \"\"\"Takes in a full sentence and returns the sorted words.\"\"\"\n    words = break_words(sentence)\n    return (sort_words(words))\n\n\ndef print_first_and_last(sentence):\n    \"\"\"Prints the first and last words of a sentence.\"\"\"\n    words = break_words(sentence)\n    print_first_word(words)\n    print_last_word(words)\n\n\ndef print_first_and_last_sorted(sentence):\n    \"\"\"Sorts the words then prints the first and last one.\"\"\"\n    words = sort_sentence(sentence)\n    print_first_word(words)\n    print_last_word(words)",
      "execution_count": null,
      "outputs": []
    },
    {
      "metadata": {
        "trusted": true
      },
      "cell_type": "code",
      "source": "",
      "execution_count": null,
      "outputs": []
    },
    {
      "metadata": {
        "trusted": true
      },
      "cell_type": "code",
      "source": "break_words(\"hi h r you\")",
      "execution_count": null,
      "outputs": []
    },
    {
      "metadata": {
        "trusted": true
      },
      "cell_type": "code",
      "source": "sort_words(\"hello world\")",
      "execution_count": null,
      "outputs": []
    },
    {
      "metadata": {
        "trusted": true
      },
      "cell_type": "code",
      "source": "print_first_word([\"hello\", \"how\", \"you\"])",
      "execution_count": null,
      "outputs": []
    },
    {
      "metadata": {
        "trusted": true
      },
      "cell_type": "code",
      "source": "print_first_word([\"rumana\",\"its\",\"hard\"])",
      "execution_count": null,
      "outputs": []
    },
    {
      "metadata": {
        "trusted": true
      },
      "cell_type": "code",
      "source": "print_last_word([\"its\",\"raining\"])",
      "execution_count": null,
      "outputs": []
    },
    {
      "metadata": {
        "trusted": true
      },
      "cell_type": "code",
      "source": "sort_sentence(\"my name is rumana\")",
      "execution_count": null,
      "outputs": []
    },
    {
      "metadata": {
        "trusted": true
      },
      "cell_type": "code",
      "source": "print_first_and_last(\"i live in queens\")",
      "execution_count": null,
      "outputs": []
    },
    {
      "metadata": {
        "trusted": true
      },
      "cell_type": "code",
      "source": "sort_words([\"i\",\"live\", \"in\", \"queens\"])",
      "execution_count": null,
      "outputs": []
    },
    {
      "metadata": {
        "trusted": true
      },
      "cell_type": "code",
      "source": "print_first_and_last_sorted(\"new york is a good city\")",
      "execution_count": null,
      "outputs": []
    },
    {
      "metadata": {
        "trusted": true
      },
      "cell_type": "code",
      "source": "x=['hi', 'how' ,'are' ,'you']",
      "execution_count": null,
      "outputs": []
    },
    {
      "metadata": {
        "trusted": true
      },
      "cell_type": "code",
      "source": "x",
      "execution_count": null,
      "outputs": []
    },
    {
      "metadata": {
        "trusted": true
      },
      "cell_type": "code",
      "source": "len(x)",
      "execution_count": null,
      "outputs": []
    },
    {
      "metadata": {
        "trusted": true
      },
      "cell_type": "code",
      "source": "len(x)",
      "execution_count": null,
      "outputs": []
    },
    {
      "metadata": {
        "trusted": true
      },
      "cell_type": "code",
      "source": "x[0]",
      "execution_count": null,
      "outputs": []
    },
    {
      "metadata": {
        "trusted": true
      },
      "cell_type": "code",
      "source": "x[1]",
      "execution_count": null,
      "outputs": []
    },
    {
      "metadata": {
        "trusted": true
      },
      "cell_type": "code",
      "source": "x.pop()",
      "execution_count": null,
      "outputs": []
    },
    {
      "metadata": {
        "trusted": true
      },
      "cell_type": "code",
      "source": "x",
      "execution_count": null,
      "outputs": []
    },
    {
      "metadata": {
        "trusted": true
      },
      "cell_type": "code",
      "source": "y =\"hi hoa, ere you ,friend\".split(\",\")",
      "execution_count": null,
      "outputs": []
    },
    {
      "metadata": {
        "trusted": true
      },
      "cell_type": "code",
      "source": "y",
      "execution_count": null,
      "outputs": []
    },
    {
      "metadata": {
        "trusted": true
      },
      "cell_type": "code",
      "source": "z=sorted(y)",
      "execution_count": null,
      "outputs": []
    },
    {
      "metadata": {
        "trusted": true
      },
      "cell_type": "code",
      "source": "z",
      "execution_count": null,
      "outputs": []
    },
    {
      "metadata": {
        "trusted": true
      },
      "cell_type": "code",
      "source": "z[1]",
      "execution_count": null,
      "outputs": []
    },
    {
      "metadata": {
        "trusted": true
      },
      "cell_type": "code",
      "source": "z[2]",
      "execution_count": null,
      "outputs": []
    },
    {
      "metadata": {
        "trusted": true
      },
      "cell_type": "code",
      "source": "z[0]",
      "execution_count": null,
      "outputs": []
    },
    {
      "metadata": {
        "trusted": true
      },
      "cell_type": "code",
      "source": "len(z)",
      "execution_count": null,
      "outputs": []
    },
    {
      "metadata": {
        "trusted": true
      },
      "cell_type": "code",
      "source": "print_first_and_last(\"i  like to eat biriyani\")",
      "execution_count": null,
      "outputs": []
    },
    {
      "metadata": {
        "trusted": true
      },
      "cell_type": "code",
      "source": "x=['i','love', 'food']",
      "execution_count": null,
      "outputs": []
    },
    {
      "metadata": {
        "trusted": true
      },
      "cell_type": "code",
      "source": "x",
      "execution_count": null,
      "outputs": []
    },
    {
      "metadata": {
        "trusted": true
      },
      "cell_type": "code",
      "source": "x[2]",
      "execution_count": null,
      "outputs": []
    },
    {
      "metadata": {
        "trusted": true
      },
      "cell_type": "code",
      "source": "len(x)",
      "execution_count": null,
      "outputs": []
    },
    {
      "metadata": {
        "trusted": true
      },
      "cell_type": "code",
      "source": "x[1]",
      "execution_count": null,
      "outputs": []
    },
    {
      "metadata": {
        "trusted": true
      },
      "cell_type": "code",
      "source": "x.pop(0)",
      "execution_count": null,
      "outputs": []
    },
    {
      "metadata": {
        "trusted": true
      },
      "cell_type": "code",
      "source": "x",
      "execution_count": null,
      "outputs": []
    },
    {
      "metadata": {
        "trusted": true
      },
      "cell_type": "code",
      "source": "print_first_and_last_sorted(\"hi there\")",
      "execution_count": null,
      "outputs": []
    },
    {
      "metadata": {
        "trusted": true
      },
      "cell_type": "code",
      "source": "x[0]",
      "execution_count": null,
      "outputs": []
    },
    {
      "metadata": {
        "trusted": true
      },
      "cell_type": "code",
      "source": "x",
      "execution_count": null,
      "outputs": []
    },
    {
      "metadata": {
        "trusted": true
      },
      "cell_type": "code",
      "source": "print(\"How old are you?\", end=' ')\nage = input()\nprint(\"How tall are you?\", end=' ')\nheight = input()\nprint(\"How much do you weigh?\", end=' ')\nweight = input()\n\nprint(f\"So, you're {age} old, {height} tall and {weight} heavy.\")\n\n\n\nprint(\"Let's practice everything.\")\nprint('You\\'d need to know \\'bout escapes with \\\\ that do:')\nprint('\\n newlines and \\t tabs.')\n\npoem = \"\"\"\n\\tThe lovely world\nwith logic so firmly planted\ncannot discern \\n the needs of love\nnor comprehend passion from intuition\nand requires an explanation\n\\n\\t\\twhere there is none.\n\"\"\"\n\nprint(\"--------------\")\nprint(poem)\nprint(\"--------------\")\n\nfive = 10 - 2 + 3 - 6\nprint(f\"This should be five: {five}\")\n\n\ndef secret_formula(started):\n    jelly_beans = started * 500\n    jars = jelly_beans / 1000\n    crates = jars / 100\n    return jelly_beans, jars, crates\n\n\nstart_point = 10000\nbeans, jars, crates = secret_formula(start_point)\n\n# remember that this is another way to format a string\nprint(\"With a starting point of: {}\".format(start_point))\n# it's just like with an f\"\" string\nprint(f\"We'd have {beans} beans, {jars} jars, and {crates} crates.\")\n\nstart_point = start_point / 10\n\nprint(\"We can also do that this way:\")\nformula = secret_formula(start_point)\n# this is an easy way to apply a list to a format string\nprint(\"We'd have {} beans, {} jars, and {} crates.\".format(*formula))\n\npeople = 20\ncats = 30\ndogs = 15\n\nif people < cats:\n    print(\"Too many cats! The world is doomed!\")\n\nif people > cats:\n    print(\"Not many cats! The world is saved!\")\n\nif people < dogs:\n    print(\"The world is drooled on!\")\n\nif people > dogs:\n    print(\"The world is dry!\")\n\ndogs += 5\n\nif people >= dogs:\n    print(\"People are greater than or equal to dogs.\")\n\nif people <= dogs:\n    print(\"People are less than or equal to dogs.\")\n\nif people == dogs:\n    print(\"People are dogs.\")",
      "execution_count": null,
      "outputs": []
    },
    {
      "metadata": {
        "trusted": true
      },
      "cell_type": "code",
      "source": "secret_formula(8888)",
      "execution_count": null,
      "outputs": []
    },
    {
      "metadata": {
        "trusted": true
      },
      "cell_type": "code",
      "source": "if people < cats:\n    print(\"Too many cats! The world is doomed!\")",
      "execution_count": null,
      "outputs": []
    },
    {
      "metadata": {
        "trusted": true
      },
      "cell_type": "code",
      "source": "people=20\ndogs=15\n\nif people < dogs:\n    print(\"The world is dry!\")\n\n",
      "execution_count": null,
      "outputs": []
    },
    {
      "metadata": {
        "trusted": true
      },
      "cell_type": "code",
      "source": "people\n",
      "execution_count": null,
      "outputs": []
    },
    {
      "metadata": {
        "trusted": true
      },
      "cell_type": "code",
      "source": "dogs",
      "execution_count": null,
      "outputs": []
    },
    {
      "metadata": {
        "trusted": true
      },
      "cell_type": "code",
      "source": "\nif people > dogs:\n    print(\"The world is dry!\")\n",
      "execution_count": null,
      "outputs": []
    },
    {
      "metadata": {
        "trusted": true
      },
      "cell_type": "code",
      "source": "if people < cats:\n    print(\"Not many cats! The world is saved!\")\n",
      "execution_count": null,
      "outputs": []
    },
    {
      "metadata": {
        "trusted": true
      },
      "cell_type": "code",
      "source": "if people >= dogs:\n    print(\"People are greater than or equal to dogs.\")\n",
      "execution_count": null,
      "outputs": []
    },
    {
      "metadata": {
        "trusted": true
      },
      "cell_type": "code",
      "source": "if people >= dogs:\n    print(\"People are less than or equal to dogs.\")\n",
      "execution_count": null,
      "outputs": []
    },
    {
      "metadata": {
        "trusted": true
      },
      "cell_type": "code",
      "source": "if people >= dogs:\n    print(\"People are dogs.\")",
      "execution_count": null,
      "outputs": []
    },
    {
      "metadata": {
        "trusted": true
      },
      "cell_type": "code",
      "source": "people = 20\ncats = 30\ndogs = 15\n\nif people < cats:\n    print(\"Too many cats! The world is doomed!\")\n\nif people > cats:\n    print(\"Not many cats! The world is saved!\")\n\nif people < dogs:\n    print(\"The world is drooled on!\")\n\nif people > dogs:\n    print(\"The world is dry!\")\n\ndogs += 5\n\nif people >= dogs:\n    print(\"People are greater than or equal to dogs.\")\n\nif people <= dogs:\n    print(\"People are less than or equal to dogs.\")\n\nif people == dogs:\n    print(\"People are dogs.\")",
      "execution_count": null,
      "outputs": []
    },
    {
      "metadata": {
        "trusted": true
      },
      "cell_type": "code",
      "source": "if people < cats:\n    print(\"Too many cats! The world is doomed!\")\n",
      "execution_count": null,
      "outputs": []
    },
    {
      "metadata": {
        "trusted": true
      },
      "cell_type": "code",
      "source": "if people < cats:\n    print(\"Not many cats! The world is saved!\")\n",
      "execution_count": null,
      "outputs": []
    },
    {
      "metadata": {
        "trusted": true
      },
      "cell_type": "code",
      "source": "if people <= dogs:\n    print(\"The world is drooled on!\")\n",
      "execution_count": null,
      "outputs": []
    },
    {
      "metadata": {
        "trusted": true
      },
      "cell_type": "code",
      "source": "people = 30\ncars = 40\ntrucks = 15\n\nif cars > people:\n    print(\"We should take the cars.\")\nelif cars < people:\n    print(\"We should not take the cars.\")\nelse:\n    print(\"We can't decide.\")\n\nif trucks > cars:\n    print(\"That's too many trucks.\")\nelif trucks < cars:\n    print(\"Maybe we could take the trucks.\")\nelse:\n    print(\"We still can't decide.\")\n\nif people > trucks:\n    print(\"Alright, let's just take the trucks.\")\nelse:\n    print(\"Fine, let's stay home then.\")",
      "execution_count": null,
      "outputs": []
    },
    {
      "metadata": {
        "trusted": true
      },
      "cell_type": "code",
      "source": "if cars > people:\n    print(\"We should take the cars.\")\nelif cars > people:\n    print(\"We should not take the cars.\")\nelse:\n    print(\"We can't decide.\")",
      "execution_count": null,
      "outputs": []
    },
    {
      "metadata": {
        "trusted": true
      },
      "cell_type": "code",
      "source": "flower=10\nchocolate=10\n\nif flower > chocolate:\n    print(\"flower is expensive get me chocolate.\")\nelif flower < chocolate:\n    print(\"Maybe we could take the flower.\")\nelse:\n    print(\"We still can't decide.\")",
      "execution_count": null,
      "outputs": []
    },
    {
      "metadata": {
        "trusted": true
      },
      "cell_type": "code",
      "source": "if people > trucks:\n    print(\"Alright, let's just take the trucks.\")\nelse:\n    print(\"Fine, let's stay home then.\")",
      "execution_count": null,
      "outputs": []
    },
    {
      "metadata": {
        "trusted": true
      },
      "cell_type": "code",
      "source": "house=500\ncar=200\nif house > car:\n    print(\"Alright, let's just take the house.\")\nelse:\n    print(\"Fine, let's stay home then.\")",
      "execution_count": null,
      "outputs": []
    },
    {
      "metadata": {
        "trusted": true
      },
      "cell_type": "code",
      "source": "house=500\ncar=200\nif house > car:\n    print(\"house is expensive buy me car.\")\nelif house < car:\n    print(\"Maybe we could take the house.\")\nelse:\n    print(\"We still can't decide.\")",
      "execution_count": null,
      "outputs": []
    },
    {
      "metadata": {
        "trusted": true
      },
      "cell_type": "code",
      "source": "print(\"You enter a dark room with two doors.\")\nprint(\"Do you go through door #1 or door #2?\")\n\ndoor = input(\"> \")\n\nif door == \"1\":\n    print(\"There's a giant bear here eating a cheese cake.\")\n    print(\"What do you do?\")\n    print(\"1. Take the cake.\")\n    print(\"2. Scream at the bear.\")\n\n    bear = input(\"> \")\n\n    if bear == \"1\":\n        print(\"The bear eats your face off. Good job!\")\n    elif bear == \"2\":\n        print(\"The bear eats your legs off. Good job!\")\n    else:\n        print(f\"Well, doing {bear} is probably better.\")\n        print(\"Bear runs away.\")\n\nelif door == \"2\":\n    print(\"You stare into the endless abyss at Cthulhu's retina.\")\n    print(\"1. Blueberries.\")\n    print(\"2. Yellow jacket clothespins.\")\n    print(\"3. Understanding revolvers yelling melodies.\")\n\n    insanity = input(\"> \")\n\n    if insanity == \"1\" or insanity == \"2\":\n        print(\"Your body survives powered by a mind of jello.\")\n        print(\"Good job!\")\n    else:\n        print(\"The insanity rots your eyes into a pool of muck.\")\n        print(\"Good job!\")\n\nelse:\n    print(\"You stumble around and fall on knife and die. Good job!\")",
      "execution_count": null,
      "outputs": []
    },
    {
      "metadata": {
        "trusted": true
      },
      "cell_type": "code",
      "source": "\n    \nx = \"jjjj\"\ny =\"jjjjj\"",
      "execution_count": null,
      "outputs": []
    },
    {
      "metadata": {
        "trusted": true
      },
      "cell_type": "code",
      "source": "x==y",
      "execution_count": null,
      "outputs": []
    },
    {
      "metadata": {
        "trusted": true
      },
      "cell_type": "code",
      "source": "the_count = [1, 2, 3, 4, 5]\nfruits = ['apples', 'oranges', 'pears', 'apricots']\nchange = [1, 'pennies', 2, 'dimes', 3, 'quarters']\n\n# this first kind of for-loop goes through a list\nfor number in the_count:\n    print(f\"This is count {number}\")\n\n# same as above\nfor fruit in fruits:\n    print(f\"A fruit of type: {fruit}\")\n\n# also we can go through mixed lists too\n# notice we have to use %r since we don't know what's in items\nfor i in change:\n    print(f\"I got {i}\")\n\n# we can also build lists, first start with an empty one\nelements = []\n\n# then use the range function to do 0 to 5 counts\nfor i in range(0, 6):\n    print(f\"Adding {i} to the list.\")\n    # append is a function that lists understand\n    elements.append(i)\n\n# now we can print them out too\nfor i in elements:\n    print(f\"Element was: {i}\")\n    ",
      "execution_count": null,
      "outputs": []
    },
    {
      "metadata": {
        "trusted": true
      },
      "cell_type": "code",
      "source": "for xxx in the_count:\n    print(f\"This is count {xxx}\")",
      "execution_count": null,
      "outputs": []
    },
    {
      "metadata": {
        "trusted": true
      },
      "cell_type": "code",
      "source": "the_count",
      "execution_count": null,
      "outputs": []
    },
    {
      "metadata": {
        "trusted": true
      },
      "cell_type": "code",
      "source": "type(the_count)",
      "execution_count": null,
      "outputs": []
    },
    {
      "metadata": {
        "trusted": true
      },
      "cell_type": "code",
      "source": "abcd_count = [3, 4, 3, 4, 5]",
      "execution_count": null,
      "outputs": []
    },
    {
      "metadata": {
        "trusted": true
      },
      "cell_type": "code",
      "source": "type(the_count)",
      "execution_count": null,
      "outputs": []
    },
    {
      "metadata": {
        "trusted": true
      },
      "cell_type": "code",
      "source": "for a in abcd_count:\n    print(a)\n    print('loop')\n    print('vvv')",
      "execution_count": null,
      "outputs": []
    },
    {
      "metadata": {
        "trusted": true
      },
      "cell_type": "code",
      "source": "the_count",
      "execution_count": null,
      "outputs": []
    },
    {
      "metadata": {
        "trusted": true
      },
      "cell_type": "code",
      "source": "for fruit in fruits:\n    print(f\"tis{fruit}\")",
      "execution_count": null,
      "outputs": []
    },
    {
      "metadata": {
        "trusted": true
      },
      "cell_type": "code",
      "source": "for i in change:\n    print(f\"tis {i}\")",
      "execution_count": null,
      "outputs": []
    },
    {
      "metadata": {
        "trusted": true
      },
      "cell_type": "code",
      "source": "for i in change:\n    print(i)",
      "execution_count": null,
      "outputs": []
    },
    {
      "metadata": {
        "trusted": true
      },
      "cell_type": "code",
      "source": "elements = []\n",
      "execution_count": null,
      "outputs": []
    },
    {
      "metadata": {
        "trusted": true
      },
      "cell_type": "code",
      "source": "for i in range(0, 6):\n    print(i)",
      "execution_count": null,
      "outputs": []
    },
    {
      "metadata": {
        "trusted": true
      },
      "cell_type": "code",
      "source": "for i in elements:\n    print(i)",
      "execution_count": null,
      "outputs": []
    },
    {
      "metadata": {
        "trusted": true
      },
      "cell_type": "code",
      "source": "for i in range(0, 6):\n    print(i)",
      "execution_count": null,
      "outputs": []
    },
    {
      "metadata": {
        "trusted": true
      },
      "cell_type": "code",
      "source": "i = 0\nnumbers = []\n\nwhile i < 6:\n    print(f\"At the top i is {i}\")\n    numbers.append(i)\n\n    i = i + 1\n    print(\"Numbers now: \", numbers)\n    print(f\"At the bottom i is {i}\")\n\nprint(\"The numbers: \")\n\nfor num in numbers:\n    print(num)",
      "execution_count": null,
      "outputs": []
    },
    {
      "metadata": {
        "trusted": true
      },
      "cell_type": "code",
      "source": "elements.append(1)",
      "execution_count": null,
      "outputs": []
    },
    {
      "metadata": {
        "trusted": true
      },
      "cell_type": "code",
      "source": "\nelements\n",
      "execution_count": null,
      "outputs": []
    },
    {
      "metadata": {
        "trusted": true
      },
      "cell_type": "code",
      "source": "elements.append(2)",
      "execution_count": null,
      "outputs": []
    },
    {
      "metadata": {
        "trusted": true
      },
      "cell_type": "code",
      "source": "elements",
      "execution_count": null,
      "outputs": []
    },
    {
      "metadata": {
        "trusted": true
      },
      "cell_type": "code",
      "source": "for cc in range(1,5):\n    elements.append(cc)",
      "execution_count": null,
      "outputs": []
    },
    {
      "metadata": {
        "trusted": true
      },
      "cell_type": "code",
      "source": "elements",
      "execution_count": null,
      "outputs": []
    },
    {
      "metadata": {
        "trusted": true
      },
      "cell_type": "code",
      "source": "for cc in range(50,55,):\n    elements.append(cc)",
      "execution_count": null,
      "outputs": []
    },
    {
      "metadata": {
        "trusted": true
      },
      "cell_type": "code",
      "source": "elements",
      "execution_count": null,
      "outputs": []
    },
    {
      "metadata": {
        "trusted": true
      },
      "cell_type": "code",
      "source": "for cc in range(100,105):\n    elements.append(cc)",
      "execution_count": null,
      "outputs": []
    },
    {
      "metadata": {
        "trusted": true
      },
      "cell_type": "code",
      "source": "elements =[]",
      "execution_count": null,
      "outputs": []
    },
    {
      "metadata": {
        "trusted": true
      },
      "cell_type": "code",
      "source": "elements = 'bbb'",
      "execution_count": null,
      "outputs": []
    },
    {
      "metadata": {
        "trusted": true
      },
      "cell_type": "code",
      "source": "type(elements)",
      "execution_count": null,
      "outputs": []
    },
    {
      "metadata": {
        "trusted": true
      },
      "cell_type": "code",
      "source": "elements",
      "execution_count": null,
      "outputs": []
    },
    {
      "metadata": {
        "trusted": true
      },
      "cell_type": "code",
      "source": "# we can also build lists, first start with an empty one\nelements = []\n\n# then use the range function to do 0 to 5 counts\nfor i in range(1, 9):\n    print(f\"Adding {i} to the list.\")\n    # append is a function that lists understand\n    elements.append(i)",
      "execution_count": null,
      "outputs": []
    },
    {
      "metadata": {
        "trusted": true
      },
      "cell_type": "code",
      "source": "elements",
      "execution_count": null,
      "outputs": []
    },
    {
      "metadata": {
        "trusted": true
      },
      "cell_type": "code",
      "source": "\n# now we can print them out too\nfor i in elements:\n    print(f\"Element was: {i}\")",
      "execution_count": null,
      "outputs": []
    },
    {
      "metadata": {
        "trusted": true
      },
      "cell_type": "code",
      "source": "shoppinglist = ['saree', 'sandels', 'salwar suit', 'maeup', 'bangles']",
      "execution_count": null,
      "outputs": []
    },
    {
      "metadata": {
        "trusted": true
      },
      "cell_type": "code",
      "source": "for ggg in shoppinglist:\n    print (f\"want to buy {ggg}\")",
      "execution_count": null,
      "outputs": []
    },
    {
      "metadata": {
        "trusted": true
      },
      "cell_type": "code",
      "source": "i = 0\nnumbers = []\n\nwhile i < 9:\n    print(f\"At the top i is {i}\")\n    numbers.append(i)\n\n    i = i + 3\n    print(\"Numbers now: \", numbers)\n    print(f\"At the bottom i is {i}\")\n\nprint(\"The numbers: \")\n\nfor num in numbers:\n    print(num)",
      "execution_count": null,
      "outputs": []
    },
    {
      "metadata": {
        "trusted": true
      },
      "cell_type": "code",
      "source": "from sys import exit\n\n\ndef gold_room():\n    print(\"This room is full of gold. How much do you take?\")\n\n    choice = input(\"> \")\n    if \"0\" in choice or \"1\" in choice:\n        how_much = int(choice)\n    else:\n        dead(\"Man, learn to type a number.\")\n\n    if how_much < 50:\n        print(\"Nice, you're not greedy, you win!\")\n        exit(0)\n    else:\n        dead(\"You greedy bastard!\")\n\n\ndef bear_room():\n    print(\"There is bear here.\")\n    print(\"The bear has a bunch of honey.\")\n    print(\"The fat bear is in front of another door.\")\n    print(\"How are you going to move the bear?\")\n    bear_moved = False\n\n    while True:\n        choice = input(\"> \")\n\n        if choice == \"take honey\":\n            dead(\"The bear looks at you then slaps your face off.\")\n        elif choice == \"taunt bear\" and not bear_moved:\n            print(\"The bear has moved from the door.\")\n            print(\"You can go through it now.\")\n            bear_moved = True\n        elif choice == \"taunt bear\" and bear_moved:\n            dead(\"The bear gets pissed off and chews your leg off.\")\n        elif choice == \"open door\" and bear_moved:\n            gold_room()\n        else:\n            print(\"I got no idea what that means.\")\n\n\ndef cthulhu_room():\n    print(\"Here you see the great evil Cthulhu.\")\n    print(\"He, it, whatever stares at you and you go insane.\")\n    print(\"Do you flee for your life or eat your head?\")\n\n    choice = input(\"> \")\n\n    if \"flee\" in choice:\n        start()\n    elif \"head\" in choice:\n        dead(\"Well that was tasty!\")\n    else:\n        cthulhu_room()\n\n\ndef dead(why):\n    print(why, \"Good job!\")\n    exit(0)\n\n\ndef start():\n    print(\"You are in a dark room.\")\n    print(\"There is a door to your right and left.\")\n    print(\"Which one do you take?\")\n\n    choice = input(\"> \")\n\n    if choice == \"left\":\n        bear_room()\n    elif choice == \"right\":\n        cthulhu_room()\n    else:\n        dead(\"You stumble around the room until you starve.\")\n\n\nstart()",
      "execution_count": 1,
      "outputs": [
        {
          "output_type": "stream",
          "text": "You are in a dark room.\nThere is a door to your right and left.\nWhich one do you take?\n",
          "name": "stdout"
        },
        {
          "output_type": "error",
          "ename": "KeyboardInterrupt",
          "evalue": "",
          "traceback": [
            "\u001b[0;31m---------------------------------------------------------------------------\u001b[0m",
            "\u001b[0;31mKeyboardInterrupt\u001b[0m                         Traceback (most recent call last)",
            "\u001b[0;32m~/anaconda3_501/lib/python3.6/site-packages/ipykernel/kernelbase.py\u001b[0m in \u001b[0;36m_input_request\u001b[0;34m(self, prompt, ident, parent, password)\u001b[0m\n\u001b[1;32m    877\u001b[0m             \u001b[0;32mtry\u001b[0m\u001b[0;34m:\u001b[0m\u001b[0;34m\u001b[0m\u001b[0m\n\u001b[0;32m--> 878\u001b[0;31m                 \u001b[0mident\u001b[0m\u001b[0;34m,\u001b[0m \u001b[0mreply\u001b[0m \u001b[0;34m=\u001b[0m \u001b[0mself\u001b[0m\u001b[0;34m.\u001b[0m\u001b[0msession\u001b[0m\u001b[0;34m.\u001b[0m\u001b[0mrecv\u001b[0m\u001b[0;34m(\u001b[0m\u001b[0mself\u001b[0m\u001b[0;34m.\u001b[0m\u001b[0mstdin_socket\u001b[0m\u001b[0;34m,\u001b[0m \u001b[0;36m0\u001b[0m\u001b[0;34m)\u001b[0m\u001b[0;34m\u001b[0m\u001b[0m\n\u001b[0m\u001b[1;32m    879\u001b[0m             \u001b[0;32mexcept\u001b[0m \u001b[0mException\u001b[0m\u001b[0;34m:\u001b[0m\u001b[0;34m\u001b[0m\u001b[0m\n",
            "\u001b[0;32m~/anaconda3_501/lib/python3.6/site-packages/jupyter_client/session.py\u001b[0m in \u001b[0;36mrecv\u001b[0;34m(self, socket, mode, content, copy)\u001b[0m\n\u001b[1;32m    802\u001b[0m         \u001b[0;32mtry\u001b[0m\u001b[0;34m:\u001b[0m\u001b[0;34m\u001b[0m\u001b[0m\n\u001b[0;32m--> 803\u001b[0;31m             \u001b[0mmsg_list\u001b[0m \u001b[0;34m=\u001b[0m \u001b[0msocket\u001b[0m\u001b[0;34m.\u001b[0m\u001b[0mrecv_multipart\u001b[0m\u001b[0;34m(\u001b[0m\u001b[0mmode\u001b[0m\u001b[0;34m,\u001b[0m \u001b[0mcopy\u001b[0m\u001b[0;34m=\u001b[0m\u001b[0mcopy\u001b[0m\u001b[0;34m)\u001b[0m\u001b[0;34m\u001b[0m\u001b[0m\n\u001b[0m\u001b[1;32m    804\u001b[0m         \u001b[0;32mexcept\u001b[0m \u001b[0mzmq\u001b[0m\u001b[0;34m.\u001b[0m\u001b[0mZMQError\u001b[0m \u001b[0;32mas\u001b[0m \u001b[0me\u001b[0m\u001b[0;34m:\u001b[0m\u001b[0;34m\u001b[0m\u001b[0m\n",
            "\u001b[0;32m~/anaconda3_501/lib/python3.6/site-packages/zmq/sugar/socket.py\u001b[0m in \u001b[0;36mrecv_multipart\u001b[0;34m(self, flags, copy, track)\u001b[0m\n\u001b[1;32m    466\u001b[0m         \"\"\"\n\u001b[0;32m--> 467\u001b[0;31m         \u001b[0mparts\u001b[0m \u001b[0;34m=\u001b[0m \u001b[0;34m[\u001b[0m\u001b[0mself\u001b[0m\u001b[0;34m.\u001b[0m\u001b[0mrecv\u001b[0m\u001b[0;34m(\u001b[0m\u001b[0mflags\u001b[0m\u001b[0;34m,\u001b[0m \u001b[0mcopy\u001b[0m\u001b[0;34m=\u001b[0m\u001b[0mcopy\u001b[0m\u001b[0;34m,\u001b[0m \u001b[0mtrack\u001b[0m\u001b[0;34m=\u001b[0m\u001b[0mtrack\u001b[0m\u001b[0;34m)\u001b[0m\u001b[0;34m]\u001b[0m\u001b[0;34m\u001b[0m\u001b[0m\n\u001b[0m\u001b[1;32m    468\u001b[0m         \u001b[0;31m# have first part already, only loop while more to receive\u001b[0m\u001b[0;34m\u001b[0m\u001b[0;34m\u001b[0m\u001b[0m\n",
            "\u001b[0;32mzmq/backend/cython/socket.pyx\u001b[0m in \u001b[0;36mzmq.backend.cython.socket.Socket.recv\u001b[0;34m()\u001b[0m\n",
            "\u001b[0;32mzmq/backend/cython/socket.pyx\u001b[0m in \u001b[0;36mzmq.backend.cython.socket.Socket.recv\u001b[0;34m()\u001b[0m\n",
            "\u001b[0;32mzmq/backend/cython/socket.pyx\u001b[0m in \u001b[0;36mzmq.backend.cython.socket._recv_copy\u001b[0;34m()\u001b[0m\n",
            "\u001b[0;32m~/anaconda3_501/lib/python3.6/site-packages/zmq/backend/cython/checkrc.pxd\u001b[0m in \u001b[0;36mzmq.backend.cython.checkrc._check_rc\u001b[0;34m()\u001b[0m\n",
            "\u001b[0;31mKeyboardInterrupt\u001b[0m: ",
            "\nDuring handling of the above exception, another exception occurred:\n",
            "\u001b[0;31mKeyboardInterrupt\u001b[0m                         Traceback (most recent call last)",
            "\u001b[0;32m<ipython-input-1-8c1cd618292d>\u001b[0m in \u001b[0;36m<module>\u001b[0;34m\u001b[0m\n\u001b[1;32m     77\u001b[0m \u001b[0;34m\u001b[0m\u001b[0m\n\u001b[1;32m     78\u001b[0m \u001b[0;34m\u001b[0m\u001b[0m\n\u001b[0;32m---> 79\u001b[0;31m \u001b[0mstart\u001b[0m\u001b[0;34m(\u001b[0m\u001b[0;34m)\u001b[0m\u001b[0;34m\u001b[0m\u001b[0m\n\u001b[0m",
            "\u001b[0;32m<ipython-input-1-8c1cd618292d>\u001b[0m in \u001b[0;36mstart\u001b[0;34m()\u001b[0m\n\u001b[1;32m     67\u001b[0m     \u001b[0mprint\u001b[0m\u001b[0;34m(\u001b[0m\u001b[0;34m\"Which one do you take?\"\u001b[0m\u001b[0;34m)\u001b[0m\u001b[0;34m\u001b[0m\u001b[0m\n\u001b[1;32m     68\u001b[0m \u001b[0;34m\u001b[0m\u001b[0m\n\u001b[0;32m---> 69\u001b[0;31m     \u001b[0mchoice\u001b[0m \u001b[0;34m=\u001b[0m \u001b[0minput\u001b[0m\u001b[0;34m(\u001b[0m\u001b[0;34m\"> \"\u001b[0m\u001b[0;34m)\u001b[0m\u001b[0;34m\u001b[0m\u001b[0m\n\u001b[0m\u001b[1;32m     70\u001b[0m \u001b[0;34m\u001b[0m\u001b[0m\n\u001b[1;32m     71\u001b[0m     \u001b[0;32mif\u001b[0m \u001b[0mchoice\u001b[0m \u001b[0;34m==\u001b[0m \u001b[0;34m\"left\"\u001b[0m\u001b[0;34m:\u001b[0m\u001b[0;34m\u001b[0m\u001b[0m\n",
            "\u001b[0;32m~/anaconda3_501/lib/python3.6/site-packages/ipykernel/kernelbase.py\u001b[0m in \u001b[0;36mraw_input\u001b[0;34m(self, prompt)\u001b[0m\n\u001b[1;32m    851\u001b[0m             \u001b[0mself\u001b[0m\u001b[0;34m.\u001b[0m\u001b[0m_parent_ident\u001b[0m\u001b[0;34m,\u001b[0m\u001b[0;34m\u001b[0m\u001b[0m\n\u001b[1;32m    852\u001b[0m             \u001b[0mself\u001b[0m\u001b[0;34m.\u001b[0m\u001b[0m_parent_header\u001b[0m\u001b[0;34m,\u001b[0m\u001b[0;34m\u001b[0m\u001b[0m\n\u001b[0;32m--> 853\u001b[0;31m             \u001b[0mpassword\u001b[0m\u001b[0;34m=\u001b[0m\u001b[0;32mFalse\u001b[0m\u001b[0;34m,\u001b[0m\u001b[0;34m\u001b[0m\u001b[0m\n\u001b[0m\u001b[1;32m    854\u001b[0m         )\n\u001b[1;32m    855\u001b[0m \u001b[0;34m\u001b[0m\u001b[0m\n",
            "\u001b[0;32m~/anaconda3_501/lib/python3.6/site-packages/ipykernel/kernelbase.py\u001b[0m in \u001b[0;36m_input_request\u001b[0;34m(self, prompt, ident, parent, password)\u001b[0m\n\u001b[1;32m    881\u001b[0m             \u001b[0;32mexcept\u001b[0m \u001b[0mKeyboardInterrupt\u001b[0m\u001b[0;34m:\u001b[0m\u001b[0;34m\u001b[0m\u001b[0m\n\u001b[1;32m    882\u001b[0m                 \u001b[0;31m# re-raise KeyboardInterrupt, to truncate traceback\u001b[0m\u001b[0;34m\u001b[0m\u001b[0;34m\u001b[0m\u001b[0m\n\u001b[0;32m--> 883\u001b[0;31m                 \u001b[0;32mraise\u001b[0m \u001b[0mKeyboardInterrupt\u001b[0m\u001b[0;34m\u001b[0m\u001b[0m\n\u001b[0m\u001b[1;32m    884\u001b[0m             \u001b[0;32melse\u001b[0m\u001b[0;34m:\u001b[0m\u001b[0;34m\u001b[0m\u001b[0m\n\u001b[1;32m    885\u001b[0m                 \u001b[0;32mbreak\u001b[0m\u001b[0;34m\u001b[0m\u001b[0m\n",
            "\u001b[0;31mKeyboardInterrupt\u001b[0m: "
          ]
        }
      ]
    },
    {
      "metadata": {
        "trusted": true
      },
      "cell_type": "code",
      "source": "",
      "execution_count": 1,
      "outputs": []
    },
    {
      "metadata": {
        "trusted": true
      },
      "cell_type": "code",
      "source": "gold_room()",
      "execution_count": 7,
      "outputs": [
        {
          "output_type": "stream",
          "text": "This room is full of gold. How much do you take?\n> 22\nMan, learn to type a number. Good job!\n",
          "name": "stdout"
        },
        {
          "output_type": "error",
          "ename": "SystemExit",
          "evalue": "0",
          "traceback": [
            "An exception has occurred, use %tb to see the full traceback.\n",
            "\u001b[0;31mSystemExit\u001b[0m\u001b[0;31m:\u001b[0m 0\n"
          ]
        }
      ]
    },
    {
      "metadata": {
        "trusted": true
      },
      "cell_type": "code",
      "source": "from sys import exit\n\n\n# def gold_room():\n#     print(\"This room is full of gold. How much do you take?\")\n\n#     choice = input(\"> \")\n#     if \"0\" in choice or \"1\" in choice:\n#         how_much = int(choice)\n#     else:\n#         dead(\"Man, learn to type a number.\")\n\n#     if how_much < 50:\n#         print(\"Nice, you're not greedy, you win!\")\n#         exit(0)\n#     else:\n#         dead(\"You greedy bastard!\")\n\n\ndef kitchen():\n    print(\"There is food here.\")\n    print(\"The bear has a bunch of honey.\")\n    print(\"The fat bear is in front of another door.\")\n    print(\"How are you going to move the bear?\")\n    \n    order = input(\"please give your order \")\n\n    if order == \"samosa\":\n        print(\"our samosa is good do ypu eant some tea\")\n    elif order == \"golabjamon\":\n        print(\"our golabjamon is famous do you want to eat laddu\")\n    else:\n        dead(\"we do not have this order\")\n    \n#     bear_moved = False\n\n#     while True:\n#         choice = input(\"> \")\n\n#         if choice == \"take honey\":\n#             dead(\"The bear looks at you then slaps your face off.\")\n#         elif choice == \"taunt bear\" and not bear_moved:\n#             print(\"The bear has moved from the door.\")\n#             print(\"You can go through it now.\")\n#             bear_moved = True\n#         elif choice == \"taunt bear\" and bear_moved:\n#             dead(\"The bear gets pissed off and chews your leg off.\")\n#         elif choice == \"open door\" and bear_moved:\n#             gold_room()\n#         else:\n#             print(\"I got no idea what that means.\")\n\n\ndef livingroom():\n    print(\"Here you see my living room.\")\n    print(\"He, it, whatever stares at you and you go insane.\")\n    print(\"Do you flee for your life or eat your head?\")\n\n    order = input(\"what do you want to do? \")\n\n    if order == \"tv\":\n        print(\"our tv is good do you want to watch\")\n    elif order == \"song\":\n        print(\"our bangla song is famous do you want to listen hindi song\")\n    else:\n        dead(\"we do not have this order\")\n#     choice = input(\"> \")\n\n#     if \"flee\" in choice:\n#         start()\n#     elif \"head\" in choice:\n#         dead(\"Well that was tasty!\")\n#     else:\n#         livingroom()\n\n\ndef dead(why):\n    print(why, \"Good job!\")\n    exit(0)\n\n\ndef start():\n    print(\"You are in a my house\")\n    print(\"do you want to come to the my kitchen or living room.\")\n    print(\"Which one do you take?\")\n\n    choice = input(\"> \")\n\n    if choice == \"kitchen\":\n        kitchen()\n    elif choice == \"living room\":\n        livingroom()\n    else:\n        dead(\"You stumble around the room until you starve.\")\n\n\nstart()",
      "execution_count": 37,
      "outputs": [
        {
          "output_type": "stream",
          "text": "You are in a my house\ndo you want to come to the my kitchen or living room.\nWhich one do you take?\n> living room\nHere you see my living room.\nHe, it, whatever stares at you and you go insane.\nDo you flee for your life or eat your head?\nwhat do you want to do? song\nour bangla song is famous do you want to listen hindi song\n",
          "name": "stdout"
        }
      ]
    },
    {
      "metadata": {
        "trusted": true
      },
      "cell_type": "code",
      "source": "",
      "execution_count": 13,
      "outputs": [
        {
          "output_type": "stream",
          "name": "stdout",
          "text": "> samosa\n"
        }
      ]
    },
    {
      "metadata": {
        "trusted": true
      },
      "cell_type": "code",
      "source": "choice",
      "execution_count": 14,
      "outputs": [
        {
          "output_type": "execute_result",
          "execution_count": 14,
          "data": {
            "text/plain": "'samosa'"
          },
          "metadata": {}
        }
      ]
    },
    {
      "metadata": {
        "trusted": true
      },
      "cell_type": "code",
      "source": "order = input(\"please give your order \")\n\nif order == \"samosa\":\n    print(\"our samosa is good do ypu eant some tea\")\nelif order == \"golabjamon\":\n    print(\"our golabjamon is famous do you want to eat laddu\")\nelse:\n    dead(\"we do not have this order\")",
      "execution_count": 18,
      "outputs": [
        {
          "output_type": "stream",
          "name": "stdout",
          "text": "please give your order samosa\nour samosa is good do ypu eant some tea\n"
        }
      ]
    },
    {
      "metadata": {
        "trusted": true
      },
      "cell_type": "code",
      "source": "order = input(\"please give your order \")\n\nif order == \"parata\":\n    print(\"our parata is good do you want some nan\")\nelif order == \"kabab\":\n    print(\"our kabab is famous do you want to eat roti \")\nelif order == \"curry\":\n    print(\"our curry is famous do you want to eat vegetables soup \")\nelif order == \"rice\": \n    print(\"our rice is famous do you want to eat kichuri\")\nelse:\n    dead(\"we do not have this order\")",
      "execution_count": 28,
      "outputs": [
        {
          "output_type": "stream",
          "name": "stdout",
          "text": "please give your order hggdgfd\nwe do not have this order Good job!\n"
        },
        {
          "output_type": "error",
          "ename": "SystemExit",
          "evalue": "0",
          "traceback": [
            "An exception has occurred, use %tb to see the full traceback.\n",
            "\u001b[0;31mSystemExit\u001b[0m\u001b[0;31m:\u001b[0m 0\n"
          ]
        }
      ]
    },
    {
      "metadata": {
        "trusted": true
      },
      "cell_type": "code",
      "source": "kitchen()",
      "execution_count": 33,
      "outputs": [
        {
          "output_type": "stream",
          "text": "There is food here.\nThe bear has a bunch of honey.\nThe fat bear is in front of another door.\nHow are you going to move the bear?\nplease give your order samosa\nour samosa is good do ypu eant some tea\n",
          "name": "stdout"
        }
      ]
    },
    {
      "metadata": {
        "trusted": true
      },
      "cell_type": "code",
      "source": "order = input(\"what do you want to do? \")\n\nif order == \"tv\":\n    print(\"our tv is good do you want to watch\")\nelif order == \"song\":\n    print(\"our bangla song is famous do you want to listen hindi song\")\nelse:\n    dead(\"we do not have this order\")",
      "execution_count": 36,
      "outputs": [
        {
          "output_type": "stream",
          "name": "stdout",
          "text": "what do you want to do? song\nour bangla song is famous do you want to listen hindi song\n"
        }
      ]
    },
    {
      "metadata": {
        "trusted": true
      },
      "cell_type": "code",
      "source": "ten_things = \"Apples Oranges Crows Telephone Light Sugar\"\n\nprint(\"Wait there's not 10 things in that list, let's fix that.\")\n\nstuff = ten_things.split(' ')\nmore_stuff = [\"Day\", \"Night\", \"Song\", \"Frisbee\",\n              \"Corn\", \"Banana\", \"Girl\", \"Boy\"]\n\nwhile len(stuff) != 10:\n    next_one = more_stuff.pop()\n    print(\"Adding: \", next_one)\n    stuff.append(next_one)\n    print(f\"There's {len(stuff)} items now.\")\n\nprint(\"There we go: \", stuff)\n\nprint(\"Let's do some things with stuff.\")\n\nprint(stuff[1])\nprint(stuff[-1])  # whoa! fancy\nprint(stuff.pop())\nprint(' '.join(stuff))  # what= cool!\nprint('#'.join(stuff[3:5]))  # super stellar!",
      "execution_count": 38,
      "outputs": [
        {
          "output_type": "stream",
          "text": "Wait there's not 10 things in that list, let's fix that.\nAdding:  Boy\nThere's 7 items now.\nAdding:  Girl\nThere's 8 items now.\nAdding:  Banana\nThere's 9 items now.\nAdding:  Corn\nThere's 10 items now.\nThere we go:  ['Apples', 'Oranges', 'Crows', 'Telephone', 'Light', 'Sugar', 'Boy', 'Girl', 'Banana', 'Corn']\nLet's do some things with stuff.\nOranges\nCorn\nCorn\nApples Oranges Crows Telephone Light Sugar Boy Girl Banana\nTelephone#Light\n",
          "name": "stdout"
        }
      ]
    },
    {
      "metadata": {
        "trusted": true
      },
      "cell_type": "code",
      "source": "ten_things = \"Apples Oranges Crows Telephone Light Sugar\"\n",
      "execution_count": 39,
      "outputs": []
    },
    {
      "metadata": {
        "trusted": true
      },
      "cell_type": "code",
      "source": "ten_things",
      "execution_count": 45,
      "outputs": [
        {
          "output_type": "execute_result",
          "execution_count": 45,
          "data": {
            "text/plain": "'Apples Oranges Crows Telephone Light Sugar'"
          },
          "metadata": {}
        }
      ]
    },
    {
      "metadata": {
        "trusted": true
      },
      "cell_type": "code",
      "source": "stuff = ten_things.split(' ')\nstuff",
      "execution_count": 42,
      "outputs": [
        {
          "output_type": "execute_result",
          "execution_count": 42,
          "data": {
            "text/plain": "['Apples', 'Oranges', 'Crows', 'Telephone', 'Light', 'Sugar']"
          },
          "metadata": {}
        }
      ]
    },
    {
      "metadata": {
        "trusted": true
      },
      "cell_type": "code",
      "source": "more_stuff = [\"Day\", \"Night\", \"Song\", \"Frisbee\",\n              \"Corn\", \"Banana\", \"Girl\", \"Boy\"]\nmore_stuff",
      "execution_count": 44,
      "outputs": [
        {
          "output_type": "execute_result",
          "execution_count": 44,
          "data": {
            "text/plain": "['Day', 'Night', 'Song', 'Frisbee', 'Corn', 'Banana', 'Girl', 'Boy']"
          },
          "metadata": {}
        }
      ]
    },
    {
      "metadata": {
        "trusted": true
      },
      "cell_type": "code",
      "source": "stuff\n",
      "execution_count": 1,
      "outputs": [
        {
          "output_type": "error",
          "ename": "NameError",
          "evalue": "name 'stuff' is not defined",
          "traceback": [
            "\u001b[0;31m---------------------------------------------------------------------------\u001b[0m",
            "\u001b[0;31mNameError\u001b[0m                                 Traceback (most recent call last)",
            "\u001b[0;32m<ipython-input-1-003d0450f6f7>\u001b[0m in \u001b[0;36m<module>\u001b[0;34m\u001b[0m\n\u001b[0;32m----> 1\u001b[0;31m \u001b[0mstuff\u001b[0m\u001b[0;34m\u001b[0m\u001b[0m\n\u001b[0m",
            "\u001b[0;31mNameError\u001b[0m: name 'stuff' is not defined"
          ]
        }
      ]
    },
    {
      "metadata": {
        "trusted": true
      },
      "cell_type": "code",
      "source": "stuff",
      "execution_count": 2,
      "outputs": [
        {
          "output_type": "error",
          "ename": "NameError",
          "evalue": "name 'stuff' is not defined",
          "traceback": [
            "\u001b[0;31m---------------------------------------------------------------------------\u001b[0m",
            "\u001b[0;31mNameError\u001b[0m                                 Traceback (most recent call last)",
            "\u001b[0;32m<ipython-input-2-003d0450f6f7>\u001b[0m in \u001b[0;36m<module>\u001b[0;34m\u001b[0m\n\u001b[0;32m----> 1\u001b[0;31m \u001b[0mstuff\u001b[0m\u001b[0;34m\u001b[0m\u001b[0m\n\u001b[0m",
            "\u001b[0;31mNameError\u001b[0m: name 'stuff' is not defined"
          ]
        }
      ]
    },
    {
      "metadata": {
        "trusted": true
      },
      "cell_type": "code",
      "source": "",
      "execution_count": null,
      "outputs": []
    }
  ],
  "metadata": {
    "kernelspec": {
      "name": "python36",
      "display_name": "Python 3.6",
      "language": "python"
    },
    "language_info": {
      "mimetype": "text/x-python",
      "nbconvert_exporter": "python",
      "name": "python",
      "pygments_lexer": "ipython3",
      "version": "3.6.6",
      "file_extension": ".py",
      "codemirror_mode": {
        "version": 3,
        "name": "ipython"
      }
    }
  },
  "nbformat": 4,
  "nbformat_minor": 2
}