{
  "cells": [
    {
      "metadata": {
        "trusted": true
      },
      "cell_type": "code",
      "source": "import sys\n\nwhile True:\n    print ('Type exit to exit.')\n    response = input()\n    if response == 'exit' or response == 'stop' or response == 'run':\n        sys.exit()\n    print ('You typed ' + response + '.')",
      "execution_count": null,
      "outputs": [
        {
          "output_type": "stream",
          "text": "Type exit to exit.\n",
          "name": "stdout"
        }
      ]
    },
    {
      "metadata": {
        "trusted": true
      },
      "cell_type": "code",
      "source": "# This is a guess the number game.\nimport random\nsecret_number = random.randint(1, 20)\nprint ('I am thinking of a number between 1 and 20.')\n\n# Ask the player to guess 6 times.\nfor guesses_taken in range(1, 7):\n    print ('take a guess.')\n    guess = int(input())\n\n    if guess < secret_number:\n        print ('Your guess is too low.')\n    elif guess > secret_number:\n        print ('Your guess is too high.')\n    else:\n        break  # This condition is the correct guess!\n\nif guess == secret_number:\n    print ('Good job! You guessd my number in ' + str(guesses_taken) + ' guesses!')\nelse:\n    print ('Nope. The number I was thinking of was ' + str(secret_number))\n",
      "execution_count": 1,
      "outputs": [
        {
          "output_type": "stream",
          "text": "I am thinking of a number between 1 and 20.\ntake a guess.\n10\nYour guess is too low.\ntake a guess.\n17\nYour guess is too high.\ntake a guess.\n15\nYour guess is too high.\ntake a guess.\n12\nYour guess is too high.\ntake a guess.\n11\nGood job! You guessd my number in 5 guesses!\n",
          "name": "stdout"
        }
      ]
    },
    {
      "metadata": {
        "trusted": true
      },
      "cell_type": "code",
      "source": "# This is a guess the number game.\nimport random\nsecret_number = random.randint(1, 20)\nprint ('I am thinking of a number between 1 and 20.')\n\n# Ask the player to guess 6 times.\nwhile True:\n    print ('take a guess.')\n    guess = int(input())\n\n    if guess < secret_number:\n        print ('Your guess is too low.')\n    elif guess > secret_number:\n        print ('Your guess is too high.')\n    else:\n        break  # This condition is the correct guess!\n\nif guess == secret_number:\n    print ('Good job! You guessd my number in ' + str(guesses_taken) + ' guesses!')\nelse:\n    print ('Nope. The number I was thinking of was ' + str(secret_number))\n",
      "execution_count": 2,
      "outputs": [
        {
          "output_type": "stream",
          "text": "I am thinking of a number between 1 and 20.\ntake a guess.\n5\nYour guess is too low.\ntake a guess.\n40\nYour guess is too high.\ntake a guess.\n11\nYour guess is too high.\ntake a guess.\n9\nYour guess is too high.\ntake a guess.\n9\nYour guess is too high.\ntake a guess.\n8\nYour guess is too high.\ntake a guess.\n4\nYour guess is too low.\ntake a guess.\n3\nYour guess is too low.\ntake a guess.\n5\nYour guess is too low.\ntake a guess.\n6\nGood job! You guessd my number in 5 guesses!\n",
          "name": "stdout"
        }
      ]
    },
    {
      "metadata": {
        "trusted": true
      },
      "cell_type": "code",
      "source": "def samfunction(arg1):\n    if type(arg1)==str:\n        print(\"why did u enter string?\")\n    else:\n        try:\n            return 42/arg1\n        except ZeroDivisionError:\n            print ('Error: Invalid argument.')\n\nprint (samfunction(2))\nprint (samfunction(12))\nprint (samfunction(0))\nprint (samfunction(1))\n",
      "execution_count": 10,
      "outputs": [
        {
          "output_type": "stream",
          "text": "21.0\n3.5\nError: Invalid argument.\nNone\n42.0\n",
          "name": "stdout"
        }
      ]
    },
    {
      "metadata": {
        "trusted": true
      },
      "cell_type": "code",
      "source": "print (samfunction(\"a\"))\n",
      "execution_count": 11,
      "outputs": [
        {
          "output_type": "stream",
          "text": "why did u enter string?\nNone\n",
          "name": "stdout"
        }
      ]
    },
    {
      "metadata": {
        "trusted": true
      },
      "cell_type": "code",
      "source": "x = [1, 2, 3] + ['A', 'B', 'C']",
      "execution_count": 14,
      "outputs": []
    },
    {
      "metadata": {
        "trusted": true
      },
      "cell_type": "code",
      "source": "x.append(7)",
      "execution_count": 15,
      "outputs": []
    },
    {
      "metadata": {
        "trusted": true
      },
      "cell_type": "code",
      "source": "x",
      "execution_count": 16,
      "outputs": [
        {
          "output_type": "execute_result",
          "execution_count": 16,
          "data": {
            "text/plain": "[1, 2, 3, 'A', 'B', 'C', 7]"
          },
          "metadata": {}
        }
      ]
    },
    {
      "metadata": {
        "trusted": true
      },
      "cell_type": "code",
      "source": "x=['X', 'Y', 'Z'] * 5",
      "execution_count": 19,
      "outputs": []
    },
    {
      "metadata": {
        "trusted": true
      },
      "cell_type": "code",
      "source": "len(x)",
      "execution_count": 20,
      "outputs": [
        {
          "output_type": "execute_result",
          "execution_count": 20,
          "data": {
            "text/plain": "15"
          },
          "metadata": {}
        }
      ]
    },
    {
      "metadata": {
        "trusted": true
      },
      "cell_type": "code",
      "source": "spam = ['cat', 'bat', 'rat', 'elephant']\ndel spam[3]\nspam",
      "execution_count": 22,
      "outputs": [
        {
          "output_type": "execute_result",
          "execution_count": 22,
          "data": {
            "text/plain": "['cat', 'bat', 'rat']"
          },
          "metadata": {}
        }
      ]
    },
    {
      "metadata": {
        "trusted": true
      },
      "cell_type": "code",
      "source": "del spam[0]\nspam",
      "execution_count": 23,
      "outputs": [
        {
          "output_type": "execute_result",
          "execution_count": 23,
          "data": {
            "text/plain": "['bat', 'rat']"
          },
          "metadata": {}
        }
      ]
    },
    {
      "metadata": {
        "trusted": true
      },
      "cell_type": "code",
      "source": "supplies = ['pens', 'staplers', 'flame-throuwers', 'binders']\nfor i in range(len(supplies)):\n    print(i)\n    print ('Index ' + str(i) + ' in supplies is: ' + supplies[i])",
      "execution_count": 26,
      "outputs": [
        {
          "output_type": "stream",
          "text": "0\nIndex 0 in supplies is: pens\n1\nIndex 1 in supplies is: staplers\n2\nIndex 2 in supplies is: flame-throuwers\n3\nIndex 3 in supplies is: binders\n",
          "name": "stdout"
        }
      ]
    },
    {
      "metadata": {
        "trusted": true
      },
      "cell_type": "code",
      "source": "print ('Index ' + str(i) + ' in supplies is: ' + supplies[i])",
      "execution_count": 27,
      "outputs": [
        {
          "output_type": "stream",
          "text": "Index 3 in supplies is: binders\n",
          "name": "stdout"
        }
      ]
    },
    {
      "metadata": {
        "trusted": true
      },
      "cell_type": "code",
      "source": "supplies[0]",
      "execution_count": 29,
      "outputs": [
        {
          "output_type": "execute_result",
          "execution_count": 29,
          "data": {
            "text/plain": "'pens'"
          },
          "metadata": {}
        }
      ]
    },
    {
      "metadata": {
        "trusted": true
      },
      "cell_type": "code",
      "source": "supplies[1]",
      "execution_count": 30,
      "outputs": [
        {
          "output_type": "execute_result",
          "execution_count": 30,
          "data": {
            "text/plain": "'staplers'"
          },
          "metadata": {}
        }
      ]
    },
    {
      "metadata": {
        "trusted": true
      },
      "cell_type": "code",
      "source": "for i in range(4):\n    print(i*2)",
      "execution_count": 31,
      "outputs": [
        {
          "output_type": "stream",
          "text": "0\n2\n4\n6\n",
          "name": "stdout"
        }
      ]
    },
    {
      "metadata": {
        "trusted": true
      },
      "cell_type": "code",
      "source": "'howdy' in ['hello', 'hi', 'howdy']",
      "execution_count": 32,
      "outputs": [
        {
          "output_type": "execute_result",
          "execution_count": 32,
          "data": {
            "text/plain": "True"
          },
          "metadata": {}
        }
      ]
    },
    {
      "metadata": {
        "trusted": true
      },
      "cell_type": "code",
      "source": "x=\"from india, speak hindi, vegiterian\"",
      "execution_count": 33,
      "outputs": []
    },
    {
      "metadata": {
        "trusted": true
      },
      "cell_type": "code",
      "source": "y=x.split(\",\")\ny",
      "execution_count": 35,
      "outputs": [
        {
          "output_type": "execute_result",
          "execution_count": 35,
          "data": {
            "text/plain": "['from india', ' speak hindi', ' vegiterian']"
          },
          "metadata": {}
        }
      ]
    },
    {
      "metadata": {
        "trusted": true
      },
      "cell_type": "code",
      "source": "for ev in y:\n   if hindi in(ev.split(' ')):\n     print('hey lets talk hindi)')",
      "execution_count": 43,
      "outputs": [
        {
          "output_type": "error",
          "ename": "NameError",
          "evalue": "name 'hindi' is not defined",
          "traceback": [
            "\u001b[0;31m---------------------------------------------------------------------------\u001b[0m",
            "\u001b[0;31mNameError\u001b[0m                                 Traceback (most recent call last)",
            "\u001b[0;32m<ipython-input-43-8bae0417362a>\u001b[0m in \u001b[0;36m<module>\u001b[0;34m\u001b[0m\n\u001b[1;32m      1\u001b[0m \u001b[0;32mfor\u001b[0m \u001b[0mev\u001b[0m \u001b[0;32min\u001b[0m \u001b[0my\u001b[0m\u001b[0;34m:\u001b[0m\u001b[0;34m\u001b[0m\u001b[0m\n\u001b[0;32m----> 2\u001b[0;31m    \u001b[0;32mif\u001b[0m \u001b[0mhindi\u001b[0m \u001b[0;32min\u001b[0m\u001b[0;34m(\u001b[0m\u001b[0mev\u001b[0m\u001b[0;34m.\u001b[0m\u001b[0msplit\u001b[0m\u001b[0;34m(\u001b[0m\u001b[0;34m' '\u001b[0m\u001b[0;34m)\u001b[0m\u001b[0;34m)\u001b[0m\u001b[0;34m:\u001b[0m\u001b[0;34m\u001b[0m\u001b[0m\n\u001b[0m\u001b[1;32m      3\u001b[0m      \u001b[0mprint\u001b[0m\u001b[0;34m(\u001b[0m\u001b[0;34m'hey lets talk hindi)'\u001b[0m\u001b[0;34m)\u001b[0m\u001b[0;34m\u001b[0m\u001b[0m\n",
            "\u001b[0;31mNameError\u001b[0m: name 'hindi' is not defined"
          ]
        }
      ]
    },
    {
      "metadata": {
        "trusted": true
      },
      "cell_type": "code",
      "source": "x=\"from india, speak hindi, vegeterian\"\ny=x.split(\",\")\nfor ev in y:\n   if 'hindi' in ev.split(' '):\n       print('Hey lets talk in hindi on phone')",
      "execution_count": 44,
      "outputs": [
        {
          "output_type": "stream",
          "text": "Hey lets talk in hindi on phone\n",
          "name": "stdout"
        }
      ]
    },
    {
      "metadata": {
        "trusted": true
      },
      "cell_type": "code",
      "source": "cat = ['fat', 'black', 'loud']\nsize = cat[0]\ncolor = cat[1]\ndisposition = cat[2]",
      "execution_count": 45,
      "outputs": []
    },
    {
      "metadata": {
        "trusted": true
      },
      "cell_type": "code",
      "source": "\n\nrat = ['fat', 'black', 'loud']\nsize, color, disposition = rat\nprint(rat)\n\n",
      "execution_count": 52,
      "outputs": [
        {
          "output_type": "stream",
          "text": "['fat', 'black', 'loud']\n",
          "name": "stdout"
        }
      ]
    },
    {
      "metadata": {
        "trusted": true
      },
      "cell_type": "code",
      "source": "spam = 42\nspam += 1\nspam",
      "execution_count": 53,
      "outputs": [
        {
          "output_type": "execute_result",
          "execution_count": 53,
          "data": {
            "text/plain": "43"
          },
          "metadata": {}
        }
      ]
    },
    {
      "metadata": {
        "trusted": true
      },
      "cell_type": "code",
      "source": "spam = 42\nspam =spam+ 1\nspam",
      "execution_count": 54,
      "outputs": [
        {
          "output_type": "execute_result",
          "execution_count": 54,
          "data": {
            "text/plain": "43"
          },
          "metadata": {}
        }
      ]
    },
    {
      "metadata": {
        "trusted": true
      },
      "cell_type": "code",
      "source": "spam = 'Hello'\nspam += ' world'\nspam",
      "execution_count": 55,
      "outputs": [
        {
          "output_type": "execute_result",
          "execution_count": 55,
          "data": {
            "text/plain": "'Hello world'"
          },
          "metadata": {}
        }
      ]
    },
    {
      "metadata": {
        "trusted": true
      },
      "cell_type": "code",
      "source": "x= ['4']\nx *= 3\nx",
      "execution_count": 57,
      "outputs": [
        {
          "output_type": "execute_result",
          "execution_count": 57,
          "data": {
            "text/plain": "['4', '4', '4']"
          },
          "metadata": {}
        }
      ]
    },
    {
      "metadata": {
        "trusted": true
      },
      "cell_type": "code",
      "source": "type(spam)",
      "execution_count": 61,
      "outputs": [
        {
          "output_type": "execute_result",
          "execution_count": 61,
          "data": {
            "text/plain": "list"
          },
          "metadata": {}
        }
      ]
    },
    {
      "metadata": {
        "trusted": true
      },
      "cell_type": "code",
      "source": "spam.index('hello world')",
      "execution_count": 60,
      "outputs": [
        {
          "output_type": "error",
          "ename": "ValueError",
          "evalue": "'hello world' is not in list",
          "traceback": [
            "\u001b[0;31m---------------------------------------------------------------------------\u001b[0m",
            "\u001b[0;31mValueError\u001b[0m                                Traceback (most recent call last)",
            "\u001b[0;32m<ipython-input-60-c4aec30a7ff3>\u001b[0m in \u001b[0;36m<module>\u001b[0;34m\u001b[0m\n\u001b[0;32m----> 1\u001b[0;31m \u001b[0mspam\u001b[0m\u001b[0;34m.\u001b[0m\u001b[0mindex\u001b[0m\u001b[0;34m(\u001b[0m\u001b[0;34m'hello world'\u001b[0m\u001b[0;34m)\u001b[0m\u001b[0;34m\u001b[0m\u001b[0m\n\u001b[0m",
            "\u001b[0;31mValueError\u001b[0m: 'hello world' is not in list"
          ]
        }
      ]
    },
    {
      "metadata": {
        "trusted": true
      },
      "cell_type": "code",
      "source": "spam = ['hello', 'hi', 'howdy', 'heyas']\nspam.index('hello')\n",
      "execution_count": 59,
      "outputs": [
        {
          "output_type": "execute_result",
          "execution_count": 59,
          "data": {
            "text/plain": "0"
          },
          "metadata": {}
        }
      ]
    },
    {
      "metadata": {
        "trusted": true
      },
      "cell_type": "code",
      "source": "spam = ['cat', 'dog', 'bat']\nspam.append('moose')\nspam",
      "execution_count": 62,
      "outputs": [
        {
          "output_type": "execute_result",
          "execution_count": 62,
          "data": {
            "text/plain": "['cat', 'dog', 'bat', 'moose']"
          },
          "metadata": {}
        }
      ]
    },
    {
      "metadata": {
        "trusted": true
      },
      "cell_type": "code",
      "source": "spam = ['cat', 'bat', 'rat', 'elephant']\nspam.remove('cat')\nspam",
      "execution_count": 64,
      "outputs": [
        {
          "output_type": "execute_result",
          "execution_count": 64,
          "data": {
            "text/plain": "['bat', 'rat', 'elephant']"
          },
          "metadata": {}
        }
      ]
    },
    {
      "metadata": {
        "trusted": true
      },
      "cell_type": "code",
      "source": "spam = [2, 5, 3.14, 1, -7]\nspam.sort()\nspam",
      "execution_count": 65,
      "outputs": [
        {
          "output_type": "execute_result",
          "execution_count": 65,
          "data": {
            "text/plain": "[-7, 1, 2, 3.14, 5]"
          },
          "metadata": {}
        }
      ]
    },
    {
      "metadata": {
        "trusted": true
      },
      "cell_type": "code",
      "source": "spam = ['ants', 'cats', 'dogs', 'badgers', 'elephants']\nspam.sort()\nspam",
      "execution_count": 66,
      "outputs": [
        {
          "output_type": "execute_result",
          "execution_count": 66,
          "data": {
            "text/plain": "['ants', 'badgers', 'cats', 'dogs', 'elephants']"
          },
          "metadata": {}
        }
      ]
    },
    {
      "metadata": {
        "trusted": true
      },
      "cell_type": "code",
      "source": "spam.sort(reverse=True)\nspam",
      "execution_count": 67,
      "outputs": [
        {
          "output_type": "execute_result",
          "execution_count": 67,
          "data": {
            "text/plain": "['elephants', 'dogs', 'cats', 'badgers', 'ants']"
          },
          "metadata": {}
        }
      ]
    },
    {
      "metadata": {
        "trusted": true
      },
      "cell_type": "code",
      "source": "spam = [1, 3, 2, 4, 'Alice', 'Bob']\nspam.sort()",
      "execution_count": 68,
      "outputs": [
        {
          "output_type": "error",
          "ename": "TypeError",
          "evalue": "'<' not supported between instances of 'str' and 'int'",
          "traceback": [
            "\u001b[0;31m---------------------------------------------------------------------------\u001b[0m",
            "\u001b[0;31mTypeError\u001b[0m                                 Traceback (most recent call last)",
            "\u001b[0;32m<ipython-input-68-c8acbeae1737>\u001b[0m in \u001b[0;36m<module>\u001b[0;34m\u001b[0m\n\u001b[1;32m      1\u001b[0m \u001b[0mspam\u001b[0m \u001b[0;34m=\u001b[0m \u001b[0;34m[\u001b[0m\u001b[0;36m1\u001b[0m\u001b[0;34m,\u001b[0m \u001b[0;36m3\u001b[0m\u001b[0;34m,\u001b[0m \u001b[0;36m2\u001b[0m\u001b[0;34m,\u001b[0m \u001b[0;36m4\u001b[0m\u001b[0;34m,\u001b[0m \u001b[0;34m'Alice'\u001b[0m\u001b[0;34m,\u001b[0m \u001b[0;34m'Bob'\u001b[0m\u001b[0;34m]\u001b[0m\u001b[0;34m\u001b[0m\u001b[0m\n\u001b[0;32m----> 2\u001b[0;31m \u001b[0mspam\u001b[0m\u001b[0;34m.\u001b[0m\u001b[0msort\u001b[0m\u001b[0;34m(\u001b[0m\u001b[0;34m)\u001b[0m\u001b[0;34m\u001b[0m\u001b[0m\n\u001b[0m",
            "\u001b[0;31mTypeError\u001b[0m: '<' not supported between instances of 'str' and 'int'"
          ]
        }
      ]
    },
    {
      "metadata": {
        "trusted": true
      },
      "cell_type": "code",
      "source": "spam = [4, 3, 2, 5]\nspam.sort()\nspam",
      "execution_count": 73,
      "outputs": [
        {
          "output_type": "execute_result",
          "execution_count": 73,
          "data": {
            "text/plain": "[2, 3, 4, 5]"
          },
          "metadata": {}
        }
      ]
    },
    {
      "metadata": {
        "trusted": true
      },
      "cell_type": "code",
      "source": "spam = ['a', 'z', 'Ajjjj', 'Z']\nspam.sort(key= len)\nspam",
      "execution_count": 81,
      "outputs": [
        {
          "output_type": "execute_result",
          "execution_count": 81,
          "data": {
            "text/plain": "['a', 'z', 'Z', 'Ajjjj']"
          },
          "metadata": {}
        }
      ]
    },
    {
      "metadata": {
        "trusted": true
      },
      "cell_type": "code",
      "source": "import random\n\nmessages = ['It is certain',\n    'It is decidedly so',\n    'Yes definitely',\n    'Reply hazy try again',\n    'Ask again later',\n    'Concentrate and ask again',\n    'My reply is no',\n    'Outlook not so good',\n    'Very doubtful']\n\nprint(messages[random.randint(0, len(messages) - 1)])\n",
      "execution_count": 86,
      "outputs": [
        {
          "output_type": "stream",
          "text": "Reply hazy try again\n",
          "name": "stdout"
        }
      ]
    },
    {
      "metadata": {
        "trusted": true
      },
      "cell_type": "code",
      "source": "",
      "execution_count": null,
      "outputs": []
    },
    {
      "metadata": {
        "trusted": true
      },
      "cell_type": "code",
      "source": "",
      "execution_count": null,
      "outputs": []
    },
    {
      "metadata": {
        "trusted": true
      },
      "cell_type": "code",
      "source": "random.randint(1,20)\n               ",
      "execution_count": 88,
      "outputs": [
        {
          "output_type": "execute_result",
          "execution_count": 88,
          "data": {
            "text/plain": "1"
          },
          "metadata": {}
        }
      ]
    },
    {
      "metadata": {
        "trusted": true
      },
      "cell_type": "code",
      "source": "print('Four score and seven ' + \n                                      'years ago...')",
      "execution_count": 91,
      "outputs": [
        {
          "output_type": "stream",
          "text": "Four score and seven years ago...\n",
          "name": "stdout"
        }
      ]
    },
    {
      "metadata": {
        "trusted": true
      },
      "cell_type": "code",
      "source": "spam = ['apples', 'bananas', 'tofu', 'cats']\n\nprint (str(spam))\n\n",
      "execution_count": 92,
      "outputs": [
        {
          "output_type": "stream",
          "text": "['apples', 'bananas', 'tofu', 'cats']\n",
          "name": "stdout"
        }
      ]
    },
    {
      "metadata": {
        "trusted": true
      },
      "cell_type": "code",
      "source": "for i in range(len(spam)-1):\n    print (spam[i])",
      "execution_count": 93,
      "outputs": [
        {
          "output_type": "stream",
          "text": "apples\nbananas\ntofu\n",
          "name": "stdout"
        }
      ]
    },
    {
      "metadata": {
        "trusted": true
      },
      "cell_type": "code",
      "source": "output = ''\nfor i in range(len(spam)-1):\n    output += spam[i] + ', ' \nprint (output)",
      "execution_count": 94,
      "outputs": [
        {
          "output_type": "stream",
          "text": "apples, bananas, tofu, \n",
          "name": "stdout"
        }
      ]
    },
    {
      "metadata": {
        "trusted": true
      },
      "cell_type": "code",
      "source": "def list2Str(spam):\n    output = ''\n    for i in range(len(spam)):\n        if i != len(spam) - 1:\n            output += spam[i] + ', ' \n        else:\n            output += 'and '+ spam[i]\n    return output\n",
      "execution_count": 95,
      "outputs": []
    },
    {
      "metadata": {
        "trusted": true
      },
      "cell_type": "code",
      "source": "row_list = input()",
      "execution_count": 97,
      "outputs": [
        {
          "output_type": "stream",
          "name": "stdout",
          "text": "['apples', 'bananas', 'tofu', 'cats']\n"
        }
      ]
    },
    {
      "metadata": {
        "trusted": true
      },
      "cell_type": "code",
      "source": "print(row_list)",
      "execution_count": 99,
      "outputs": [
        {
          "output_type": "stream",
          "text": "['apples', 'bananas', 'tofu', 'cats']\n",
          "name": "stdout"
        }
      ]
    },
    {
      "metadata": {
        "trusted": true
      },
      "cell_type": "code",
      "source": "row_list[0]",
      "execution_count": 100,
      "outputs": [
        {
          "output_type": "execute_result",
          "execution_count": 100,
          "data": {
            "text/plain": "'['"
          },
          "metadata": {}
        }
      ]
    },
    {
      "metadata": {
        "trusted": true
      },
      "cell_type": "code",
      "source": "list2Str(row_list)",
      "execution_count": 101,
      "outputs": [
        {
          "output_type": "execute_result",
          "execution_count": 101,
          "data": {
            "text/plain": "\"[, ', a, p, p, l, e, s, ', ,,  , ', b, a, n, a, n, a, s, ', ,,  , ', t, o, f, u, ', ,,  , ', c, a, t, s, ', and ]\""
          },
          "metadata": {}
        }
      ]
    },
    {
      "metadata": {
        "trusted": true
      },
      "cell_type": "code",
      "source": "cat_names = []\n\nfor i in range(2):\n    print ('Input the cat ' + str(len(cat_names)+1) + ' or input nothing to break')\n    name = input()\n    if name == '':\n        break\n    else:\n        cat_names = cat_names + [name]\n\nprint (\"Now you have cats: \")\n# for i in range(len(cat_names)):\n#     print (\"The cat \" + str(i) + \" is \" + cat_names[i])\nfor name in cat_names:\n    print (' ' + name)\n",
      "execution_count": 105,
      "outputs": [
        {
          "output_type": "stream",
          "text": "Input the cat 1 or input nothing to break\ntony\nInput the cat 2 or input nothing to break\ntoby\nNow you have cats: \n tony\n toby\n",
          "name": "stdout"
        }
      ]
    },
    {
      "metadata": {
        "trusted": true
      },
      "cell_type": "code",
      "source": "import random\n\nmessages = ['It is certain',\n    'It is decidedly so',\n    'Yes definitely',\n    'Reply hazy try again',\n    'Ask again later',\n    'Concentrate and ask again',\n    'My reply is no',\n    'Outlook not so good',\n    'Very doubtful']\n\nprint (messages[random.randint(0, len(messages)-1)])\n",
      "execution_count": 106,
      "outputs": [
        {
          "output_type": "stream",
          "text": "It is certain\n",
          "name": "stdout"
        }
      ]
    },
    {
      "metadata": {
        "trusted": true
      },
      "cell_type": "code",
      "source": "spam = {'color': 'red', 'age': 42,'weight': 174 }\nfor k,v in spam.items():\n    print (k,v)",
      "execution_count": 110,
      "outputs": [
        {
          "output_type": "stream",
          "text": "color red\nage 42\nweight 174\n",
          "name": "stdout"
        }
      ]
    },
    {
      "metadata": {
        "trusted": true
      },
      "cell_type": "code",
      "source": "for k, v in spam.items():\n    print ('Key: ' + k + ' Value: ' + str(v))",
      "execution_count": 111,
      "outputs": [
        {
          "output_type": "stream",
          "text": "Key: color Value: red\nKey: age Value: 42\nKey: weight Value: 174\n",
          "name": "stdout"
        }
      ]
    },
    {
      "metadata": {
        "trusted": true
      },
      "cell_type": "code",
      "source": "message = 'It was a bright cold day in April, and the clocks were striking thirteen.'\nfor cha in message:\n    print (cha)",
      "execution_count": 112,
      "outputs": [
        {
          "output_type": "stream",
          "text": "I\nt\n \nw\na\ns\n \na\n \nb\nr\ni\ng\nh\nt\n \nc\no\nl\nd\n \nd\na\ny\n \ni\nn\n \nA\np\nr\ni\nl\n,\n \na\nn\nd\n \nt\nh\ne\n \nc\nl\no\nc\nk\ns\n \nw\ne\nr\ne\n \ns\nt\nr\ni\nk\ni\nn\ng\n \nt\nh\ni\nr\nt\ne\ne\nn\n.\n",
          "name": "stdout"
        }
      ]
    },
    {
      "metadata": {
        "trusted": true
      },
      "cell_type": "code",
      "source": "import pprint\nmessage = 'It was a bright cold day in April, and the clocks were striking thirteen.'\ncount = {}\n\nfor character in message:\n    count.setdefault(character, 0)\n    count[character] = count[character] + 1\n\npprint.pprint(count)",
      "execution_count": 115,
      "outputs": [
        {
          "output_type": "stream",
          "text": "{' ': 13,\n ',': 1,\n '.': 1,\n 'A': 1,\n 'I': 1,\n 'a': 4,\n 'b': 1,\n 'c': 3,\n 'd': 3,\n 'e': 5,\n 'g': 2,\n 'h': 3,\n 'i': 6,\n 'k': 2,\n 'l': 3,\n 'n': 4,\n 'o': 2,\n 'p': 1,\n 'r': 5,\n 's': 3,\n 't': 6,\n 'w': 2,\n 'y': 1}\n",
          "name": "stdout"
        }
      ]
    },
    {
      "metadata": {
        "trusted": true
      },
      "cell_type": "code",
      "source": "someDictionaryValue = {\"data\": [{\"type\": \"locale\", \"lat\": -34.43778387240597, \"lon\": 150.04799169921876},\n{\"type\": \"poi\", \"lat\": -34.96615974838191, \"lon\": 149.89967626953126},\n{\"type\": \"locale\", \"lat\": -34.72271328279892, \"lon\": 150.46547216796876},\n{\"type\": \"poi\", \"lat\": -34.67303411621243, \"lon\": 149.96559423828126}]}\n\n# pprint.pprint(someDictionaryValue)\n# print (pprint.pformat(someDictionaryValue))",
      "execution_count": 117,
      "outputs": []
    },
    {
      "metadata": {
        "trusted": true
      },
      "cell_type": "code",
      "source": "someDictionaryValue[\"data\"][0]['lat']",
      "execution_count": 120,
      "outputs": [
        {
          "output_type": "execute_result",
          "execution_count": 120,
          "data": {
            "text/plain": "-34.43778387240597"
          },
          "metadata": {}
        }
      ]
    },
    {
      "metadata": {
        "trusted": true
      },
      "cell_type": "code",
      "source": "theBoard = {'top-L': ' ', 'top-M': ' ', 'top-R': ' ',\n            'mid-L': ' ', 'mid-M': ' ', 'mid-R': ' ',\n            'low-L': ' ', 'low-M': ' ', 'low-R': ' '}\n\ndef printBoard(board):\n    print(board['top-L'] + '|' + board['top-M'] + '|' + board['top-R'])\n    print('-+-+-')\n    print(board['mid-L'] + '|' + board['mid-M'] + '|' + board['mid-R'])\n    print('-+-+-')\n    print(board['low-L'] + '|' + board['low-M'] + '|' + board['low-R'])\nprintBoard(theBoard)",
      "execution_count": 121,
      "outputs": [
        {
          "output_type": "stream",
          "text": " | | \n-+-+-\n | | \n-+-+-\n | | \n",
          "name": "stdout"
        }
      ]
    },
    {
      "metadata": {
        "trusted": true
      },
      "cell_type": "code",
      "source": "theBoard = {'top-L': 'x', 'top-M': 'x', 'top-R': 'O', 'mid-L': 'X', 'mid-M':\n'X', 'mid-R': ' ', 'low-L': ' ', 'low-M': ' ', 'low-R': 'X'}\n\ndef printBoard(board):\n    print(board['top-L'] + '|' + board['top-M'] + '|' + board['top-R'])\n    print('-+-+-')\n    print(board['mid-L'] + '|' + board['mid-M'] + '|' + board['mid-R'])\n    print('-+-+-')\n    print(board['low-L'] + '|' + board['low-M'] + '|' + board['low-R'])\nprintBoard(theBoard)",
      "execution_count": 124,
      "outputs": [
        {
          "output_type": "stream",
          "text": "x|x|O\n-+-+-\nX|X| \n-+-+-\n | |X\n",
          "name": "stdout"
        }
      ]
    },
    {
      "metadata": {
        "trusted": true
      },
      "cell_type": "code",
      "source": "dragonLoot = ['gold coin', 'dagger', 'gold coin', 'gold coin', 'ruby']\nfor i in dragonLoot:\n    print (i)",
      "execution_count": 125,
      "outputs": [
        {
          "output_type": "stream",
          "text": "gold coin\ndagger\ngold coin\ngold coin\nruby\n",
          "name": "stdout"
        }
      ]
    },
    {
      "metadata": {
        "trusted": true
      },
      "cell_type": "code",
      "source": "inv = {'gold coin': 42, 'rope': 1}\n\nfor k, v in inv.items():\n    print (k, v)\n",
      "execution_count": 126,
      "outputs": [
        {
          "output_type": "stream",
          "text": "gold coin 42\nrope 1\n",
          "name": "stdout"
        }
      ]
    },
    {
      "metadata": {
        "trusted": true
      },
      "cell_type": "code",
      "source": "birthdays = {'Alice': 'Apr 1', 'Bob': 'Dec 12', 'Carol': 'Mar 4'}\n\nwhile True:\n    print ('Enter a name: (blank to quit)')\n    name = input()\n    if name == '':\n        break\n    if name in birthdays:\n        print (birthdays[name] + ' is the birthdays name of ' + name)\n    else:\n        print ('I do not have birthday infomation for ' + name)\n        print ('What is their birthday?')\n        bday = input()\n        birthdays[name] = bday\n        print ('Birthday database updated.')\n        \n",
      "execution_count": 128,
      "outputs": [
        {
          "output_type": "stream",
          "text": "Enter a name: (blank to quit)\n \nI do not have birthday infomation for  \nWhat is their birthday?\n",
          "name": "stdout"
        },
        {
          "output_type": "error",
          "ename": "KeyboardInterrupt",
          "evalue": "",
          "traceback": [
            "\u001b[0;31m---------------------------------------------------------------------------\u001b[0m",
            "\u001b[0;31mKeyboardInterrupt\u001b[0m                         Traceback (most recent call last)",
            "\u001b[0;32m~/anaconda3_501/lib/python3.6/site-packages/ipykernel/kernelbase.py\u001b[0m in \u001b[0;36m_input_request\u001b[0;34m(self, prompt, ident, parent, password)\u001b[0m\n\u001b[1;32m    877\u001b[0m             \u001b[0;32mtry\u001b[0m\u001b[0;34m:\u001b[0m\u001b[0;34m\u001b[0m\u001b[0m\n\u001b[0;32m--> 878\u001b[0;31m                 \u001b[0mident\u001b[0m\u001b[0;34m,\u001b[0m \u001b[0mreply\u001b[0m \u001b[0;34m=\u001b[0m \u001b[0mself\u001b[0m\u001b[0;34m.\u001b[0m\u001b[0msession\u001b[0m\u001b[0;34m.\u001b[0m\u001b[0mrecv\u001b[0m\u001b[0;34m(\u001b[0m\u001b[0mself\u001b[0m\u001b[0;34m.\u001b[0m\u001b[0mstdin_socket\u001b[0m\u001b[0;34m,\u001b[0m \u001b[0;36m0\u001b[0m\u001b[0;34m)\u001b[0m\u001b[0;34m\u001b[0m\u001b[0m\n\u001b[0m\u001b[1;32m    879\u001b[0m             \u001b[0;32mexcept\u001b[0m \u001b[0mException\u001b[0m\u001b[0;34m:\u001b[0m\u001b[0;34m\u001b[0m\u001b[0m\n",
            "\u001b[0;32m~/anaconda3_501/lib/python3.6/site-packages/jupyter_client/session.py\u001b[0m in \u001b[0;36mrecv\u001b[0;34m(self, socket, mode, content, copy)\u001b[0m\n\u001b[1;32m    802\u001b[0m         \u001b[0;32mtry\u001b[0m\u001b[0;34m:\u001b[0m\u001b[0;34m\u001b[0m\u001b[0m\n\u001b[0;32m--> 803\u001b[0;31m             \u001b[0mmsg_list\u001b[0m \u001b[0;34m=\u001b[0m \u001b[0msocket\u001b[0m\u001b[0;34m.\u001b[0m\u001b[0mrecv_multipart\u001b[0m\u001b[0;34m(\u001b[0m\u001b[0mmode\u001b[0m\u001b[0;34m,\u001b[0m \u001b[0mcopy\u001b[0m\u001b[0;34m=\u001b[0m\u001b[0mcopy\u001b[0m\u001b[0;34m)\u001b[0m\u001b[0;34m\u001b[0m\u001b[0m\n\u001b[0m\u001b[1;32m    804\u001b[0m         \u001b[0;32mexcept\u001b[0m \u001b[0mzmq\u001b[0m\u001b[0;34m.\u001b[0m\u001b[0mZMQError\u001b[0m \u001b[0;32mas\u001b[0m \u001b[0me\u001b[0m\u001b[0;34m:\u001b[0m\u001b[0;34m\u001b[0m\u001b[0m\n",
            "\u001b[0;32m~/anaconda3_501/lib/python3.6/site-packages/zmq/sugar/socket.py\u001b[0m in \u001b[0;36mrecv_multipart\u001b[0;34m(self, flags, copy, track)\u001b[0m\n\u001b[1;32m    466\u001b[0m         \"\"\"\n\u001b[0;32m--> 467\u001b[0;31m         \u001b[0mparts\u001b[0m \u001b[0;34m=\u001b[0m \u001b[0;34m[\u001b[0m\u001b[0mself\u001b[0m\u001b[0;34m.\u001b[0m\u001b[0mrecv\u001b[0m\u001b[0;34m(\u001b[0m\u001b[0mflags\u001b[0m\u001b[0;34m,\u001b[0m \u001b[0mcopy\u001b[0m\u001b[0;34m=\u001b[0m\u001b[0mcopy\u001b[0m\u001b[0;34m,\u001b[0m \u001b[0mtrack\u001b[0m\u001b[0;34m=\u001b[0m\u001b[0mtrack\u001b[0m\u001b[0;34m)\u001b[0m\u001b[0;34m]\u001b[0m\u001b[0;34m\u001b[0m\u001b[0m\n\u001b[0m\u001b[1;32m    468\u001b[0m         \u001b[0;31m# have first part already, only loop while more to receive\u001b[0m\u001b[0;34m\u001b[0m\u001b[0;34m\u001b[0m\u001b[0m\n",
            "\u001b[0;32mzmq/backend/cython/socket.pyx\u001b[0m in \u001b[0;36mzmq.backend.cython.socket.Socket.recv\u001b[0;34m()\u001b[0m\n",
            "\u001b[0;32mzmq/backend/cython/socket.pyx\u001b[0m in \u001b[0;36mzmq.backend.cython.socket.Socket.recv\u001b[0;34m()\u001b[0m\n",
            "\u001b[0;32mzmq/backend/cython/socket.pyx\u001b[0m in \u001b[0;36mzmq.backend.cython.socket._recv_copy\u001b[0;34m()\u001b[0m\n",
            "\u001b[0;32m~/anaconda3_501/lib/python3.6/site-packages/zmq/backend/cython/checkrc.pxd\u001b[0m in \u001b[0;36mzmq.backend.cython.checkrc._check_rc\u001b[0;34m()\u001b[0m\n",
            "\u001b[0;31mKeyboardInterrupt\u001b[0m: ",
            "\nDuring handling of the above exception, another exception occurred:\n",
            "\u001b[0;31mKeyboardInterrupt\u001b[0m                         Traceback (most recent call last)",
            "\u001b[0;32m<ipython-input-128-940f8ab1749a>\u001b[0m in \u001b[0;36m<module>\u001b[0;34m\u001b[0m\n\u001b[1;32m     11\u001b[0m         \u001b[0mprint\u001b[0m \u001b[0;34m(\u001b[0m\u001b[0;34m'I do not have birthday infomation for '\u001b[0m \u001b[0;34m+\u001b[0m \u001b[0mname\u001b[0m\u001b[0;34m)\u001b[0m\u001b[0;34m\u001b[0m\u001b[0m\n\u001b[1;32m     12\u001b[0m         \u001b[0mprint\u001b[0m \u001b[0;34m(\u001b[0m\u001b[0;34m'What is their birthday?'\u001b[0m\u001b[0;34m)\u001b[0m\u001b[0;34m\u001b[0m\u001b[0m\n\u001b[0;32m---> 13\u001b[0;31m         \u001b[0mbday\u001b[0m \u001b[0;34m=\u001b[0m \u001b[0minput\u001b[0m\u001b[0;34m(\u001b[0m\u001b[0;34m)\u001b[0m\u001b[0;34m\u001b[0m\u001b[0m\n\u001b[0m\u001b[1;32m     14\u001b[0m         \u001b[0mbirthdays\u001b[0m\u001b[0;34m[\u001b[0m\u001b[0mname\u001b[0m\u001b[0;34m]\u001b[0m \u001b[0;34m=\u001b[0m \u001b[0mbday\u001b[0m\u001b[0;34m\u001b[0m\u001b[0m\n\u001b[1;32m     15\u001b[0m         \u001b[0mprint\u001b[0m \u001b[0;34m(\u001b[0m\u001b[0;34m'Birthday database updated.'\u001b[0m\u001b[0;34m)\u001b[0m\u001b[0;34m\u001b[0m\u001b[0m\n",
            "\u001b[0;32m~/anaconda3_501/lib/python3.6/site-packages/ipykernel/kernelbase.py\u001b[0m in \u001b[0;36mraw_input\u001b[0;34m(self, prompt)\u001b[0m\n\u001b[1;32m    851\u001b[0m             \u001b[0mself\u001b[0m\u001b[0;34m.\u001b[0m\u001b[0m_parent_ident\u001b[0m\u001b[0;34m,\u001b[0m\u001b[0;34m\u001b[0m\u001b[0m\n\u001b[1;32m    852\u001b[0m             \u001b[0mself\u001b[0m\u001b[0;34m.\u001b[0m\u001b[0m_parent_header\u001b[0m\u001b[0;34m,\u001b[0m\u001b[0;34m\u001b[0m\u001b[0m\n\u001b[0;32m--> 853\u001b[0;31m             \u001b[0mpassword\u001b[0m\u001b[0;34m=\u001b[0m\u001b[0;32mFalse\u001b[0m\u001b[0;34m,\u001b[0m\u001b[0;34m\u001b[0m\u001b[0m\n\u001b[0m\u001b[1;32m    854\u001b[0m         )\n\u001b[1;32m    855\u001b[0m \u001b[0;34m\u001b[0m\u001b[0m\n",
            "\u001b[0;32m~/anaconda3_501/lib/python3.6/site-packages/ipykernel/kernelbase.py\u001b[0m in \u001b[0;36m_input_request\u001b[0;34m(self, prompt, ident, parent, password)\u001b[0m\n\u001b[1;32m    881\u001b[0m             \u001b[0;32mexcept\u001b[0m \u001b[0mKeyboardInterrupt\u001b[0m\u001b[0;34m:\u001b[0m\u001b[0;34m\u001b[0m\u001b[0m\n\u001b[1;32m    882\u001b[0m                 \u001b[0;31m# re-raise KeyboardInterrupt, to truncate traceback\u001b[0m\u001b[0;34m\u001b[0m\u001b[0;34m\u001b[0m\u001b[0m\n\u001b[0;32m--> 883\u001b[0;31m                 \u001b[0;32mraise\u001b[0m \u001b[0mKeyboardInterrupt\u001b[0m\u001b[0;34m\u001b[0m\u001b[0m\n\u001b[0m\u001b[1;32m    884\u001b[0m             \u001b[0;32melse\u001b[0m\u001b[0;34m:\u001b[0m\u001b[0;34m\u001b[0m\u001b[0m\n\u001b[1;32m    885\u001b[0m                 \u001b[0;32mbreak\u001b[0m\u001b[0;34m\u001b[0m\u001b[0m\n",
            "\u001b[0;31mKeyboardInterrupt\u001b[0m: "
          ]
        }
      ]
    },
    {
      "metadata": {
        "trusted": true
      },
      "cell_type": "code",
      "source": "message = 'It was a bright cold day in April, and the clocks were striking thirteen.'\n\ncount = {}\n\nfor character in message:\n    count.setdefault(character, 0)\n    count[character] = count[character] + 1\n    print(character, count[character] )\n\nprint (count)\n",
      "execution_count": 130,
      "outputs": [
        {
          "output_type": "stream",
          "text": "I 1\nt 1\n  1\nw 1\na 1\ns 1\n  2\na 2\n  3\nb 1\nr 1\ni 1\ng 1\nh 1\nt 2\n  4\nc 1\no 1\nl 1\nd 1\n  5\nd 2\na 3\ny 1\n  6\ni 2\nn 1\n  7\nA 1\np 1\nr 2\ni 3\nl 2\n, 1\n  8\na 4\nn 2\nd 3\n  9\nt 3\nh 2\ne 1\n  10\nc 2\nl 3\no 2\nc 3\nk 1\ns 2\n  11\nw 2\ne 2\nr 3\ne 3\n  12\ns 3\nt 4\nr 4\ni 4\nk 2\ni 5\nn 3\ng 2\n  13\nt 5\nh 3\ni 6\nr 5\nt 6\ne 4\ne 5\nn 4\n. 1\n{'I': 1, 't': 6, ' ': 13, 'w': 2, 'a': 4, 's': 3, 'b': 1, 'r': 5, 'i': 6, 'g': 2, 'h': 3, 'c': 3, 'o': 2, 'l': 3, 'd': 3, 'y': 1, 'n': 4, 'A': 1, 'p': 1, ',': 1, 'e': 5, 'k': 2, '.': 1}\n",
          "name": "stdout"
        }
      ]
    },
    {
      "metadata": {
        "trusted": true
      },
      "cell_type": "code",
      "source": "message = 'It It was a bright cold day in April, and the clocks were striking thirteen.'\n\ncount = {}\n\nfor character in message.split(' '):\n    count.setdefault(character, 0)\n    count[character] = count[character] + 1\n\nprint (count)",
      "execution_count": 3,
      "outputs": [
        {
          "output_type": "stream",
          "text": "{'It': 2, 'was': 1, 'a': 1, 'bright': 1, 'cold': 1, 'day': 1, 'in': 1, 'April,': 1, 'and': 1, 'the': 1, 'clocks': 1, 'were': 1, 'striking': 1, 'thirteen.': 1}\n",
          "name": "stdout"
        }
      ]
    },
    {
      "metadata": {
        "trusted": true
      },
      "cell_type": "code",
      "source": " message.split(' ')",
      "execution_count": 4,
      "outputs": [
        {
          "output_type": "execute_result",
          "execution_count": 4,
          "data": {
            "text/plain": "['It',\n 'It',\n 'was',\n 'a',\n 'bright',\n 'cold',\n 'day',\n 'in',\n 'April,',\n 'and',\n 'the',\n 'clocks',\n 'were',\n 'striking',\n 'thirteen.']"
          },
          "metadata": {}
        }
      ]
    },
    {
      "metadata": {
        "trusted": true
      },
      "cell_type": "code",
      "source": "import pprint\n\nmessage = 'It was a bright cold day in April, and the clocks were striking thirteen.It was very cold'\n\ncount = {}\n\nfor character in message.split(' '):\n    count.setdefault(character, 0)\n    count[character] = count[character] + 1\n\npprint.pprint (count)",
      "execution_count": 7,
      "outputs": [
        {
          "output_type": "stream",
          "text": "{'April,': 1,\n 'It': 1,\n 'a': 1,\n 'and': 1,\n 'bright': 1,\n 'clocks': 1,\n 'cold': 2,\n 'day': 1,\n 'in': 1,\n 'striking': 1,\n 'the': 1,\n 'thirteen.It': 1,\n 'very': 1,\n 'was': 2,\n 'were': 1}\n",
          "name": "stdout"
        }
      ]
    },
    {
      "metadata": {
        "trusted": true
      },
      "cell_type": "code",
      "source": "theBoard = {'top-L': ' ', 'top-M': ' ', 'top-R': ' ', 'mid-L': ' ', 'mid-M': ' ',\\\n 'mid-R': ' ', 'low-L': ' ', 'low-M': ' ', 'low-R': ' '}\n\ndef printBoard(board):\n    print(board['top-L'] + '|' + board['top-M'] + '|' + board['top-R'])\n    print('-+-+-')\n    print(board['mid-L'] + '|' + board['mid-M'] + '|' + board['mid-R'])\n    print('-+-+-')\n    print(board['low-L'] + '|' + board['low-M'] + '|' + board['low-R'])\n\n\nturn = 'X'\nfor i in range(9):\n    printBoard(theBoard)\n    print ('Turn for ' + turn + '. Move on which space?')\n    move = input()\n    theBoard[move] = turn\n    if turn == 'X':\n        turn = '0'\n    else:\n        turn = 'X'\nprintBoard(theBoard)",
      "execution_count": 8,
      "outputs": [
        {
          "output_type": "stream",
          "text": " | | \n-+-+-\n | | \n-+-+-\n | | \nTurn for X. Move on which space?\nx\n | | \n-+-+-\n | | \n-+-+-\n | | \nTurn for 0. Move on which space?\n0\n | | \n-+-+-\n | | \n-+-+-\n | | \nTurn for X. Move on which space?\nx\n | | \n-+-+-\n | | \n-+-+-\n | | \nTurn for 0. Move on which space?\nx\n | | \n-+-+-\n | | \n-+-+-\n | | \nTurn for X. Move on which space?\n0\n | | \n-+-+-\n | | \n-+-+-\n | | \nTurn for 0. Move on which space?\ntop-L\n0| | \n-+-+-\n | | \n-+-+-\n | | \nTurn for X. Move on which space?\ntop-M\n0|X| \n-+-+-\n | | \n-+-+-\n | | \nTurn for 0. Move on which space?\nlow-R\n0|X| \n-+-+-\n | | \n-+-+-\n | |0\nTurn for X. Move on which space?\nmid-M\n0|X| \n-+-+-\n |X| \n-+-+-\n | |0\n",
          "name": "stdout"
        }
      ]
    },
    {
      "metadata": {
        "trusted": true
      },
      "cell_type": "code",
      "source": "low-M\n",
      "execution_count": 9,
      "outputs": [
        {
          "output_type": "error",
          "ename": "NameError",
          "evalue": "name 'low' is not defined",
          "traceback": [
            "\u001b[0;31m---------------------------------------------------------------------------\u001b[0m",
            "\u001b[0;31mNameError\u001b[0m                                 Traceback (most recent call last)",
            "\u001b[0;32m<ipython-input-9-9b0d8814df69>\u001b[0m in \u001b[0;36m<module>\u001b[0;34m\u001b[0m\n\u001b[0;32m----> 1\u001b[0;31m \u001b[0mlow\u001b[0m\u001b[0;34m-\u001b[0m\u001b[0mM\u001b[0m\u001b[0;34m\u001b[0m\u001b[0m\n\u001b[0m",
            "\u001b[0;31mNameError\u001b[0m: name 'low' is not defined"
          ]
        }
      ]
    },
    {
      "metadata": {
        "trusted": true
      },
      "cell_type": "code",
      "source": "allGuests = {\n    'Alice': {'apples': 5, 'pretzels': 12},\n    'Bob': {'ham sandwiches': 3, 'apples': 2},\n    'Carol': {'cups': 3, 'apple pies': 1}\n    }\n\ndef totalBrought(guests, item):\n    numBrought = 0\n    for k, v in guests.items():\n        numBrought = numBrought + v.get(item, 0)\n    return numBrought\n\nprint('Number of things being brought:')\nprint(' - Apples ' + str(totalBrought(allGuests, 'apples')))\nprint(' - Cups ' + str(totalBrought(allGuests, 'cups')))\nprint(' - Cakes ' + str(totalBrought(allGuests, 'cakes')))\nprint(' - Ham Sandwiches ' + str(totalBrought(allGuests, 'ham sandwiches')))\nprint(' - Apple Pies ' + str(totalBrought(allGuests, 'apple pies')))",
      "execution_count": 12,
      "outputs": [
        {
          "output_type": "stream",
          "text": "Number of things being brought:\n - Apples 7\n - Cups 3\n - Cakes 0\n - Ham Sandwiches 3\n - Apple Pies 1\n",
          "name": "stdout"
        }
      ]
    },
    {
      "metadata": {
        "trusted": true
      },
      "cell_type": "code",
      "source": "dic = {\"A\":1, \"B\":2}\nprint(dic.get(\"A\"))\nprint(dic.get(\"C\"))\nprint(dic.get(\"C\",\"Not Found ! \"))",
      "execution_count": 13,
      "outputs": [
        {
          "output_type": "stream",
          "text": "1\nNone\nNot Found ! \n",
          "name": "stdout"
        }
      ]
    },
    {
      "metadata": {
        "trusted": true
      },
      "cell_type": "code",
      "source": "for k,v in allGuests.items():\n   print(k,\"---------------------------\",v)",
      "execution_count": 14,
      "outputs": [
        {
          "output_type": "stream",
          "text": "Alice --------------------------- {'apples': 5, 'pretzels': 12}\nBob --------------------------- {'ham sandwiches': 3, 'apples': 2}\nCarol --------------------------- {'cups': 3, 'apple pies': 1}\n",
          "name": "stdout"
        }
      ]
    },
    {
      "metadata": {
        "trusted": true
      },
      "cell_type": "code",
      "source": "for k,v in allGuests.items():\n   print(k,\"---------------------------\",v)\n   for k1,v1 in v.items():\n           print(k1,\"$$$$$$$$$$$$$$$$$$$$$$$$\",v1)",
      "execution_count": 15,
      "outputs": [
        {
          "output_type": "stream",
          "text": "Alice --------------------------- {'apples': 5, 'pretzels': 12}\napples $$$$$$$$$$$$$$$$$$$$$$$$ 5\npretzels $$$$$$$$$$$$$$$$$$$$$$$$ 12\nBob --------------------------- {'ham sandwiches': 3, 'apples': 2}\nham sandwiches $$$$$$$$$$$$$$$$$$$$$$$$ 3\napples $$$$$$$$$$$$$$$$$$$$$$$$ 2\nCarol --------------------------- {'cups': 3, 'apple pies': 1}\ncups $$$$$$$$$$$$$$$$$$$$$$$$ 3\napple pies $$$$$$$$$$$$$$$$$$$$$$$$ 1\n",
          "name": "stdout"
        }
      ]
    },
    {
      "metadata": {
        "trusted": true
      },
      "cell_type": "code",
      "source": "def joshi(idic):\n   for k,v in idic.items():\n       print(k,\"---------------------------\",v)\n       for k1,v1 in v.items():\n               print(k1,\"$$$$$$$$$$$$$$$$$$$$$$$$\",v1)",
      "execution_count": 16,
      "outputs": []
    },
    {
      "metadata": {
        "trusted": true
      },
      "cell_type": "code",
      "source": "joshi(allGuests)",
      "execution_count": 17,
      "outputs": [
        {
          "output_type": "stream",
          "text": "Alice --------------------------- {'apples': 5, 'pretzels': 12}\napples $$$$$$$$$$$$$$$$$$$$$$$$ 5\npretzels $$$$$$$$$$$$$$$$$$$$$$$$ 12\nBob --------------------------- {'ham sandwiches': 3, 'apples': 2}\nham sandwiches $$$$$$$$$$$$$$$$$$$$$$$$ 3\napples $$$$$$$$$$$$$$$$$$$$$$$$ 2\nCarol --------------------------- {'cups': 3, 'apple pies': 1}\ncups $$$$$$$$$$$$$$$$$$$$$$$$ 3\napple pies $$$$$$$$$$$$$$$$$$$$$$$$ 1\n",
          "name": "stdout"
        }
      ]
    },
    {
      "metadata": {
        "trusted": true
      },
      "cell_type": "code",
      "source": "def joshi(idic, xxx):\n   for k,v in idic.items():\n       #print(k,\"---------------------------\",v)\n       for k1,v1 in v.items():\n           if xxx==k1:\n               print(k1,\"$$$$$$$$$$$$$$$$$$$$$$$$\",v1)\njoshi(allGuests, 'apples')",
      "execution_count": 18,
      "outputs": [
        {
          "output_type": "stream",
          "text": "apples $$$$$$$$$$$$$$$$$$$$$$$$ 5\napples $$$$$$$$$$$$$$$$$$$$$$$$ 2\n",
          "name": "stdout"
        }
      ]
    },
    {
      "metadata": {
        "trusted": true
      },
      "cell_type": "code",
      "source": "import os\nos.path.join('usr', 'bin', 'spam')",
      "execution_count": 19,
      "outputs": [
        {
          "output_type": "execute_result",
          "execution_count": 19,
          "data": {
            "text/plain": "'usr/bin/spam'"
          },
          "metadata": {}
        }
      ]
    },
    {
      "metadata": {
        "trusted": true
      },
      "cell_type": "code",
      "source": "pwd",
      "execution_count": 20,
      "outputs": [
        {
          "output_type": "execute_result",
          "execution_count": 20,
          "data": {
            "text/plain": "'/home/nbuser/library'"
          },
          "metadata": {}
        }
      ]
    },
    {
      "metadata": {
        "trusted": true
      },
      "cell_type": "code",
      "source": "my_files = ['account.txt', 'detail.csv', 'invite.docx']\nfor filename in my_files:\n    print (os.path.join('/Users/xu/Udacity/Automate_the_Boring_Stuff_with_Python_Solutions/8_Reading_and_Writing_Files', filename))",
      "execution_count": 21,
      "outputs": [
        {
          "output_type": "stream",
          "text": "/Users/xu/Udacity/Automate_the_Boring_Stuff_with_Python_Solutions/8_Reading_and_Writing_Files/account.txt\n/Users/xu/Udacity/Automate_the_Boring_Stuff_with_Python_Solutions/8_Reading_and_Writing_Files/detail.csv\n/Users/xu/Udacity/Automate_the_Boring_Stuff_with_Python_Solutions/8_Reading_and_Writing_Files/invite.docx\n",
          "name": "stdout"
        }
      ]
    },
    {
      "metadata": {
        "trusted": true
      },
      "cell_type": "code",
      "source": "",
      "execution_count": null,
      "outputs": []
    }
  ],
  "metadata": {
    "kernelspec": {
      "name": "python36",
      "display_name": "Python 3.6",
      "language": "python"
    },
    "language_info": {
      "mimetype": "text/x-python",
      "nbconvert_exporter": "python",
      "name": "python",
      "pygments_lexer": "ipython3",
      "version": "3.6.6",
      "file_extension": ".py",
      "codemirror_mode": {
        "version": 3,
        "name": "ipython"
      }
    }
  },
  "nbformat": 4,
  "nbformat_minor": 2
}